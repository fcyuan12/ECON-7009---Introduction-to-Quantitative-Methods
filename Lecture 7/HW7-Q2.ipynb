{
 "cells": [
  {
   "cell_type": "markdown",
   "source": [
    "## HW7-Q2"
   ],
   "metadata": {}
  },
  {
   "cell_type": "markdown",
   "source": [
    "Find the hessian $D^2 f$ of each of the following functions. \n",
    "\n",
    "Evaluate the hessians at the specified points, and examine if the hessian is positive definite, negative definite, positive semidefinite, negative semidefinite, or indefinite."
   ],
   "metadata": {}
  },
  {
   "cell_type": "code",
   "execution_count": 1,
   "source": [
    "using LinearAlgebra, Calculus, CalculusWithJulia "
   ],
   "outputs": [],
   "metadata": {}
  },
  {
   "cell_type": "markdown",
   "source": [
    "### (a)\n",
    "\n",
    "$$\n",
    "f(x) = x_1^2 + \\sqrt{x_2}, \\quad x= (1,1)\n",
    "$$"
   ],
   "metadata": {}
  },
  {
   "cell_type": "code",
   "execution_count": 2,
   "source": [
    "FunctionA(x1, x2) = x1^2 + sqrt(x2)"
   ],
   "outputs": [
    {
     "output_type": "execute_result",
     "data": {
      "text/plain": [
       "FunctionA (generic function with 1 method)"
      ]
     },
     "metadata": {},
     "execution_count": 2
    }
   ],
   "metadata": {}
  },
  {
   "cell_type": "code",
   "execution_count": 3,
   "source": [
    "@vars x1 x2; H_A = sympy.hessian(FunctionA(x1, x2), [x1, x2])"
   ],
   "outputs": [
    {
     "output_type": "execute_result",
     "data": {
      "text/plain": [
       "2×2 Matrix{Sym}:\n",
       " 2                0\n",
       " 0  -1/(4*x2^(3/2))"
      ],
      "text/latex": [
       "$\\left[ \\begin{array}{rr}2&0\\\\0&- \\frac{1}{4 x_{2}^{\\frac{3}{2}}}\\end{array}\\right]$\n"
      ]
     },
     "metadata": {},
     "execution_count": 3
    }
   ],
   "metadata": {}
  },
  {
   "cell_type": "code",
   "execution_count": 4,
   "source": [
    "H_A_val = subs.(H_A, x1.=> 1, x2.=> 1)"
   ],
   "outputs": [
    {
     "output_type": "execute_result",
     "data": {
      "text/plain": [
       "2×2 Matrix{Sym}:\n",
       " 2     0\n",
       " 0  -1/4"
      ],
      "text/latex": [
       "$\\left[ \\begin{array}{rr}2&0\\\\0&- \\frac{1}{4}\\end{array}\\right]$\n"
      ]
     },
     "metadata": {},
     "execution_count": 4
    }
   ],
   "metadata": {}
  },
  {
   "cell_type": "code",
   "execution_count": 5,
   "source": [
    "eigvals(H_A_val) # indefinite"
   ],
   "outputs": [
    {
     "output_type": "execute_result",
     "data": {
      "text/plain": [
       "2-element Vector{Sym}:\n",
       " -1/4\n",
       "    2"
      ],
      "text/latex": [
       "$\\left[ \\begin{array}{r}- \\frac{1}{4}\\\\2\\end{array} \\right]$\n"
      ]
     },
     "metadata": {},
     "execution_count": 5
    }
   ],
   "metadata": {}
  },
  {
   "cell_type": "markdown",
   "source": [
    "### (b)\n",
    "\n",
    "$$\n",
    "f(x) = (x_1 x_2)^{1/2}, \\quad x\\in \\mathbb{R}_{++}^{2}\n",
    "$$"
   ],
   "metadata": {}
  },
  {
   "cell_type": "code",
   "execution_count": 6,
   "source": [
    "FunctionB(x1, x2) = sqrt(x1*x2)"
   ],
   "outputs": [
    {
     "output_type": "execute_result",
     "data": {
      "text/plain": [
       "FunctionB (generic function with 1 method)"
      ]
     },
     "metadata": {},
     "execution_count": 6
    }
   ],
   "metadata": {}
  },
  {
   "cell_type": "code",
   "execution_count": 7,
   "source": [
    "@vars x1 x2; H_B = sympy.hessian(FunctionB(x1, x2), [x1, x2])"
   ],
   "outputs": [
    {
     "output_type": "execute_result",
     "data": {
      "text/plain": [
       "2×2 Matrix{Sym}:\n",
       " -sqrt(x1*x2)/(4*x1^2)  sqrt(x1*x2)/(4*x1*x2)\n",
       " sqrt(x1*x2)/(4*x1*x2)  -sqrt(x1*x2)/(4*x2^2)"
      ],
      "text/latex": [
       "$\\left[ \\begin{array}{rr}- \\frac{\\sqrt{x_{1} x_{2}}}{4 x_{1}^{2}}&\\frac{\\sqrt{x_{1} x_{2}}}{4 x_{1} x_{2}}\\\\\\frac{\\sqrt{x_{1} x_{2}}}{4 x_{1} x_{2}}&- \\frac{\\sqrt{x_{1} x_{2}}}{4 x_{2}^{2}}\\end{array}\\right]$\n"
      ]
     },
     "metadata": {},
     "execution_count": 7
    }
   ],
   "metadata": {}
  },
  {
   "cell_type": "markdown",
   "source": [
    "### (c)\n",
    "\n",
    "$$\n",
    "f(x) = (x_1 x_2)^2, \\quad \\mathbb{R}_{++}^{2}\n",
    "$$"
   ],
   "metadata": {}
  },
  {
   "cell_type": "code",
   "execution_count": 8,
   "source": [
    "FunctionC(x1, x2) = (x1*x2)^2"
   ],
   "outputs": [
    {
     "output_type": "execute_result",
     "data": {
      "text/plain": [
       "FunctionC (generic function with 1 method)"
      ]
     },
     "metadata": {},
     "execution_count": 8
    }
   ],
   "metadata": {}
  },
  {
   "cell_type": "code",
   "execution_count": 9,
   "source": [
    "@vars x1 x2; H_C = sympy.hessian(FunctionC(x1, x2), [x1, x2])"
   ],
   "outputs": [
    {
     "output_type": "execute_result",
     "data": {
      "text/plain": [
       "2×2 Matrix{Sym}:\n",
       "  2*x2^2  4⋅x₁⋅x₂\n",
       " 4⋅x₁⋅x₂   2*x1^2"
      ],
      "text/latex": [
       "$\\left[ \\begin{array}{rr}2 x_{2}^{2}&4 x_{1} x_{2}\\\\4 x_{1} x_{2}&2 x_{1}^{2}\\end{array}\\right]$\n"
      ]
     },
     "metadata": {},
     "execution_count": 9
    }
   ],
   "metadata": {}
  },
  {
   "cell_type": "markdown",
   "source": [
    "### (d)\n",
    "\n",
    "$$\n",
    "f(x) = \\sqrt{x_1} + \\sqrt{x_2} + \\sqrt{x_3}, \\quad x = (2, 2, 2)\n",
    "$$"
   ],
   "metadata": {}
  },
  {
   "cell_type": "code",
   "execution_count": 10,
   "source": [
    "FunctionD(x1, x2, x3) = sqrt(x1) + sqrt(x2) + sqrt(x3)"
   ],
   "outputs": [
    {
     "output_type": "execute_result",
     "data": {
      "text/plain": [
       "FunctionD (generic function with 1 method)"
      ]
     },
     "metadata": {},
     "execution_count": 10
    }
   ],
   "metadata": {}
  },
  {
   "cell_type": "code",
   "execution_count": 11,
   "source": [
    "@vars x1 x2 x3; H_D = sympy.hessian(FunctionD(x1, x2, x3), [x1, x2, x3])"
   ],
   "outputs": [
    {
     "output_type": "execute_result",
     "data": {
      "text/plain": [
       "3×3 Matrix{Sym}:\n",
       " -1/(4*x1^(3/2))                0                0\n",
       "               0  -1/(4*x2^(3/2))                0\n",
       "               0                0  -1/(4*x3^(3/2))"
      ],
      "text/latex": [
       "$\\left[ \\begin{array}{rrr}- \\frac{1}{4 x_{1}^{\\frac{3}{2}}}&0&0\\\\0&- \\frac{1}{4 x_{2}^{\\frac{3}{2}}}&0\\\\0&0&- \\frac{1}{4 x_{3}^{\\frac{3}{2}}}\\end{array}\\right]$\n"
      ]
     },
     "metadata": {},
     "execution_count": 11
    }
   ],
   "metadata": {}
  },
  {
   "cell_type": "code",
   "execution_count": 12,
   "source": [
    "H_D_val = subs.(H_D, x1.=> 2, x2.=> 2, x3.=> 2)"
   ],
   "outputs": [
    {
     "output_type": "execute_result",
     "data": {
      "text/plain": [
       "3×3 Matrix{Sym}:\n",
       " -sqrt(2)/16            0            0\n",
       "           0  -sqrt(2)/16            0\n",
       "           0            0  -sqrt(2)/16"
      ],
      "text/latex": [
       "$\\left[ \\begin{array}{rrr}- \\frac{\\sqrt{2}}{16}&0&0\\\\0&- \\frac{\\sqrt{2}}{16}&0\\\\0&0&- \\frac{\\sqrt{2}}{16}\\end{array}\\right]$\n"
      ]
     },
     "metadata": {},
     "execution_count": 12
    }
   ],
   "metadata": {}
  },
  {
   "cell_type": "code",
   "execution_count": 13,
   "source": [
    "eigvals(H_D_val) # negative definite"
   ],
   "outputs": [
    {
     "output_type": "execute_result",
     "data": {
      "text/plain": [
       "1-element Vector{Sym}:\n",
       " -sqrt(2)/16"
      ],
      "text/latex": [
       "$\\left[ \\begin{array}{r}- \\frac{\\sqrt{2}}{16}\\end{array} \\right]$\n"
      ]
     },
     "metadata": {},
     "execution_count": 13
    }
   ],
   "metadata": {}
  },
  {
   "cell_type": "markdown",
   "source": [
    "### (e)\n",
    "\n",
    "$$\n",
    "f(x) = \\sqrt{x_1 x_2 x_3}, \\quad x = (2,2,2)\n",
    "$$"
   ],
   "metadata": {}
  },
  {
   "cell_type": "code",
   "execution_count": 14,
   "source": [
    "FunctionE(x1, x2, x3) =  sqrt(x1 * x2 * x3)"
   ],
   "outputs": [
    {
     "output_type": "execute_result",
     "data": {
      "text/plain": [
       "FunctionE (generic function with 1 method)"
      ]
     },
     "metadata": {},
     "execution_count": 14
    }
   ],
   "metadata": {}
  },
  {
   "cell_type": "code",
   "execution_count": 15,
   "source": [
    "@vars x1 x2 x3; H_E = sympy.hessian(FunctionE(x1, x2, x3), [x1, x2, x3])"
   ],
   "outputs": [
    {
     "output_type": "execute_result",
     "data": {
      "text/plain": [
       "3×3 Matrix{Sym}:\n",
       " -sqrt(x1*x2*x3)/(4*x1^2)  sqrt(x1*x2*x3)/(4*x1*x2)  sqrt(x1*x2*x3)/(4*x1*x3)\n",
       " sqrt(x1*x2*x3)/(4*x1*x2)  -sqrt(x1*x2*x3)/(4*x2^2)  sqrt(x1*x2*x3)/(4*x2*x3)\n",
       " sqrt(x1*x2*x3)/(4*x1*x3)  sqrt(x1*x2*x3)/(4*x2*x3)  -sqrt(x1*x2*x3)/(4*x3^2)"
      ],
      "text/latex": [
       "$\\left[ \\begin{array}{rrr}- \\frac{\\sqrt{x_{1} x_{2} x_{3}}}{4 x_{1}^{2}}&\\frac{\\sqrt{x_{1} x_{2} x_{3}}}{4 x_{1} x_{2}}&\\frac{\\sqrt{x_{1} x_{2} x_{3}}}{4 x_{1} x_{3}}\\\\\\frac{\\sqrt{x_{1} x_{2} x_{3}}}{4 x_{1} x_{2}}&- \\frac{\\sqrt{x_{1} x_{2} x_{3}}}{4 x_{2}^{2}}&\\frac{\\sqrt{x_{1} x_{2} x_{3}}}{4 x_{2} x_{3}}\\\\\\frac{\\sqrt{x_{1} x_{2} x_{3}}}{4 x_{1} x_{3}}&\\frac{\\sqrt{x_{1} x_{2} x_{3}}}{4 x_{2} x_{3}}&- \\frac{\\sqrt{x_{1} x_{2} x_{3}}}{4 x_{3}^{2}}\\end{array}\\right]$\n"
      ]
     },
     "metadata": {},
     "execution_count": 15
    }
   ],
   "metadata": {}
  },
  {
   "cell_type": "code",
   "execution_count": 16,
   "source": [
    "H_E_val = subs.(H_E, x1.=> 2, x2.=> 2, x3.=> 2)"
   ],
   "outputs": [
    {
     "output_type": "execute_result",
     "data": {
      "text/plain": [
       "3×3 Matrix{Sym}:\n",
       " -sqrt(2)/8   sqrt(2)/8   sqrt(2)/8\n",
       "  sqrt(2)/8  -sqrt(2)/8   sqrt(2)/8\n",
       "  sqrt(2)/8   sqrt(2)/8  -sqrt(2)/8"
      ],
      "text/latex": [
       "$\\left[ \\begin{array}{rrr}- \\frac{\\sqrt{2}}{8}&\\frac{\\sqrt{2}}{8}&\\frac{\\sqrt{2}}{8}\\\\\\frac{\\sqrt{2}}{8}&- \\frac{\\sqrt{2}}{8}&\\frac{\\sqrt{2}}{8}\\\\\\frac{\\sqrt{2}}{8}&\\frac{\\sqrt{2}}{8}&- \\frac{\\sqrt{2}}{8}\\end{array}\\right]$\n"
      ]
     },
     "metadata": {},
     "execution_count": 16
    }
   ],
   "metadata": {}
  },
  {
   "cell_type": "code",
   "execution_count": 17,
   "source": [
    "eigvals(H_E_val) # indefinite"
   ],
   "outputs": [
    {
     "output_type": "execute_result",
     "data": {
      "text/plain": [
       "2-element Vector{Sym}:\n",
       " -sqrt(2)/4\n",
       "  sqrt(2)/8"
      ],
      "text/latex": [
       "$\\left[ \\begin{array}{r}- \\frac{\\sqrt{2}}{4}\\\\\\frac{\\sqrt{2}}{8}\\end{array} \\right]$\n"
      ]
     },
     "metadata": {},
     "execution_count": 17
    }
   ],
   "metadata": {}
  },
  {
   "cell_type": "markdown",
   "source": [
    "### (f)\n",
    "\n",
    "$$\n",
    "f(x) = x_1 x_2 + x_2 x_3 + x_3 x_1, \\quad x = (1,1,1)\n",
    "$$"
   ],
   "metadata": {}
  },
  {
   "cell_type": "code",
   "execution_count": 18,
   "source": [
    "FunctionF(x1, x2, x3) = x1*x2 + x2*x3 + x3*x1"
   ],
   "outputs": [
    {
     "output_type": "execute_result",
     "data": {
      "text/plain": [
       "FunctionF (generic function with 1 method)"
      ]
     },
     "metadata": {},
     "execution_count": 18
    }
   ],
   "metadata": {}
  },
  {
   "cell_type": "code",
   "execution_count": 19,
   "source": [
    "@vars x1 x2 x3; H_F = sympy.hessian(FunctionF(x1, x2, x3), [x1, x2, x3])"
   ],
   "outputs": [
    {
     "output_type": "execute_result",
     "data": {
      "text/plain": [
       "3×3 Matrix{Sym}:\n",
       " 0  1  1\n",
       " 1  0  1\n",
       " 1  1  0"
      ],
      "text/latex": [
       "$\\left[ \\begin{array}{rrr}0&1&1\\\\1&0&1\\\\1&1&0\\end{array}\\right]$\n"
      ]
     },
     "metadata": {},
     "execution_count": 19
    }
   ],
   "metadata": {}
  },
  {
   "cell_type": "code",
   "execution_count": 20,
   "source": [
    "H_F_val = subs.(H_F, x1.=> 1, x2.=> 1, x3.=> 1)"
   ],
   "outputs": [
    {
     "output_type": "execute_result",
     "data": {
      "text/plain": [
       "3×3 Matrix{Sym}:\n",
       " 0  1  1\n",
       " 1  0  1\n",
       " 1  1  0"
      ],
      "text/latex": [
       "$\\left[ \\begin{array}{rrr}0&1&1\\\\1&0&1\\\\1&1&0\\end{array}\\right]$\n"
      ]
     },
     "metadata": {},
     "execution_count": 20
    }
   ],
   "metadata": {}
  },
  {
   "cell_type": "code",
   "execution_count": 21,
   "source": [
    "eigvals(H_F_val) # indefinite"
   ],
   "outputs": [
    {
     "output_type": "execute_result",
     "data": {
      "text/plain": [
       "2-element Vector{Sym}:\n",
       " -1\n",
       "  2"
      ],
      "text/latex": [
       "$\\left[ \\begin{array}{r}-1\\\\2\\end{array} \\right]$\n"
      ]
     },
     "metadata": {},
     "execution_count": 21
    }
   ],
   "metadata": {}
  },
  {
   "cell_type": "markdown",
   "source": [
    "### (g)\n",
    "\n",
    "$$\n",
    "f(x) = ax_1 + bx_2 + cx_3, \\quad a,b,c\\in \\mathbb{R}, \\quad x = (2,2,2)\n",
    "$$"
   ],
   "metadata": {}
  },
  {
   "cell_type": "code",
   "execution_count": 22,
   "source": [
    "FunctionG(x1, x2, x3) = a*x1 + b*x2 + c*x3"
   ],
   "outputs": [
    {
     "output_type": "execute_result",
     "data": {
      "text/plain": [
       "FunctionG (generic function with 1 method)"
      ]
     },
     "metadata": {},
     "execution_count": 22
    }
   ],
   "metadata": {}
  },
  {
   "cell_type": "code",
   "execution_count": 23,
   "source": [
    "@vars a b c x1 x2 x3; H_G = sympy.hessian(FunctionG(x1, x2, x3), [x1, x2, x3])"
   ],
   "outputs": [
    {
     "output_type": "execute_result",
     "data": {
      "text/plain": [
       "3×3 Matrix{Sym}:\n",
       " 0  0  0\n",
       " 0  0  0\n",
       " 0  0  0"
      ],
      "text/latex": [
       "$\\left[ \\begin{array}{rrr}0&0&0\\\\0&0&0\\\\0&0&0\\end{array}\\right]$\n"
      ]
     },
     "metadata": {},
     "execution_count": 23
    }
   ],
   "metadata": {}
  },
  {
   "cell_type": "code",
   "execution_count": 24,
   "source": [
    "H_G_val = subs.(H_G, x1.=> 2, x2.=> 2, x3.=> 2)"
   ],
   "outputs": [
    {
     "output_type": "execute_result",
     "data": {
      "text/plain": [
       "3×3 Matrix{Sym}:\n",
       " 0  0  0\n",
       " 0  0  0\n",
       " 0  0  0"
      ],
      "text/latex": [
       "$\\left[ \\begin{array}{rrr}0&0&0\\\\0&0&0\\\\0&0&0\\end{array}\\right]$\n"
      ]
     },
     "metadata": {},
     "execution_count": 24
    }
   ],
   "metadata": {}
  },
  {
   "cell_type": "code",
   "execution_count": 25,
   "source": [
    "eigvals(H_G_val) # positive semidefinite or negative semidefinite"
   ],
   "outputs": [
    {
     "output_type": "execute_result",
     "data": {
      "text/plain": [
       "1-element Vector{Sym}:\n",
       " 0"
      ],
      "text/latex": [
       "$\\left[ \\begin{array}{r}0\\end{array} \\right]$\n"
      ]
     },
     "metadata": {},
     "execution_count": 25
    }
   ],
   "metadata": {}
  }
 ],
 "metadata": {
  "orig_nbformat": 4,
  "language_info": {
   "file_extension": ".jl",
   "name": "julia",
   "mimetype": "application/julia",
   "version": "1.6.2"
  },
  "kernelspec": {
   "name": "julia-1.6",
   "display_name": "Julia 1.6.1",
   "language": "julia"
  }
 },
 "nbformat": 4,
 "nbformat_minor": 2
}