{
 "cells": [
  {
   "cell_type": "markdown",
   "source": [
    "## HW7-Q2"
   ],
   "metadata": {}
  },
  {
   "cell_type": "markdown",
   "source": [
    "Find the hessian $D^2 f$ of each of the following functions. \n",
    "\n",
    "Evaluate the hessians at the specified points, and examine if the hessian is positive definite, negative definite, positive semidefinite, negative semidefinite, or indefinite."
   ],
   "metadata": {}
  },
  {
   "cell_type": "code",
   "execution_count": 1,
   "source": [
    "using LinearAlgebra, Calculus, CalculusWithJulia "
   ],
   "outputs": [],
   "metadata": {}
  },
  {
   "cell_type": "code",
   "execution_count": 2,
   "source": [
    "function H2(f) # Hessian 2 × 2\n",
    "    f1 = diff(f, x1)\n",
    "    f2 = diff(f, x2)\n",
    "    f11 = diff(f1, x1)\n",
    "    f12 = diff(f1, x2)\n",
    "    f21 = diff(f2, x1)\n",
    "    f22 = diff(f2, x2)\n",
    "    return [f11 f12; f21 f22]\n",
    "end  "
   ],
   "outputs": [
    {
     "output_type": "execute_result",
     "data": {
      "text/plain": [
       "H2 (generic function with 1 method)"
      ]
     },
     "metadata": {},
     "execution_count": 2
    }
   ],
   "metadata": {}
  },
  {
   "cell_type": "code",
   "execution_count": 3,
   "source": [
    "function H3(f) # Hessian 3 × 3\n",
    "    f1 = diff(f, x1) \n",
    "    f2 = diff(f, x2) \n",
    "    f3 = diff(f, x3)\n",
    "    f11 = diff(f1, x1)\n",
    "    f12 = diff(f1, x2)\n",
    "    f13 = diff(f1, x3)\n",
    "    f21 = diff(f2, x1)\n",
    "    f22 = diff(f2, x2)\n",
    "    f23 = diff(f2, x3)\n",
    "    f31 = diff(f3, x1)\n",
    "    f32 = diff(f3, x2) \n",
    "    f33 = diff(f3, x3)\n",
    "    return [f11 f12 f13; f21 f22 f23; f31 f32 f33]\n",
    "end "
   ],
   "outputs": [
    {
     "output_type": "execute_result",
     "data": {
      "text/plain": [
       "H3 (generic function with 1 method)"
      ]
     },
     "metadata": {},
     "execution_count": 3
    }
   ],
   "metadata": {}
  },
  {
   "cell_type": "code",
   "execution_count": 4,
   "source": [
    "function H2_val(f, x) # Hessian 2 × 2 at specific point\n",
    "    f1 = diff(f, x1)\n",
    "    f2 = diff(f, x2)\n",
    "    f11 = diff(f1, x1); F11 = f11(x[1], x[2])\n",
    "    f12 = diff(f1, x2); F12 = f12(x[1], x[2])\n",
    "    f21 = diff(f2, x1); F21 = f21(x[1], x[2])\n",
    "    f22 = diff(f2, x2); F22 = f22(x[1], x[2])\n",
    "    return [F11 F12; F21 F22]\n",
    "end  "
   ],
   "outputs": [
    {
     "output_type": "execute_result",
     "data": {
      "text/plain": [
       "H2_val (generic function with 1 method)"
      ]
     },
     "metadata": {},
     "execution_count": 4
    }
   ],
   "metadata": {}
  },
  {
   "cell_type": "code",
   "execution_count": 5,
   "source": [
    "function H3_val(f, x) # Hessian 3 × 3 at specific point\n",
    "    f1 = diff(f, x1)\n",
    "    f2 = diff(f, x2)\n",
    "    f3 = diff(f, x3)\n",
    "    f11 = diff(f1, x1); F11 = f11(x[1], x[2], x[3])\n",
    "    f12 = diff(f1, x2); F12 = f12(x[1], x[2], x[3])\n",
    "    f13 = diff(f1, x3); F13 = f13(x[1], x[2], x[3])\n",
    "    f21 = diff(f2, x1); F21 = f21(x[1], x[2], x[3])\n",
    "    f22 = diff(f2, x2); F22 = f22(x[1], x[2], x[3])\n",
    "    f23 = diff(f1, x3); F23 = f23(x[1], x[2], x[3])\n",
    "    f31 = diff(f1, x1); F31 = f31(x[1], x[2], x[3])\n",
    "    f32 = diff(f1, x2); F32 = f32(x[1], x[2], x[3])\n",
    "    f33 = diff(f1, x3); F33 = f33(x[1], x[2], x[3])    \n",
    "    return [F11 F12 F13; F21 F22 F23; F31 F32 F33]\n",
    "end  "
   ],
   "outputs": [
    {
     "output_type": "execute_result",
     "data": {
      "text/plain": [
       "H3_val (generic function with 1 method)"
      ]
     },
     "metadata": {},
     "execution_count": 5
    }
   ],
   "metadata": {}
  },
  {
   "cell_type": "markdown",
   "source": [
    "### (a)\n",
    "\n",
    "$$\n",
    "f(x) = x_1^2 + \\sqrt{x_2}, \\quad x= (1,1)\n",
    "$$"
   ],
   "metadata": {}
  },
  {
   "cell_type": "code",
   "execution_count": 6,
   "source": [
    "@vars x1 x2; fa = x1^2 + sqrt(x2); xa = [1.0, 1.0];"
   ],
   "outputs": [],
   "metadata": {}
  },
  {
   "cell_type": "code",
   "execution_count": 7,
   "source": [
    "H2(fa)"
   ],
   "outputs": [
    {
     "output_type": "execute_result",
     "data": {
      "text/plain": [
       "2×2 Matrix{Sym}:\n",
       " 2                0\n",
       " 0  -1/(4*x2^(3/2))"
      ],
      "text/latex": [
       "$\\left[ \\begin{array}{rr}2&0\\\\0&- \\frac{1}{4 x_{2}^{\\frac{3}{2}}}\\end{array}\\right]$\n"
      ]
     },
     "metadata": {},
     "execution_count": 7
    }
   ],
   "metadata": {}
  },
  {
   "cell_type": "code",
   "execution_count": 8,
   "source": [
    "Ha = H2_val(fa, xa)"
   ],
   "outputs": [
    {
     "output_type": "execute_result",
     "data": {
      "text/plain": [
       "2×2 Matrix{Sym}:\n",
       " 2                   0\n",
       " 0  -0.250000000000000"
      ],
      "text/latex": [
       "$\\left[ \\begin{array}{rr}2&0\\\\0&-0.25\\end{array}\\right]$\n"
      ]
     },
     "metadata": {},
     "execution_count": 8
    }
   ],
   "metadata": {}
  },
  {
   "cell_type": "code",
   "execution_count": 9,
   "source": [
    "eigvals(Ha) # indefinite"
   ],
   "outputs": [
    {
     "output_type": "execute_result",
     "data": {
      "text/plain": [
       "2-element Vector{Sym}:\n",
       "                  2\n",
       " -0.250000000000000"
      ],
      "text/latex": [
       "$\\left[ \\begin{array}{r}2\\\\-0.25\\end{array} \\right]$\n"
      ]
     },
     "metadata": {},
     "execution_count": 9
    }
   ],
   "metadata": {}
  },
  {
   "cell_type": "markdown",
   "source": [
    "### (b)\n",
    "\n",
    "$$\n",
    "f(x) = (x_1 x_2)^{1/2}, \\quad x\\in \\mathbb{R}_{++}^{2}\n",
    "$$"
   ],
   "metadata": {}
  },
  {
   "cell_type": "code",
   "execution_count": 10,
   "source": [
    "@vars x1 x2; fb = sqrt(x1*x2);"
   ],
   "outputs": [],
   "metadata": {}
  },
  {
   "cell_type": "code",
   "execution_count": 11,
   "source": [
    "H2(fb)"
   ],
   "outputs": [
    {
     "output_type": "execute_result",
     "data": {
      "text/plain": [
       "2×2 Matrix{Sym}:\n",
       " -sqrt(x1*x2)/(4*x1^2)  sqrt(x1*x2)/(4*x1*x2)\n",
       " sqrt(x1*x2)/(4*x1*x2)  -sqrt(x1*x2)/(4*x2^2)"
      ],
      "text/latex": [
       "$\\left[ \\begin{array}{rr}- \\frac{\\sqrt{x_{1} x_{2}}}{4 x_{1}^{2}}&\\frac{\\sqrt{x_{1} x_{2}}}{4 x_{1} x_{2}}\\\\\\frac{\\sqrt{x_{1} x_{2}}}{4 x_{1} x_{2}}&- \\frac{\\sqrt{x_{1} x_{2}}}{4 x_{2}^{2}}\\end{array}\\right]$\n"
      ]
     },
     "metadata": {},
     "execution_count": 11
    }
   ],
   "metadata": {}
  },
  {
   "cell_type": "markdown",
   "source": [
    "### (c)\n",
    "\n",
    "$$\n",
    "f(x) = (x_1 x_2)^2, \\quad \\mathbb{R}_{++}^{2}\n",
    "$$"
   ],
   "metadata": {}
  },
  {
   "cell_type": "code",
   "execution_count": 12,
   "source": [
    "@vars x1 x2; fc = (x1*x2)^2"
   ],
   "outputs": [
    {
     "output_type": "execute_result",
     "data": {
      "text/plain": [
       "  2   2\n",
       "x₁ ⋅x₂ "
      ],
      "text/latex": [
       "$\\begin{equation*}x_{1}^{2} x_{2}^{2}\\end{equation*}$\n"
      ]
     },
     "metadata": {},
     "execution_count": 12
    }
   ],
   "metadata": {}
  },
  {
   "cell_type": "code",
   "execution_count": 13,
   "source": [
    "H2(fc)"
   ],
   "outputs": [
    {
     "output_type": "execute_result",
     "data": {
      "text/plain": [
       "2×2 Matrix{Sym}:\n",
       "  2*x2^2  4⋅x₁⋅x₂\n",
       " 4⋅x₁⋅x₂   2*x1^2"
      ],
      "text/latex": [
       "$\\left[ \\begin{array}{rr}2 x_{2}^{2}&4 x_{1} x_{2}\\\\4 x_{1} x_{2}&2 x_{1}^{2}\\end{array}\\right]$\n"
      ]
     },
     "metadata": {},
     "execution_count": 13
    }
   ],
   "metadata": {}
  },
  {
   "cell_type": "markdown",
   "source": [
    "### (d)\n",
    "\n",
    "$$\n",
    "f(x) = \\sqrt{x_1} + \\sqrt{x_2} + \\sqrt{x_3}, \\quad x = (2, 2, 2)\n",
    "$$"
   ],
   "metadata": {}
  },
  {
   "cell_type": "code",
   "execution_count": 14,
   "source": [
    "@vars x1 x2 x3; fd = sqrt(x1) + sqrt(x2) + sqrt(x3); xd = [2.0 2.0 2.0];"
   ],
   "outputs": [],
   "metadata": {}
  },
  {
   "cell_type": "code",
   "execution_count": 15,
   "source": [
    "H3(fd)"
   ],
   "outputs": [
    {
     "output_type": "execute_result",
     "data": {
      "text/plain": [
       "3×3 Matrix{Sym}:\n",
       " -1/(4*x1^(3/2))                0                0\n",
       "               0  -1/(4*x2^(3/2))                0\n",
       "               0                0  -1/(4*x3^(3/2))"
      ],
      "text/latex": [
       "$\\left[ \\begin{array}{rrr}- \\frac{1}{4 x_{1}^{\\frac{3}{2}}}&0&0\\\\0&- \\frac{1}{4 x_{2}^{\\frac{3}{2}}}&0\\\\0&0&- \\frac{1}{4 x_{3}^{\\frac{3}{2}}}\\end{array}\\right]$\n"
      ]
     },
     "metadata": {},
     "execution_count": 15
    }
   ],
   "metadata": {}
  },
  {
   "cell_type": "code",
   "execution_count": 16,
   "source": [
    "Hd = H3_val(fd, xd)"
   ],
   "outputs": [
    {
     "output_type": "execute_result",
     "data": {
      "text/plain": [
       "3×3 Matrix{Sym}:\n",
       " -0.0883883476483184                    0  0\n",
       "                   0  -0.0883883476483184  0\n",
       " -0.0883883476483184                    0  0"
      ],
      "text/latex": [
       "$\\left[ \\begin{array}{rrr}-0.0883883476483184&0&0\\\\0&-0.0883883476483184&0\\\\-0.0883883476483184&0&0\\end{array}\\right]$\n"
      ]
     },
     "metadata": {},
     "execution_count": 16
    }
   ],
   "metadata": {}
  },
  {
   "cell_type": "code",
   "execution_count": 17,
   "source": [
    "eigvals(Hd) # negative semidefinite"
   ],
   "outputs": [
    {
     "output_type": "execute_result",
     "data": {
      "text/plain": [
       "2-element Vector{Sym}:\n",
       " -0.0883883476483184\n",
       "                   0"
      ],
      "text/latex": [
       "$\\left[ \\begin{array}{r}-0.0883883476483184\\\\0\\end{array} \\right]$\n"
      ]
     },
     "metadata": {},
     "execution_count": 17
    }
   ],
   "metadata": {}
  },
  {
   "cell_type": "markdown",
   "source": [
    "### (e)\n",
    "\n",
    "$$\n",
    "f(x) = \\sqrt{x_1 x_2 x_3}, \\quad x = (2,2,2)\n",
    "$$"
   ],
   "metadata": {}
  },
  {
   "cell_type": "code",
   "execution_count": 18,
   "source": [
    "@vars x1 x2 x3; fe = sqrt(x1*x2*x3); xe = [2.0 2.0 2.0];"
   ],
   "outputs": [],
   "metadata": {}
  },
  {
   "cell_type": "code",
   "execution_count": 19,
   "source": [
    "H3(fe)"
   ],
   "outputs": [
    {
     "output_type": "execute_result",
     "data": {
      "text/plain": [
       "3×3 Matrix{Sym}:\n",
       " -sqrt(x1*x2*x3)/(4*x1^2)  sqrt(x1*x2*x3)/(4*x1*x2)  sqrt(x1*x2*x3)/(4*x1*x3)\n",
       " sqrt(x1*x2*x3)/(4*x1*x2)  -sqrt(x1*x2*x3)/(4*x2^2)  sqrt(x1*x2*x3)/(4*x2*x3)\n",
       " sqrt(x1*x2*x3)/(4*x1*x3)  sqrt(x1*x2*x3)/(4*x2*x3)  -sqrt(x1*x2*x3)/(4*x3^2)"
      ],
      "text/latex": [
       "$\\left[ \\begin{array}{rrr}- \\frac{\\sqrt{x_{1} x_{2} x_{3}}}{4 x_{1}^{2}}&\\frac{\\sqrt{x_{1} x_{2} x_{3}}}{4 x_{1} x_{2}}&\\frac{\\sqrt{x_{1} x_{2} x_{3}}}{4 x_{1} x_{3}}\\\\\\frac{\\sqrt{x_{1} x_{2} x_{3}}}{4 x_{1} x_{2}}&- \\frac{\\sqrt{x_{1} x_{2} x_{3}}}{4 x_{2}^{2}}&\\frac{\\sqrt{x_{1} x_{2} x_{3}}}{4 x_{2} x_{3}}\\\\\\frac{\\sqrt{x_{1} x_{2} x_{3}}}{4 x_{1} x_{3}}&\\frac{\\sqrt{x_{1} x_{2} x_{3}}}{4 x_{2} x_{3}}&- \\frac{\\sqrt{x_{1} x_{2} x_{3}}}{4 x_{3}^{2}}\\end{array}\\right]$\n"
      ]
     },
     "metadata": {},
     "execution_count": 19
    }
   ],
   "metadata": {}
  },
  {
   "cell_type": "code",
   "execution_count": 20,
   "source": [
    "He = H3_val(fe, xe)"
   ],
   "outputs": [
    {
     "output_type": "execute_result",
     "data": {
      "text/plain": [
       "3×3 Matrix{Sym}:\n",
       " -0.176776695296637   0.176776695296637  0.176776695296637\n",
       "  0.176776695296637  -0.176776695296637  0.176776695296637\n",
       " -0.176776695296637   0.176776695296637  0.176776695296637"
      ],
      "text/latex": [
       "$\\left[ \\begin{array}{rrr}-0.176776695296637&0.176776695296637&0.176776695296637\\\\0.176776695296637&-0.176776695296637&0.176776695296637\\\\-0.176776695296637&0.176776695296637&0.176776695296637\\end{array}\\right]$\n"
      ]
     },
     "metadata": {},
     "execution_count": 20
    }
   ],
   "metadata": {}
  },
  {
   "cell_type": "code",
   "execution_count": 21,
   "source": [
    "eigvals(He) # indefinite"
   ],
   "outputs": [
    {
     "output_type": "execute_result",
     "data": {
      "text/plain": [
       "3-element Vector{Sym}:\n",
       "                                                                               0\n",
       "  0.1767766952966369209399033479712670668959617614746093750000000000379822709830\n",
       " -0.3535533905932738418798066959425341337919235229492187500000000001519290839322"
      ],
      "text/latex": [
       "$\\left[ \\begin{array}{r}0\\\\0.176776695296636920939903347971267066895961761474609375000000000037982270983\\\\-0.3535533905932738418798066959425341337919235229492187500000000001519290839322\\end{array} \\right]$\n"
      ]
     },
     "metadata": {},
     "execution_count": 21
    }
   ],
   "metadata": {}
  },
  {
   "cell_type": "markdown",
   "source": [
    "### (f)\n",
    "\n",
    "$$\n",
    "f(x) = x_1 x_2 + x_2 x_3 + x_3 x_1, \\quad x = (1,1,1)\n",
    "$$"
   ],
   "metadata": {}
  },
  {
   "cell_type": "code",
   "execution_count": 22,
   "source": [
    "@vars x1 x2 x3; ff = x1*x2 + x2*x3 + x3*x1; xf = [1.0 1.0 1.0];"
   ],
   "outputs": [],
   "metadata": {}
  },
  {
   "cell_type": "code",
   "execution_count": 23,
   "source": [
    "H3(ff)"
   ],
   "outputs": [
    {
     "output_type": "execute_result",
     "data": {
      "text/plain": [
       "3×3 Matrix{Sym}:\n",
       " 0  1  1\n",
       " 1  0  1\n",
       " 1  1  0"
      ],
      "text/latex": [
       "$\\left[ \\begin{array}{rrr}0&1&1\\\\1&0&1\\\\1&1&0\\end{array}\\right]$\n"
      ]
     },
     "metadata": {},
     "execution_count": 23
    }
   ],
   "metadata": {}
  },
  {
   "cell_type": "code",
   "execution_count": 24,
   "source": [
    "Hf = H3_val(ff, xf)"
   ],
   "outputs": [
    {
     "output_type": "execute_result",
     "data": {
      "text/plain": [
       "3×3 Matrix{Sym}:\n",
       " 0  1  1\n",
       " 1  0  1\n",
       " 0  1  1"
      ],
      "text/latex": [
       "$\\left[ \\begin{array}{rrr}0&1&1\\\\1&0&1\\\\0&1&1\\end{array}\\right]$\n"
      ]
     },
     "metadata": {},
     "execution_count": 24
    }
   ],
   "metadata": {}
  },
  {
   "cell_type": "code",
   "execution_count": 25,
   "source": [
    "eigvals(Hf) # indefinite"
   ],
   "outputs": [
    {
     "output_type": "execute_result",
     "data": {
      "text/plain": [
       "3-element Vector{Sym}:\n",
       " -1\n",
       "  0\n",
       "  2"
      ],
      "text/latex": [
       "$\\left[ \\begin{array}{r}-1\\\\0\\\\2\\end{array} \\right]$\n"
      ]
     },
     "metadata": {},
     "execution_count": 25
    }
   ],
   "metadata": {}
  },
  {
   "cell_type": "markdown",
   "source": [
    "### (g)\n",
    "\n",
    "$$\n",
    "f(x) = ax_1 + bx_2 + cx_3, \\quad a,b,c\\in \\mathbb{R}, \\quad x = (2,2,2)\n",
    "$$"
   ],
   "metadata": {}
  },
  {
   "cell_type": "code",
   "execution_count": 26,
   "source": [
    "@vars a b c x1 x2 x3; fg = a*x1 + b*x2 + c*x3; xg = [2.0 2.0 2.0];"
   ],
   "outputs": [],
   "metadata": {}
  },
  {
   "cell_type": "code",
   "execution_count": 27,
   "source": [
    "H3(fg)"
   ],
   "outputs": [
    {
     "output_type": "execute_result",
     "data": {
      "text/plain": [
       "3×3 Matrix{Sym}:\n",
       " 0  0  0\n",
       " 0  0  0\n",
       " 0  0  0"
      ],
      "text/latex": [
       "$\\left[ \\begin{array}{rrr}0&0&0\\\\0&0&0\\\\0&0&0\\end{array}\\right]$\n"
      ]
     },
     "metadata": {},
     "execution_count": 27
    }
   ],
   "metadata": {}
  },
  {
   "cell_type": "code",
   "execution_count": 28,
   "source": [
    "Hg = H3_val(fg, xg)"
   ],
   "outputs": [
    {
     "output_type": "execute_result",
     "data": {
      "text/plain": [
       "3×3 Matrix{Sym}:\n",
       " 0  0  0\n",
       " 0  0  0\n",
       " 0  0  0"
      ],
      "text/latex": [
       "$\\left[ \\begin{array}{rrr}0&0&0\\\\0&0&0\\\\0&0&0\\end{array}\\right]$\n"
      ]
     },
     "metadata": {},
     "execution_count": 28
    }
   ],
   "metadata": {}
  },
  {
   "cell_type": "code",
   "execution_count": 29,
   "source": [
    "eigvals(Hg) # positive semidefinite or negative semidefinite"
   ],
   "outputs": [
    {
     "output_type": "execute_result",
     "data": {
      "text/plain": [
       "1-element Vector{Sym}:\n",
       " 0"
      ],
      "text/latex": [
       "$\\left[ \\begin{array}{r}0\\end{array} \\right]$\n"
      ]
     },
     "metadata": {},
     "execution_count": 29
    }
   ],
   "metadata": {}
  }
 ],
 "metadata": {
  "orig_nbformat": 4,
  "language_info": {
   "file_extension": ".jl",
   "name": "julia",
   "mimetype": "application/julia",
   "version": "1.6.2"
  },
  "kernelspec": {
   "name": "julia-1.6",
   "display_name": "Julia 1.6.1",
   "language": "julia"
  }
 },
 "nbformat": 4,
 "nbformat_minor": 2
}