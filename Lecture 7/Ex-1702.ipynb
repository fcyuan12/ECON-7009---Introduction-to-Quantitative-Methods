{
 "cells": [
  {
   "cell_type": "markdown",
   "source": [
    "## Exercise 17.2 in Simon and Blume (1994)"
   ],
   "metadata": {}
  },
  {
   "cell_type": "code",
   "execution_count": 1,
   "source": [
    "using LinearAlgebra, Calculus, CalculusWithJulia "
   ],
   "outputs": [],
   "metadata": {}
  },
  {
   "cell_type": "markdown",
   "source": [
    "### (a) \n",
    "\n",
    "$$\n",
    "f(x,y,z) = x^2 + 6xy + y^2 - 3yz + 4z^2 - 10x - 5y - 21z\n",
    "$$"
   ],
   "metadata": {}
  },
  {
   "cell_type": "code",
   "execution_count": 2,
   "source": [
    "FunctionA(x, y, z) = x^2 + 6*x*y + y^2 - 3*y*z + 4*z^2 - 10*x - 5*y - 21*z"
   ],
   "outputs": [
    {
     "output_type": "execute_result",
     "data": {
      "text/plain": [
       "FunctionA (generic function with 1 method)"
      ]
     },
     "metadata": {},
     "execution_count": 2
    }
   ],
   "metadata": {}
  },
  {
   "cell_type": "markdown",
   "source": [
    "By FOC, we find critical point: $(2,1,3)$."
   ],
   "metadata": {}
  },
  {
   "cell_type": "code",
   "execution_count": 3,
   "source": [
    "@vars x y z; H_A = sympy.hessian(FunctionA(x, y, z), [x, y, z])"
   ],
   "outputs": [
    {
     "output_type": "execute_result",
     "data": {
      "text/plain": [
       "3×3 Matrix{Sym}:\n",
       " 2   6   0\n",
       " 6   2  -3\n",
       " 0  -3   8"
      ],
      "text/latex": [
       "$\\left[ \\begin{array}{rrr}2&6&0\\\\6&2&-3\\\\0&-3&8\\end{array}\\right]$\n"
      ]
     },
     "metadata": {},
     "execution_count": 3
    }
   ],
   "metadata": {}
  },
  {
   "cell_type": "code",
   "execution_count": 4,
   "source": [
    "H_A_val = subs.(H_A, x.=> 2, y.=> 1, z.=> 3)"
   ],
   "outputs": [
    {
     "output_type": "execute_result",
     "data": {
      "text/plain": [
       "3×3 Matrix{Sym}:\n",
       " 2   6   0\n",
       " 6   2  -3\n",
       " 0  -3   8"
      ],
      "text/latex": [
       "$\\left[ \\begin{array}{rrr}2&6&0\\\\6&2&-3\\\\0&-3&8\\end{array}\\right]$\n"
      ]
     },
     "metadata": {},
     "execution_count": 4
    }
   ],
   "metadata": {}
  },
  {
   "cell_type": "code",
   "execution_count": 5,
   "source": [
    "eigvals(H_A_val) # indefinite"
   ],
   "outputs": [
    {
     "output_type": "execute_result",
     "data": {
      "text/plain": [
       "3-element Vector{Sym}:\n",
       "                                             4 - (1485 + 81*sqrt(426)*I)^(1/3)/3 - 57/(1485 + 81*sqrt(426)*I)^(1/3)\n",
       " 4 - (-1/2 + sqrt(3)*I/2)*(1485 + 81*sqrt(426)*I)^(1/3)/3 - 57/((-1/2 + sqrt(3)*I/2)*(1485 + 81*sqrt(426)*I)^(1/3))\n",
       " 4 - 57/((-1/2 - sqrt(3)*I/2)*(1485 + 81*sqrt(426)*I)^(1/3)) - (-1/2 - sqrt(3)*I/2)*(1485 + 81*sqrt(426)*I)^(1/3)/3"
      ],
      "text/latex": [
       "$\\left[ \\begin{array}{r}4 - \\frac{\\sqrt[3]{1485 + 81 \\sqrt{426} i}}{3} - \\frac{57}{\\sqrt[3]{1485 + 81 \\sqrt{426} i}}\\\\4 - \\frac{\\left(- \\frac{1}{2} + \\frac{\\sqrt{3} i}{2}\\right) \\sqrt[3]{1485 + 81 \\sqrt{426} i}}{3} - \\frac{57}{\\left(- \\frac{1}{2} + \\frac{\\sqrt{3} i}{2}\\right) \\sqrt[3]{1485 + 81 \\sqrt{426} i}}\\\\4 - \\frac{57}{\\left(- \\frac{1}{2} - \\frac{\\sqrt{3} i}{2}\\right) \\sqrt[3]{1485 + 81 \\sqrt{426} i}} - \\frac{\\left(- \\frac{1}{2} - \\frac{\\sqrt{3} i}{2}\\right) \\sqrt[3]{1485 + 81 \\sqrt{426} i}}{3}\\end{array} \\right]$\n"
      ]
     },
     "metadata": {},
     "execution_count": 5
    }
   ],
   "metadata": {}
  },
  {
   "cell_type": "markdown",
   "source": [
    "### (b)\n",
    "\n",
    "$$\n",
    "f(x,y,z) = (x^2 + 2y^2 + 3z^2)\\exp[-(x^2 + y^2 + z^2)]\n",
    "$$"
   ],
   "metadata": {}
  },
  {
   "cell_type": "code",
   "execution_count": 6,
   "source": [
    "FunctionB(x, y, z) = (x^2 + 2*y^2 + 3*z^2) * exp(-(x^2 + y^2 + z^2))"
   ],
   "outputs": [
    {
     "output_type": "execute_result",
     "data": {
      "text/plain": [
       "FunctionB (generic function with 1 method)"
      ]
     },
     "metadata": {},
     "execution_count": 6
    }
   ],
   "metadata": {}
  },
  {
   "cell_type": "markdown",
   "source": [
    "By FOC, we find critical points: $(0,0,0), (\\pm 1,0,0), (0,\\pm 1, 0), (0,0,\\pm 1)$."
   ],
   "metadata": {}
  },
  {
   "cell_type": "code",
   "execution_count": 7,
   "source": [
    "@vars x y z; H_B = sympy.hessian(FunctionB(x, y, z), [x, y, z])"
   ],
   "outputs": [
    {
     "output_type": "execute_result",
     "data": {
      "text/plain": [
       "3×3 Matrix{Sym}:\n",
       " 4*x^2*(x^2 + 2*y^2 + 3*z^2)*exp(-x^2 - y^2 - z^2) - 8*x^2*exp(-x^2 - y^2 - z^2) + (-2*x^2 - 4*y^2 - 6*z^2)*exp(-x^2 - y^2 - z^2) + 2*exp(-x^2 - y^2 - z^2)  …                                                                             4*x*z*(x^2 + 2*y^2 + 3*z^2)*exp(-x^2 - y^2 - z^2) - 16*x*z*exp(-x^2 - y^2 - z^2)\n",
       "                                                                           4*x*y*(x^2 + 2*y^2 + 3*z^2)*exp(-x^2 - y^2 - z^2) - 12*x*y*exp(-x^2 - y^2 - z^2)                                                                                4*y*z*(x^2 + 2*y^2 + 3*z^2)*exp(-x^2 - y^2 - z^2) - 20*y*z*exp(-x^2 - y^2 - z^2)\n",
       "                                                                           4*x*z*(x^2 + 2*y^2 + 3*z^2)*exp(-x^2 - y^2 - z^2) - 16*x*z*exp(-x^2 - y^2 - z^2)     4*z^2*(x^2 + 2*y^2 + 3*z^2)*exp(-x^2 - y^2 - z^2) - 24*z^2*exp(-x^2 - y^2 - z^2) + (-2*x^2 - 4*y^2 - 6*z^2)*exp(-x^2 - y^2 - z^2) + 6*exp(-x^2 - y^2 - z^2)"
      ],
      "text/latex": [
       "$\\left[ \\begin{array}{rrr}4 x^{2} \\left(x^{2} + 2 y^{2} + 3 z^{2}\\right) e^{- x^{2} - y^{2} - z^{2}} - 8 x^{2} e^{- x^{2} - y^{2} - z^{2}} + \\left(- 2 x^{2} - 4 y^{2} - 6 z^{2}\\right) e^{- x^{2} - y^{2} - z^{2}} + 2 e^{- x^{2} - y^{2} - z^{2}}&4 x y \\left(x^{2} + 2 y^{2} + 3 z^{2}\\right) e^{- x^{2} - y^{2} - z^{2}} - 12 x y e^{- x^{2} - y^{2} - z^{2}}&4 x z \\left(x^{2} + 2 y^{2} + 3 z^{2}\\right) e^{- x^{2} - y^{2} - z^{2}} - 16 x z e^{- x^{2} - y^{2} - z^{2}}\\\\4 x y \\left(x^{2} + 2 y^{2} + 3 z^{2}\\right) e^{- x^{2} - y^{2} - z^{2}} - 12 x y e^{- x^{2} - y^{2} - z^{2}}&4 y^{2} \\left(x^{2} + 2 y^{2} + 3 z^{2}\\right) e^{- x^{2} - y^{2} - z^{2}} - 16 y^{2} e^{- x^{2} - y^{2} - z^{2}} + \\left(- 2 x^{2} - 4 y^{2} - 6 z^{2}\\right) e^{- x^{2} - y^{2} - z^{2}} + 4 e^{- x^{2} - y^{2} - z^{2}}&4 y z \\left(x^{2} + 2 y^{2} + 3 z^{2}\\right) e^{- x^{2} - y^{2} - z^{2}} - 20 y z e^{- x^{2} - y^{2} - z^{2}}\\\\4 x z \\left(x^{2} + 2 y^{2} + 3 z^{2}\\right) e^{- x^{2} - y^{2} - z^{2}} - 16 x z e^{- x^{2} - y^{2} - z^{2}}&4 y z \\left(x^{2} + 2 y^{2} + 3 z^{2}\\right) e^{- x^{2} - y^{2} - z^{2}} - 20 y z e^{- x^{2} - y^{2} - z^{2}}&4 z^{2} \\left(x^{2} + 2 y^{2} + 3 z^{2}\\right) e^{- x^{2} - y^{2} - z^{2}} - 24 z^{2} e^{- x^{2} - y^{2} - z^{2}} + \\left(- 2 x^{2} - 4 y^{2} - 6 z^{2}\\right) e^{- x^{2} - y^{2} - z^{2}} + 6 e^{- x^{2} - y^{2} - z^{2}}\\end{array}\\right]$\n"
      ]
     },
     "metadata": {},
     "execution_count": 7
    }
   ],
   "metadata": {}
  },
  {
   "cell_type": "markdown",
   "source": [
    "- $(0,0,0)$"
   ],
   "metadata": {}
  },
  {
   "cell_type": "code",
   "execution_count": 8,
   "source": [
    "subs.(H_B, x.=> 0, y.=> 0, z.=> 0)"
   ],
   "outputs": [
    {
     "output_type": "execute_result",
     "data": {
      "text/plain": [
       "3×3 Matrix{Sym}:\n",
       " 2  0  0\n",
       " 0  4  0\n",
       " 0  0  6"
      ],
      "text/latex": [
       "$\\left[ \\begin{array}{rrr}2&0&0\\\\0&4&0\\\\0&0&6\\end{array}\\right]$\n"
      ]
     },
     "metadata": {},
     "execution_count": 8
    }
   ],
   "metadata": {}
  },
  {
   "cell_type": "code",
   "execution_count": 9,
   "source": [
    "eigvals(subs.(H_B, x.=> 0, y.=> 0, z.=> 0)) # positive definite"
   ],
   "outputs": [
    {
     "output_type": "execute_result",
     "data": {
      "text/plain": [
       "3-element Vector{Sym}:\n",
       " 4\n",
       " 6\n",
       " 2"
      ],
      "text/latex": [
       "$\\left[ \\begin{array}{r}4\\\\6\\\\2\\end{array} \\right]$\n"
      ]
     },
     "metadata": {},
     "execution_count": 9
    }
   ],
   "metadata": {}
  },
  {
   "cell_type": "markdown",
   "source": [
    "- $(1,0,0)$"
   ],
   "metadata": {}
  },
  {
   "cell_type": "code",
   "execution_count": 10,
   "source": [
    "subs.(H_B, x.=> 1, y.=> 0, z.=> 0)"
   ],
   "outputs": [
    {
     "output_type": "execute_result",
     "data": {
      "text/plain": [
       "3×3 Matrix{Sym}:\n",
       " -4*exp(-1)          0          0\n",
       "          0  2*exp(-1)          0\n",
       "          0          0  4*exp(-1)"
      ],
      "text/latex": [
       "$\\left[ \\begin{array}{rrr}- \\frac{4}{e}&0&0\\\\0&\\frac{2}{e}&0\\\\0&0&\\frac{4}{e}\\end{array}\\right]$\n"
      ]
     },
     "metadata": {},
     "execution_count": 10
    }
   ],
   "metadata": {}
  },
  {
   "cell_type": "code",
   "execution_count": 11,
   "source": [
    "eigvals(subs.(H_B, x.=> 1, y.=> 0, z.=> 0)) # indefinite"
   ],
   "outputs": [
    {
     "output_type": "execute_result",
     "data": {
      "text/plain": [
       "3-element Vector{Sym}:\n",
       "  4*exp(-1)\n",
       " -4*exp(-1)\n",
       "  2*exp(-1)"
      ],
      "text/latex": [
       "$\\left[ \\begin{array}{r}\\frac{4}{e}\\\\- \\frac{4}{e}\\\\\\frac{2}{e}\\end{array} \\right]$\n"
      ]
     },
     "metadata": {},
     "execution_count": 11
    }
   ],
   "metadata": {}
  },
  {
   "cell_type": "markdown",
   "source": [
    "- $(-1,0,0)$"
   ],
   "metadata": {}
  },
  {
   "cell_type": "code",
   "execution_count": 12,
   "source": [
    "subs.(H_B, x.=> -1, y.=> 0, z.=> 0)"
   ],
   "outputs": [
    {
     "output_type": "execute_result",
     "data": {
      "text/plain": [
       "3×3 Matrix{Sym}:\n",
       " -4*exp(-1)          0          0\n",
       "          0  2*exp(-1)          0\n",
       "          0          0  4*exp(-1)"
      ],
      "text/latex": [
       "$\\left[ \\begin{array}{rrr}- \\frac{4}{e}&0&0\\\\0&\\frac{2}{e}&0\\\\0&0&\\frac{4}{e}\\end{array}\\right]$\n"
      ]
     },
     "metadata": {},
     "execution_count": 12
    }
   ],
   "metadata": {}
  },
  {
   "cell_type": "code",
   "execution_count": 13,
   "source": [
    "eigvals(subs.(H_B, x.=> -1, y.=> 0, z.=> 0)) # indefinite"
   ],
   "outputs": [
    {
     "output_type": "execute_result",
     "data": {
      "text/plain": [
       "3-element Vector{Sym}:\n",
       "  4*exp(-1)\n",
       " -4*exp(-1)\n",
       "  2*exp(-1)"
      ],
      "text/latex": [
       "$\\left[ \\begin{array}{r}\\frac{4}{e}\\\\- \\frac{4}{e}\\\\\\frac{2}{e}\\end{array} \\right]$\n"
      ]
     },
     "metadata": {},
     "execution_count": 13
    }
   ],
   "metadata": {}
  },
  {
   "cell_type": "markdown",
   "source": [
    "- $(0,1,0)$"
   ],
   "metadata": {}
  },
  {
   "cell_type": "code",
   "execution_count": 14,
   "source": [
    "subs.(H_B, x.=> 0, y.=> 1, z.=> 0)"
   ],
   "outputs": [
    {
     "output_type": "execute_result",
     "data": {
      "text/plain": [
       "3×3 Matrix{Sym}:\n",
       " -2*exp(-1)           0          0\n",
       "          0  -8*exp(-1)          0\n",
       "          0           0  2*exp(-1)"
      ],
      "text/latex": [
       "$\\left[ \\begin{array}{rrr}- \\frac{2}{e}&0&0\\\\0&- \\frac{8}{e}&0\\\\0&0&\\frac{2}{e}\\end{array}\\right]$\n"
      ]
     },
     "metadata": {},
     "execution_count": 14
    }
   ],
   "metadata": {}
  },
  {
   "cell_type": "code",
   "execution_count": 15,
   "source": [
    "eigvals(subs.(H_B, x.=> 0, y.=> -1, z.=> 0)) # indefinite"
   ],
   "outputs": [
    {
     "output_type": "execute_result",
     "data": {
      "text/plain": [
       "3-element Vector{Sym}:\n",
       " -2*exp(-1)\n",
       " -8*exp(-1)\n",
       "  2*exp(-1)"
      ],
      "text/latex": [
       "$\\left[ \\begin{array}{r}- \\frac{2}{e}\\\\- \\frac{8}{e}\\\\\\frac{2}{e}\\end{array} \\right]$\n"
      ]
     },
     "metadata": {},
     "execution_count": 15
    }
   ],
   "metadata": {}
  },
  {
   "cell_type": "markdown",
   "source": [
    "- $(0,-1,0)$"
   ],
   "metadata": {}
  },
  {
   "cell_type": "code",
   "execution_count": 16,
   "source": [
    "subs.(H_B, x.=> 0, y.=> -1, z.=> 0)"
   ],
   "outputs": [
    {
     "output_type": "execute_result",
     "data": {
      "text/plain": [
       "3×3 Matrix{Sym}:\n",
       " -2*exp(-1)           0          0\n",
       "          0  -8*exp(-1)          0\n",
       "          0           0  2*exp(-1)"
      ],
      "text/latex": [
       "$\\left[ \\begin{array}{rrr}- \\frac{2}{e}&0&0\\\\0&- \\frac{8}{e}&0\\\\0&0&\\frac{2}{e}\\end{array}\\right]$\n"
      ]
     },
     "metadata": {},
     "execution_count": 16
    }
   ],
   "metadata": {}
  },
  {
   "cell_type": "code",
   "execution_count": 17,
   "source": [
    "eigvals(subs.(H_B, x.=> 0, y.=> -1, z.=> 0)) # indefinite"
   ],
   "outputs": [
    {
     "output_type": "execute_result",
     "data": {
      "text/plain": [
       "3-element Vector{Sym}:\n",
       " -2*exp(-1)\n",
       " -8*exp(-1)\n",
       "  2*exp(-1)"
      ],
      "text/latex": [
       "$\\left[ \\begin{array}{r}- \\frac{2}{e}\\\\- \\frac{8}{e}\\\\\\frac{2}{e}\\end{array} \\right]$\n"
      ]
     },
     "metadata": {},
     "execution_count": 17
    }
   ],
   "metadata": {}
  },
  {
   "cell_type": "markdown",
   "source": [
    "- $(0,0,1)$"
   ],
   "metadata": {}
  },
  {
   "cell_type": "code",
   "execution_count": 18,
   "source": [
    "subs.(H_B, x.=> 0, y.=> 0, z.=> 1)"
   ],
   "outputs": [
    {
     "output_type": "execute_result",
     "data": {
      "text/plain": [
       "3×3 Matrix{Sym}:\n",
       " -4*exp(-1)           0            0\n",
       "          0  -2*exp(-1)            0\n",
       "          0           0  -12*exp(-1)"
      ],
      "text/latex": [
       "$\\left[ \\begin{array}{rrr}- \\frac{4}{e}&0&0\\\\0&- \\frac{2}{e}&0\\\\0&0&- \\frac{12}{e}\\end{array}\\right]$\n"
      ]
     },
     "metadata": {},
     "execution_count": 18
    }
   ],
   "metadata": {}
  },
  {
   "cell_type": "code",
   "execution_count": 19,
   "source": [
    "eigvals(subs.(H_B, x.=> 0, y.=> 0, z.=> 1)) # negative definite"
   ],
   "outputs": [
    {
     "output_type": "execute_result",
     "data": {
      "text/plain": [
       "3-element Vector{Sym}:\n",
       "  -4*exp(-1)\n",
       "  -2*exp(-1)\n",
       " -12*exp(-1)"
      ],
      "text/latex": [
       "$\\left[ \\begin{array}{r}- \\frac{4}{e}\\\\- \\frac{2}{e}\\\\- \\frac{12}{e}\\end{array} \\right]$\n"
      ]
     },
     "metadata": {},
     "execution_count": 19
    }
   ],
   "metadata": {}
  },
  {
   "cell_type": "markdown",
   "source": [
    "- $(0,0,-1)$"
   ],
   "metadata": {}
  },
  {
   "cell_type": "code",
   "execution_count": 20,
   "source": [
    "subs.(H_B, x.=> 0, y.=> 0, z.=> -1)"
   ],
   "outputs": [
    {
     "output_type": "execute_result",
     "data": {
      "text/plain": [
       "3×3 Matrix{Sym}:\n",
       " -4*exp(-1)           0            0\n",
       "          0  -2*exp(-1)            0\n",
       "          0           0  -12*exp(-1)"
      ],
      "text/latex": [
       "$\\left[ \\begin{array}{rrr}- \\frac{4}{e}&0&0\\\\0&- \\frac{2}{e}&0\\\\0&0&- \\frac{12}{e}\\end{array}\\right]$\n"
      ]
     },
     "metadata": {},
     "execution_count": 20
    }
   ],
   "metadata": {}
  },
  {
   "cell_type": "code",
   "execution_count": 21,
   "source": [
    "eigvals(subs.(H_B, x.=> 0, y.=> 0, z.=> 1)) # negative definite"
   ],
   "outputs": [
    {
     "output_type": "execute_result",
     "data": {
      "text/plain": [
       "3-element Vector{Sym}:\n",
       "  -4*exp(-1)\n",
       "  -2*exp(-1)\n",
       " -12*exp(-1)"
      ],
      "text/latex": [
       "$\\left[ \\begin{array}{r}- \\frac{4}{e}\\\\- \\frac{2}{e}\\\\- \\frac{12}{e}\\end{array} \\right]$\n"
      ]
     },
     "metadata": {},
     "execution_count": 21
    }
   ],
   "metadata": {}
  }
 ],
 "metadata": {
  "orig_nbformat": 4,
  "language_info": {
   "file_extension": ".jl",
   "name": "julia",
   "mimetype": "application/julia",
   "version": "1.6.2"
  },
  "kernelspec": {
   "name": "julia-1.6",
   "display_name": "Julia 1.6.1",
   "language": "julia"
  }
 },
 "nbformat": 4,
 "nbformat_minor": 2
}
