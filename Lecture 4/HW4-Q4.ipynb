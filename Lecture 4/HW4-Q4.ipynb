{
 "cells": [
  {
   "cell_type": "markdown",
   "source": [
    "Let \n",
    "    $A = \\begin{bmatrix}\n",
    "    1 & 0 & 0 & 0 \\\\\n",
    "    -2 & 3 & 0 & 0 \\\\\n",
    "    0 & -4 & 5 & 0 \\\\\n",
    "    0 & 0 & -6 & 7\n",
    "    \\end{bmatrix}$ \n",
    "    and $B = (I + A)^{-1}(I - A)$. Find $(I+B)^{-1}$."
   ],
   "metadata": {}
  },
  {
   "cell_type": "code",
   "execution_count": 1,
   "source": [
    "using LinearAlgebra"
   ],
   "outputs": [],
   "metadata": {}
  },
  {
   "cell_type": "code",
   "execution_count": 2,
   "source": [
    "A = [1 0 0 0; -2 3 0 0; 0 -4 5 0; 0 0 -6 7]"
   ],
   "outputs": [
    {
     "output_type": "execute_result",
     "data": {
      "text/plain": [
       "4×4 Matrix{Int64}:\n",
       "  1   0   0  0\n",
       " -2   3   0  0\n",
       "  0  -4   5  0\n",
       "  0   0  -6  7"
      ]
     },
     "metadata": {},
     "execution_count": 2
    }
   ],
   "metadata": {}
  },
  {
   "cell_type": "code",
   "execution_count": 3,
   "source": [
    "B = inv(I + A)*(I - A)"
   ],
   "outputs": [
    {
     "output_type": "execute_result",
     "data": {
      "text/plain": [
       "4×4 Matrix{Float64}:\n",
       " 0.0        0.0        0.0        0.0\n",
       " 0.5       -0.5        0.0        0.0\n",
       " 0.333333   0.333333  -0.666667   0.0\n",
       " 0.25       0.25       0.25      -0.75"
      ]
     },
     "metadata": {},
     "execution_count": 3
    }
   ],
   "metadata": {}
  },
  {
   "cell_type": "code",
   "execution_count": 4,
   "source": [
    "inv(I + B) # method 1"
   ],
   "outputs": [
    {
     "output_type": "execute_result",
     "data": {
      "text/plain": [
       "4×4 Matrix{Float64}:\n",
       "  1.0   0.0           0.0  0.0\n",
       " -1.0   2.0           0.0  0.0\n",
       "  0.0  -2.0           3.0  0.0\n",
       "  0.0  -4.44089e-16  -3.0  4.0"
      ]
     },
     "metadata": {},
     "execution_count": 4
    }
   ],
   "metadata": {}
  },
  {
   "cell_type": "code",
   "execution_count": 5,
   "source": [
    "(1/2)*(I + A) # method 2"
   ],
   "outputs": [
    {
     "output_type": "execute_result",
     "data": {
      "text/plain": [
       "4×4 Matrix{Float64}:\n",
       "  1.0   0.0   0.0  0.0\n",
       " -1.0   2.0   0.0  0.0\n",
       "  0.0  -2.0   3.0  0.0\n",
       "  0.0   0.0  -3.0  4.0"
      ]
     },
     "metadata": {},
     "execution_count": 5
    }
   ],
   "metadata": {}
  }
 ],
 "metadata": {
  "orig_nbformat": 4,
  "language_info": {
   "file_extension": ".jl",
   "name": "julia",
   "mimetype": "application/julia",
   "version": "1.6.2"
  },
  "kernelspec": {
   "name": "julia-1.6",
   "display_name": "Julia 1.6.1",
   "language": "julia"
  }
 },
 "nbformat": 4,
 "nbformat_minor": 2
}