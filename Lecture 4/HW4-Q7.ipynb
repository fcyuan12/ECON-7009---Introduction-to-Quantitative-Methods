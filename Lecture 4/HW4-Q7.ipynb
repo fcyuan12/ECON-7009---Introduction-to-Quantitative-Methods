{
 "cells": [
  {
   "cell_type": "markdown",
   "source": [
    "## HW4-Q7"
   ],
   "metadata": {}
  },
  {
   "cell_type": "markdown",
   "source": [
    "Determine the definiteness of the following symmetric matrices.\n",
    "\n",
    "$$\n",
    "    A = \n",
    "    \\begin{bmatrix}\n",
    "    -3 & 4 \\\\\n",
    "    4 & -5\n",
    "    \\end{bmatrix},\n",
    "    \\quad\n",
    "    B = \n",
    "    \\begin{bmatrix}\n",
    "    2 & 4 \\\\\n",
    "    4 & 8\n",
    "    \\end{bmatrix}\n",
    "$$"
   ],
   "metadata": {}
  },
  {
   "cell_type": "code",
   "execution_count": 3,
   "source": [
    "using LinearAlgebra"
   ],
   "outputs": [],
   "metadata": {}
  },
  {
   "cell_type": "code",
   "execution_count": 8,
   "source": [
    "A = [-3 4; 4 -5]"
   ],
   "outputs": [
    {
     "output_type": "execute_result",
     "data": {
      "text/plain": [
       "2×2 Matrix{Int64}:\n",
       " -3   4\n",
       "  4  -5"
      ]
     },
     "metadata": {},
     "execution_count": 8
    }
   ],
   "metadata": {}
  },
  {
   "cell_type": "code",
   "execution_count": 9,
   "source": [
    "B = [2 4; 4 8]"
   ],
   "outputs": [
    {
     "output_type": "execute_result",
     "data": {
      "text/plain": [
       "2×2 Matrix{Int64}:\n",
       " 2  4\n",
       " 4  8"
      ]
     },
     "metadata": {},
     "execution_count": 9
    }
   ],
   "metadata": {}
  },
  {
   "cell_type": "code",
   "execution_count": 10,
   "source": [
    "eigen(A) #eigvals(A) # indefinite"
   ],
   "outputs": [
    {
     "output_type": "execute_result",
     "data": {
      "text/plain": [
       "Eigen{Float64, Float64, Matrix{Float64}, Vector{Float64}}\n",
       "values:\n",
       "2-element Vector{Float64}:\n",
       " -8.123105625617661\n",
       "  0.12310562561766036\n",
       "vectors:\n",
       "2×2 Matrix{Float64}:\n",
       " -0.615412  -0.788205\n",
       "  0.788205  -0.615412"
      ]
     },
     "metadata": {},
     "execution_count": 10
    }
   ],
   "metadata": {}
  },
  {
   "cell_type": "code",
   "execution_count": 11,
   "source": [
    "eigen(B) #eigvals(B) # positive semidefinite"
   ],
   "outputs": [
    {
     "output_type": "execute_result",
     "data": {
      "text/plain": [
       "Eigen{Float64, Float64, Matrix{Float64}, Vector{Float64}}\n",
       "values:\n",
       "2-element Vector{Float64}:\n",
       "  0.0\n",
       " 10.0\n",
       "vectors:\n",
       "2×2 Matrix{Float64}:\n",
       " -0.894427  0.447214\n",
       "  0.447214  0.894427"
      ]
     },
     "metadata": {},
     "execution_count": 11
    }
   ],
   "metadata": {}
  }
 ],
 "metadata": {
  "orig_nbformat": 4,
  "language_info": {
   "file_extension": ".jl",
   "name": "julia",
   "mimetype": "application/julia",
   "version": "1.6.2"
  },
  "kernelspec": {
   "name": "julia-1.6",
   "display_name": "Julia 1.6.1",
   "language": "julia"
  }
 },
 "nbformat": 4,
 "nbformat_minor": 2
}