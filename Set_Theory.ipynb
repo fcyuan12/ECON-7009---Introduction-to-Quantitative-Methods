{
 "cells": [
  {
   "cell_type": "markdown",
   "id": "0d28e16f",
   "metadata": {},
   "source": [
    "# Set Theory"
   ]
  },
  {
   "cell_type": "markdown",
   "id": "5b9d0406",
   "metadata": {},
   "source": [
    "## Sets, Unions, and Intersections"
   ]
  },
  {
   "cell_type": "markdown",
   "id": "9d839950",
   "metadata": {},
   "source": [
    "### Example: Refer to Definition _1.2.1_ \n",
    "\n",
    "Let $A = \\{0,1,2,3,4,5,6,7,8,9,10\\}$ and $B = \\{0,2,4,6,8,10\\}$. \n",
    "\n",
    "Find $A \\cup B, A \\cap B$, and $A\\setminus B$."
   ]
  },
  {
   "cell_type": "code",
   "execution_count": 15,
   "id": "0b7bf301",
   "metadata": {},
   "outputs": [
    {
     "data": {
      "text/plain": [
       "Set{Int64} with 11 elements:\n",
       "  5\n",
       "  7\n",
       "  8\n",
       "  1\n",
       "  0\n",
       "  4\n",
       "  6\n",
       "  2\n",
       "  10\n",
       "  9\n",
       "  3"
      ]
     },
     "execution_count": 15,
     "metadata": {},
     "output_type": "execute_result"
    }
   ],
   "source": [
    "A = Set(range(0, 10, step = 1))"
   ]
  },
  {
   "cell_type": "code",
   "execution_count": 16,
   "id": "b250cda8",
   "metadata": {},
   "outputs": [
    {
     "data": {
      "text/plain": [
       "Set{Int64} with 6 elements:\n",
       "  0\n",
       "  4\n",
       "  6\n",
       "  2\n",
       "  10\n",
       "  8"
      ]
     },
     "execution_count": 16,
     "metadata": {},
     "output_type": "execute_result"
    }
   ],
   "source": [
    "B = Set(range(0, 10, step = 2))"
   ]
  },
  {
   "cell_type": "code",
   "execution_count": 17,
   "id": "a5014416",
   "metadata": {},
   "outputs": [
    {
     "data": {
      "text/plain": [
       "false"
      ]
     },
     "execution_count": 17,
     "metadata": {},
     "output_type": "execute_result"
    }
   ],
   "source": [
    "A == B"
   ]
  },
  {
   "cell_type": "code",
   "execution_count": 19,
   "id": "3d36919c",
   "metadata": {},
   "outputs": [
    {
     "data": {
      "text/plain": [
       "Set{Int64} with 11 elements:\n",
       "  5\n",
       "  7\n",
       "  8\n",
       "  1\n",
       "  0\n",
       "  4\n",
       "  6\n",
       "  2\n",
       "  10\n",
       "  9\n",
       "  3"
      ]
     },
     "execution_count": 19,
     "metadata": {},
     "output_type": "execute_result"
    }
   ],
   "source": [
    "∪(A, B) # union(A,B) "
   ]
  },
  {
   "cell_type": "code",
   "execution_count": 20,
   "id": "ea3b7be5",
   "metadata": {},
   "outputs": [
    {
     "data": {
      "text/plain": [
       "Set{Int64} with 6 elements:\n",
       "  0\n",
       "  4\n",
       "  6\n",
       "  2\n",
       "  10\n",
       "  8"
      ]
     },
     "execution_count": 20,
     "metadata": {},
     "output_type": "execute_result"
    }
   ],
   "source": [
    "∩(A, B) # intersect(A, B)"
   ]
  },
  {
   "cell_type": "code",
   "execution_count": 21,
   "id": "7d3ee07d",
   "metadata": {},
   "outputs": [
    {
     "data": {
      "text/plain": [
       "Set{Int64} with 5 elements:\n",
       "  5\n",
       "  7\n",
       "  1\n",
       "  9\n",
       "  3"
      ]
     },
     "execution_count": 21,
     "metadata": {},
     "output_type": "execute_result"
    }
   ],
   "source": [
    "setdiff(A, B)"
   ]
  },
  {
   "cell_type": "markdown",
   "id": "b02975b7",
   "metadata": {},
   "source": [
    "## Functions"
   ]
  },
  {
   "cell_type": "code",
   "execution_count": 3,
   "id": "b9aa31c0",
   "metadata": {
    "scrolled": false
   },
   "outputs": [
    {
     "name": "stderr",
     "output_type": "stream",
     "text": [
      "\u001b[32m\u001b[1m    Updating\u001b[22m\u001b[39m registry at `~/.julia/registries/General`\n",
      "\u001b[32m\u001b[1m    Updating\u001b[22m\u001b[39m registry at `~/.julia/registries/JuliaComputingRegistry`\n",
      "\u001b[32m\u001b[1m   Resolving\u001b[22m\u001b[39m package versions...\n",
      "\u001b[32m\u001b[1m    Updating\u001b[22m\u001b[39m `~/.julia/environments/v1.6/Project.toml`\n",
      " \u001b[90m [b964fa9f] \u001b[39m\u001b[92m+ LaTeXStrings v1.2.1\u001b[39m\n",
      " \u001b[90m [a90b1aa1] \u001b[39m\u001b[92m+ LibGEOS v0.6.7\u001b[39m\n",
      "\u001b[32m\u001b[1m    Updating\u001b[22m\u001b[39m `~/.julia/environments/v1.6/Manifest.toml`\n",
      " \u001b[90m [fa961155] \u001b[39m\u001b[92m+ CEnum v0.4.1\u001b[39m\n",
      " \u001b[90m [cf35fbd7] \u001b[39m\u001b[92m+ GeoInterface v0.5.5\u001b[39m\n",
      " \u001b[90m [a90b1aa1] \u001b[39m\u001b[92m+ LibGEOS v0.6.7\u001b[39m\n",
      " \u001b[90m [d604d12d] \u001b[39m\u001b[92m+ GEOS_jll v3.9.0+0\u001b[39m\n",
      "\u001b[32m\u001b[1mPrecompiling\u001b[22m\u001b[39m project...\n",
      "\u001b[32m  ✓ \u001b[39m\u001b[90mPDMats\u001b[39m\n",
      "\u001b[32m  ✓ \u001b[39m\u001b[90mUnPack\u001b[39m\n",
      "\u001b[32m  ✓ \u001b[39m\u001b[90mReadOnlyArrays\u001b[39m\n",
      "\u001b[32m  ✓ \u001b[39m\u001b[90mExprTools\u001b[39m\n",
      "\u001b[32m  ✓ \u001b[39m\u001b[90mCodeTracking\u001b[39m\n",
      "\u001b[32m  ✓ \u001b[39m\u001b[90mShiftedArrays\u001b[39m\n",
      "\u001b[32m  ✓ \u001b[39m\u001b[90mTranscodingStreams\u001b[39m\n",
      "\u001b[32m  ✓ \u001b[39m\u001b[90mNullables\u001b[39m\n",
      "\u001b[32m  ✓ \u001b[39m\u001b[90mNodeJS\u001b[39m\n",
      "\u001b[32m  ✓ \u001b[39mSweepOperator\n",
      "\u001b[32m  ✓ \u001b[39m\u001b[90mGMP_jll\u001b[39m\n",
      "\u001b[32m  ✓ \u001b[39m\u001b[90mDocStringExtensions\u001b[39m\n",
      "\u001b[32m  ✓ \u001b[39m\u001b[90mCalculus\u001b[39m\n",
      "\u001b[32m  ✓ \u001b[39m\u001b[90mGenericLinearAlgebra\u001b[39m\n",
      "\u001b[32m  ✓ \u001b[39m\u001b[90mConstructionBase\u001b[39m\n",
      "\u001b[32m  ✓ \u001b[39m\u001b[90mCommonSolve\u001b[39m\n",
      "\u001b[32m  ✓ \u001b[39m\u001b[90mStructTypes\u001b[39m\n",
      "\u001b[32m  ✓ \u001b[39m\u001b[90mCombinatorics\u001b[39m\n",
      "\u001b[32m  ✓ \u001b[39m\u001b[90mQuadmath\u001b[39m\n",
      "\u001b[32m  ✓ \u001b[39m\u001b[90mProtoBuf\u001b[39m\n",
      "\u001b[32m  ✓ \u001b[39m\u001b[90mURIParser\u001b[39m\n",
      "\u001b[32m  ✓ \u001b[39mZipFile\n",
      "\u001b[32m  ✓ \u001b[39m\u001b[90mSentinelArrays\u001b[39m\n",
      "\u001b[32m  ✓ \u001b[39m\u001b[90mFillArrays\u001b[39m\n",
      "\u001b[32m  ✓ \u001b[39m\u001b[90mFilePathsBase\u001b[39m\n",
      "\u001b[32m  ✓ \u001b[39m\u001b[90mCommonSubexpressions\u001b[39m\n",
      "\u001b[32m  ✓ \u001b[39m\u001b[90mChainRulesCore\u001b[39m\n",
      "\u001b[32m  ✓ \u001b[39m\u001b[90mDataValues\u001b[39m\n",
      "\u001b[32m  ✓ \u001b[39m\u001b[90mBinaryProvider\u001b[39m\n",
      "\u001b[32m  ✓ \u001b[39m\u001b[90mMedia\u001b[39m\n",
      "\u001b[32m  ✓ \u001b[39m\u001b[90mWeakRefStrings\u001b[39m\n",
      "\u001b[32m  ✓ \u001b[39m\u001b[90mOpenSpecFun_jll\u001b[39m\n",
      "\u001b[32m  ✓ \u001b[39m\u001b[90mMemPool\u001b[39m\n",
      "\u001b[32m  ✓ \u001b[39m\u001b[90mRmath_jll\u001b[39m\n",
      "\u001b[32m  ✓ \u001b[39m\u001b[90mBenchmarkTools\u001b[39m\n",
      "\u001b[32m  ✓ \u001b[39m\u001b[90mQuadGK\u001b[39m\n",
      "\u001b[32m  ✓ \u001b[39m\u001b[90mReadStat_jll\u001b[39m\n",
      "\u001b[32m  ✓ \u001b[39m\u001b[90mParameters\u001b[39m\n",
      "\u001b[32m  ✓ \u001b[39m\u001b[90mFileIO\u001b[39m\n",
      "\u001b[32m  ✓ \u001b[39mEzXML\n",
      "\u001b[32m  ✓ \u001b[39m\u001b[90mMocking\u001b[39m\n",
      "\u001b[32m  ✓ \u001b[39m\u001b[90mGlib_jll\u001b[39m\n",
      "\u001b[32m  ✓ \u001b[39m\u001b[90mCodecZstd\u001b[39m\n",
      "\u001b[32m  ✓ \u001b[39m\u001b[90mCodecZlib\u001b[39m\n",
      "\u001b[32m  ✓ \u001b[39m\u001b[90mCodecBzip2\u001b[39m\n",
      "\u001b[32m  ✓ \u001b[39m\u001b[90mMPFR_jll\u001b[39m\n",
      "\u001b[32m  ✓ \u001b[39m\u001b[90mLogExpFunctions\u001b[39m\n",
      "\u001b[32m  ✓ \u001b[39m\u001b[90mMutableArithmetics\u001b[39m\n",
      "\u001b[32m  ✓ \u001b[39m\u001b[90mSetfield\u001b[39m\n",
      "\u001b[32m  ✓ \u001b[39m\u001b[90mCategoricalArrays\u001b[39m\n",
      "\u001b[32m  ✓ \u001b[39m\u001b[90mJSONSchema\u001b[39m\n",
      "\u001b[32m  ✓ \u001b[39m\u001b[90mJuliaInterpreter\u001b[39m\n",
      "\u001b[32m  ✓ \u001b[39m\u001b[90mRoots\u001b[39m\n",
      "\u001b[32m  ✓ \u001b[39m\u001b[90mFilePaths\u001b[39m\n",
      "\u001b[32m  ✓ \u001b[39m\u001b[90mTableShowUtils\u001b[39m\n",
      "\u001b[32m  ✓ \u001b[39m\u001b[90mSnappy\u001b[39m\n",
      "\u001b[32m  ✓ \u001b[39m\u001b[90mTableTraitsUtils\u001b[39m\n",
      "\u001b[32m  ✓ \u001b[39m\u001b[90mStaticArrays\u001b[39m\n",
      "\u001b[32m  ✓ \u001b[39m\u001b[90mThrift\u001b[39m\n",
      "\u001b[32m  ✓ \u001b[39m\u001b[90mReadStat\u001b[39m\n",
      "\u001b[32m  ✓ \u001b[39m\u001b[90mRmath\u001b[39m\n",
      "\u001b[32m  ✓ \u001b[39mJuno\n",
      "\u001b[32m  ✓ \u001b[39m\u001b[90mFlatBuffers\u001b[39m\n",
      "\u001b[32m  ✓ \u001b[39m\u001b[90mPyCall\u001b[39m\n",
      "\u001b[32m  ✓ \u001b[39m\u001b[90mFixedEffects\u001b[39m\n",
      "\u001b[32m  ✓ \u001b[39m\u001b[90mXLSX\u001b[39m\n",
      "\u001b[32m  ✓ \u001b[39m\u001b[90mMPC_jll\u001b[39m\n",
      "\u001b[32m  ✓ \u001b[39m\u001b[90mCairo_jll\u001b[39m\n",
      "\u001b[32m  ✓ \u001b[39m\u001b[90mQt5Base_jll\u001b[39m\n",
      "\u001b[32m  ✓ \u001b[39m\u001b[90mElectron\u001b[39m\n",
      "\u001b[32m  ✓ \u001b[39m\u001b[90mArrow\u001b[39m\n",
      "\u001b[32m  ✓ \u001b[39m\u001b[90mTimeZones\u001b[39m\n",
      "\u001b[32m  ✓ \u001b[39m\u001b[90mIterableTables\u001b[39m\n",
      "\u001b[32m  ✓ \u001b[39m\u001b[90mQueryOperators\u001b[39m\n",
      "\u001b[32m  ✓ \u001b[39m\u001b[90mDataTables\u001b[39m\n",
      "\u001b[32m  ✓ \u001b[39m\u001b[90mDiffResults\u001b[39m\n",
      "\u001b[32m  ✓ \u001b[39m\u001b[90mStructArrays\u001b[39m\n",
      "\u001b[32m  ✓ \u001b[39m\u001b[90mVega\u001b[39m\n",
      "\u001b[32m  ✓ \u001b[39m\u001b[90mLoweredCodeUtils\u001b[39m\n",
      "\u001b[32m  ✓ \u001b[39m\u001b[90mSpecialFunctions\u001b[39m\n",
      "\u001b[32m  ✓ \u001b[39m\u001b[90mParquet\u001b[39m\n",
      "\u001b[32m  ✓ \u001b[39m\u001b[90mCSV\u001b[39m\n",
      "\u001b[32m  ✓ \u001b[39m\u001b[90mContour\u001b[39m\n",
      "\u001b[32m  ✓ \u001b[39m\u001b[90mSymEngine_jll\u001b[39m\n",
      "\u001b[32m  ✓ \u001b[39m\u001b[90mGR_jll\u001b[39m\n",
      "\u001b[32m  ✓ \u001b[39m\u001b[90mStatFiles\u001b[39m\n",
      "\u001b[32m  ✓ \u001b[39m\u001b[90mIntervals\u001b[39m\n",
      "\u001b[32m  ✓ \u001b[39m\u001b[90mVcov\u001b[39m\n",
      "\u001b[32m  ✓ \u001b[39m\u001b[90mFeatherLib\u001b[39m\n",
      "\u001b[32m  ✓ \u001b[39m\u001b[90mExcelReaders\u001b[39m\n",
      "\u001b[32m  ✓ \u001b[39m\u001b[90mQuery\u001b[39m\n",
      "\u001b[32m  ✓ \u001b[39m\u001b[90mDiffRules\u001b[39m\n",
      "\u001b[32m  ✓ \u001b[39m\u001b[90mParquetFiles\u001b[39m\n",
      "\u001b[32m  ✓ \u001b[39m\u001b[90mRData\u001b[39m\n",
      "\u001b[32m  ✓ \u001b[39m\u001b[90mStatsFuns\u001b[39m\n",
      "\u001b[32m  ✓ \u001b[39mWooldridgeDatasets\n",
      "\u001b[32m  ✓ \u001b[39mVegaLite\n",
      "\u001b[32m  ✓ \u001b[39mSymEngine\n",
      "\u001b[32m  ✓ \u001b[39m\u001b[90mFeatherFiles\u001b[39m\n",
      "\u001b[32m  ✓ \u001b[39m\u001b[90mColorSchemes\u001b[39m\n",
      "\u001b[32m  ✓ \u001b[39m\u001b[90mGR\u001b[39m\n",
      "\u001b[32m  ✓ \u001b[39m\u001b[90mPolynomials\u001b[39m\n",
      "\u001b[32m  ✓ \u001b[39mSymPy\n",
      "\u001b[32m  ✓ \u001b[39mRevise\n",
      "\u001b[32m  ✓ \u001b[39mRDatasets\n",
      "\u001b[32m  ✓ \u001b[39m\u001b[90mGeometryBasics\u001b[39m\n",
      "\u001b[32m  ✓ \u001b[39mStatsModels\n",
      "\u001b[32m  ✓ \u001b[39m\u001b[90mExcelFiles\u001b[39m\n",
      "\u001b[32m  ✓ \u001b[39mDataVoyager\n",
      "\u001b[32m  ✓ \u001b[39m\u001b[90mForwardDiff\u001b[39m\n",
      "\u001b[32m  ✓ \u001b[39mDistributions\n",
      "\u001b[32m  ✓ \u001b[39m\u001b[90mDoubleFloats\u001b[39m\n",
      "\u001b[32m  ✓ \u001b[39mGLM\n",
      "\u001b[32m  ✓ \u001b[39mHypothesisTests\n",
      "\u001b[32m  ✓ \u001b[39mFixedEffectModels\n",
      "\u001b[32m  ✓ \u001b[39mCovarianceMatrices\n",
      "\u001b[32m  ✓ \u001b[39m\u001b[90mPlotUtils\u001b[39m\n",
      "\u001b[32m  ✓ \u001b[39m\u001b[90mTextParse\u001b[39m\n",
      "\u001b[32m  ✓ \u001b[39mRegressionTables\n",
      "\u001b[32m  ✓ \u001b[39mVegaDatasets\n",
      "\u001b[32m  ✓ \u001b[39m\u001b[90mCSVFiles\u001b[39m\n",
      "\u001b[32m  ✓ \u001b[39m\u001b[90mRecipesPipeline\u001b[39m\n",
      "\u001b[32m  ✓ \u001b[39m\u001b[90mPlotThemes\u001b[39m\n",
      "\u001b[32m  ✓ \u001b[39mQueryverse\n",
      "\u001b[32m  ✓ \u001b[39m\u001b[90mMathOptInterface\u001b[39m\n",
      "\u001b[32m  ✓ \u001b[39mPlots\n",
      "\u001b[32m  ✓ \u001b[39mJuMP\n",
      "  127 dependencies successfully precompiled in 87 seconds (123 already precompiled)\n"
     ]
    }
   ],
   "source": [
    "using Pkg\n",
    "Pkg.add([\"LibGEOS\", \"Plots\", \"LaTeXStrings\"])"
   ]
  },
  {
   "cell_type": "code",
   "execution_count": 4,
   "id": "16ddf311",
   "metadata": {},
   "outputs": [],
   "source": [
    "using LibGEOS, Plots, LaTeXStrings"
   ]
  },
  {
   "cell_type": "markdown",
   "id": "fda3fa0d",
   "metadata": {},
   "source": [
    "### Example _1.5.2_"
   ]
  },
  {
   "cell_type": "code",
   "execution_count": 6,
   "id": "0ec7028e",
   "metadata": {},
   "outputs": [
    {
     "data": {
      "text/plain": [
       "Eg1_5_2_F1 (generic function with 1 method)"
      ]
     },
     "execution_count": 6,
     "metadata": {},
     "output_type": "execute_result"
    }
   ],
   "source": [
    "Eg1_5_2_F1(x) = (x+1)^2"
   ]
  },
  {
   "cell_type": "code",
   "execution_count": 7,
   "id": "f076f5bf",
   "metadata": {},
   "outputs": [
    {
     "data": {
      "text/plain": [
       "Eg1_5_2_F2 (generic function with 1 method)"
      ]
     },
     "execution_count": 7,
     "metadata": {},
     "output_type": "execute_result"
    }
   ],
   "source": [
    "Eg1_5_2_F2(x) = 2^x"
   ]
  },
  {
   "cell_type": "code",
   "execution_count": 8,
   "id": "a08e4220",
   "metadata": {},
   "outputs": [
    {
     "data": {
      "image/svg+xml": [
       "<?xml version=\"1.0\" encoding=\"utf-8\"?>\n",
       "<svg xmlns=\"http://www.w3.org/2000/svg\" xmlns:xlink=\"http://www.w3.org/1999/xlink\" width=\"600\" height=\"400\" viewBox=\"0 0 2400 1600\">\n",
       "<defs>\n",
       "  <clipPath id=\"clip830\">\n",
       "    <rect x=\"0\" y=\"0\" width=\"2400\" height=\"1600\"/>\n",
       "  </clipPath>\n",
       "</defs>\n",
       "<path clip-path=\"url(#clip830)\" d=\"\n",
       "M0 1600 L2400 1600 L2400 0 L0 0  Z\n",
       "  \" fill=\"#ffffff\" fill-rule=\"evenodd\" fill-opacity=\"1\"/>\n",
       "<defs>\n",
       "  <clipPath id=\"clip831\">\n",
       "    <rect x=\"480\" y=\"0\" width=\"1681\" height=\"1600\"/>\n",
       "  </clipPath>\n",
       "</defs>\n",
       "<path clip-path=\"url(#clip830)\" d=\"\n",
       "M138.959 1486.45 L2352.76 1486.45 L2352.76 123.472 L138.959 123.472  Z\n",
       "  \" fill=\"#ffffff\" fill-rule=\"evenodd\" fill-opacity=\"1\"/>\n",
       "<defs>\n",
       "  <clipPath id=\"clip832\">\n",
       "    <rect x=\"138\" y=\"123\" width=\"2215\" height=\"1364\"/>\n",
       "  </clipPath>\n",
       "</defs>\n",
       "<polyline clip-path=\"url(#clip832)\" style=\"stroke:#000000; stroke-linecap:butt; stroke-linejoin:round; stroke-width:2; stroke-opacity:0.1; fill:none\" points=\"\n",
       "  201.614,1486.45 201.614,123.472 \n",
       "  \"/>\n",
       "<polyline clip-path=\"url(#clip832)\" style=\"stroke:#000000; stroke-linecap:butt; stroke-linejoin:round; stroke-width:2; stroke-opacity:0.1; fill:none\" points=\"\n",
       "  549.695,1486.45 549.695,123.472 \n",
       "  \"/>\n",
       "<polyline clip-path=\"url(#clip832)\" style=\"stroke:#000000; stroke-linecap:butt; stroke-linejoin:round; stroke-width:2; stroke-opacity:0.1; fill:none\" points=\"\n",
       "  897.776,1486.45 897.776,123.472 \n",
       "  \"/>\n",
       "<polyline clip-path=\"url(#clip832)\" style=\"stroke:#000000; stroke-linecap:butt; stroke-linejoin:round; stroke-width:2; stroke-opacity:0.1; fill:none\" points=\"\n",
       "  1245.86,1486.45 1245.86,123.472 \n",
       "  \"/>\n",
       "<polyline clip-path=\"url(#clip832)\" style=\"stroke:#000000; stroke-linecap:butt; stroke-linejoin:round; stroke-width:2; stroke-opacity:0.1; fill:none\" points=\"\n",
       "  1593.94,1486.45 1593.94,123.472 \n",
       "  \"/>\n",
       "<polyline clip-path=\"url(#clip832)\" style=\"stroke:#000000; stroke-linecap:butt; stroke-linejoin:round; stroke-width:2; stroke-opacity:0.1; fill:none\" points=\"\n",
       "  1942.02,1486.45 1942.02,123.472 \n",
       "  \"/>\n",
       "<polyline clip-path=\"url(#clip832)\" style=\"stroke:#000000; stroke-linecap:butt; stroke-linejoin:round; stroke-width:2; stroke-opacity:0.1; fill:none\" points=\"\n",
       "  2290.1,1486.45 2290.1,123.472 \n",
       "  \"/>\n",
       "<polyline clip-path=\"url(#clip830)\" style=\"stroke:#000000; stroke-linecap:butt; stroke-linejoin:round; stroke-width:4; stroke-opacity:1; fill:none\" points=\"\n",
       "  138.959,1486.45 2352.76,1486.45 \n",
       "  \"/>\n",
       "<polyline clip-path=\"url(#clip830)\" style=\"stroke:#000000; stroke-linecap:butt; stroke-linejoin:round; stroke-width:4; stroke-opacity:1; fill:none\" points=\"\n",
       "  201.614,1486.45 201.614,1470.09 \n",
       "  \"/>\n",
       "<polyline clip-path=\"url(#clip830)\" style=\"stroke:#000000; stroke-linecap:butt; stroke-linejoin:round; stroke-width:4; stroke-opacity:1; fill:none\" points=\"\n",
       "  549.695,1486.45 549.695,1470.09 \n",
       "  \"/>\n",
       "<polyline clip-path=\"url(#clip830)\" style=\"stroke:#000000; stroke-linecap:butt; stroke-linejoin:round; stroke-width:4; stroke-opacity:1; fill:none\" points=\"\n",
       "  897.776,1486.45 897.776,1470.09 \n",
       "  \"/>\n",
       "<polyline clip-path=\"url(#clip830)\" style=\"stroke:#000000; stroke-linecap:butt; stroke-linejoin:round; stroke-width:4; stroke-opacity:1; fill:none\" points=\"\n",
       "  1245.86,1486.45 1245.86,1470.09 \n",
       "  \"/>\n",
       "<polyline clip-path=\"url(#clip830)\" style=\"stroke:#000000; stroke-linecap:butt; stroke-linejoin:round; stroke-width:4; stroke-opacity:1; fill:none\" points=\"\n",
       "  1593.94,1486.45 1593.94,1470.09 \n",
       "  \"/>\n",
       "<polyline clip-path=\"url(#clip830)\" style=\"stroke:#000000; stroke-linecap:butt; stroke-linejoin:round; stroke-width:4; stroke-opacity:1; fill:none\" points=\"\n",
       "  1942.02,1486.45 1942.02,1470.09 \n",
       "  \"/>\n",
       "<polyline clip-path=\"url(#clip830)\" style=\"stroke:#000000; stroke-linecap:butt; stroke-linejoin:round; stroke-width:4; stroke-opacity:1; fill:none\" points=\"\n",
       "  2290.1,1486.45 2290.1,1470.09 \n",
       "  \"/>\n",
       "<path clip-path=\"url(#clip830)\" d=\"M171.082 1530.29 L200.758 1530.29 L200.758 1534.23 L171.082 1534.23 L171.082 1530.29 Z\" fill=\"#000000\" fill-rule=\"evenodd\" fill-opacity=\"1\" /><path clip-path=\"url(#clip830)\" d=\"M225.017 1528.49 Q228.373 1529.2 230.248 1531.47 Q232.146 1533.74 232.146 1537.07 Q232.146 1542.19 228.628 1544.99 Q225.109 1547.79 218.628 1547.79 Q216.452 1547.79 214.137 1547.35 Q211.845 1546.93 209.392 1546.08 L209.392 1541.56 Q211.336 1542.7 213.651 1543.28 Q215.966 1543.86 218.489 1543.86 Q222.887 1543.86 225.179 1542.12 Q227.494 1540.38 227.494 1537.07 Q227.494 1534.02 225.341 1532.31 Q223.211 1530.57 219.392 1530.57 L215.364 1530.57 L215.364 1526.73 L219.577 1526.73 Q223.026 1526.73 224.855 1525.36 Q226.683 1523.97 226.683 1521.38 Q226.683 1518.72 224.785 1517.31 Q222.91 1515.87 219.392 1515.87 Q217.47 1515.87 215.271 1516.29 Q213.072 1516.7 210.433 1517.58 L210.433 1513.42 Q213.095 1512.68 215.41 1512.31 Q217.748 1511.93 219.808 1511.93 Q225.132 1511.93 228.234 1514.37 Q231.336 1516.77 231.336 1520.89 Q231.336 1523.76 229.693 1525.75 Q228.049 1527.72 225.017 1528.49 Z\" fill=\"#000000\" fill-rule=\"evenodd\" fill-opacity=\"1\" /><path clip-path=\"url(#clip830)\" d=\"M519.638 1530.29 L549.313 1530.29 L549.313 1534.23 L519.638 1534.23 L519.638 1530.29 Z\" fill=\"#000000\" fill-rule=\"evenodd\" fill-opacity=\"1\" /><path clip-path=\"url(#clip830)\" d=\"M563.434 1543.18 L579.753 1543.18 L579.753 1547.12 L557.809 1547.12 L557.809 1543.18 Q560.471 1540.43 565.054 1535.8 Q569.66 1531.15 570.841 1529.81 Q573.086 1527.28 573.966 1525.55 Q574.869 1523.79 574.869 1522.1 Q574.869 1519.34 572.924 1517.61 Q571.003 1515.87 567.901 1515.87 Q565.702 1515.87 563.248 1516.63 Q560.818 1517.4 558.04 1518.95 L558.04 1514.23 Q560.864 1513.09 563.318 1512.51 Q565.772 1511.93 567.809 1511.93 Q573.179 1511.93 576.373 1514.62 Q579.568 1517.31 579.568 1521.8 Q579.568 1523.93 578.758 1525.85 Q577.971 1527.74 575.864 1530.34 Q575.285 1531.01 572.184 1534.23 Q569.082 1537.42 563.434 1543.18 Z\" fill=\"#000000\" fill-rule=\"evenodd\" fill-opacity=\"1\" /><path clip-path=\"url(#clip830)\" d=\"M867.534 1530.29 L897.209 1530.29 L897.209 1534.23 L867.534 1534.23 L867.534 1530.29 Z\" fill=\"#000000\" fill-rule=\"evenodd\" fill-opacity=\"1\" /><path clip-path=\"url(#clip830)\" d=\"M908.112 1543.18 L915.751 1543.18 L915.751 1516.82 L907.441 1518.49 L907.441 1514.23 L915.705 1512.56 L920.381 1512.56 L920.381 1543.18 L928.019 1543.18 L928.019 1547.12 L908.112 1547.12 L908.112 1543.18 Z\" fill=\"#000000\" fill-rule=\"evenodd\" fill-opacity=\"1\" /><path clip-path=\"url(#clip830)\" d=\"M1245.86 1515.64 Q1242.25 1515.64 1240.42 1519.2 Q1238.61 1522.75 1238.61 1529.87 Q1238.61 1536.98 1240.42 1540.55 Q1242.25 1544.09 1245.86 1544.09 Q1249.49 1544.09 1251.3 1540.55 Q1253.13 1536.98 1253.13 1529.87 Q1253.13 1522.75 1251.3 1519.2 Q1249.49 1515.64 1245.86 1515.64 M1245.86 1511.93 Q1251.67 1511.93 1254.72 1516.54 Q1257.8 1521.12 1257.8 1529.87 Q1257.8 1538.6 1254.72 1543.21 Q1251.67 1547.79 1245.86 1547.79 Q1240.05 1547.79 1236.97 1543.21 Q1233.91 1538.6 1233.91 1529.87 Q1233.91 1521.12 1236.97 1516.54 Q1240.05 1511.93 1245.86 1511.93 Z\" fill=\"#000000\" fill-rule=\"evenodd\" fill-opacity=\"1\" /><path clip-path=\"url(#clip830)\" d=\"M1584.32 1543.18 L1591.96 1543.18 L1591.96 1516.82 L1583.65 1518.49 L1583.65 1514.23 L1591.91 1512.56 L1596.59 1512.56 L1596.59 1543.18 L1604.23 1543.18 L1604.23 1547.12 L1584.32 1547.12 L1584.32 1543.18 Z\" fill=\"#000000\" fill-rule=\"evenodd\" fill-opacity=\"1\" /><path clip-path=\"url(#clip830)\" d=\"M1936.67 1543.18 L1952.99 1543.18 L1952.99 1547.12 L1931.05 1547.12 L1931.05 1543.18 Q1933.71 1540.43 1938.29 1535.8 Q1942.9 1531.15 1944.08 1529.81 Q1946.33 1527.28 1947.21 1525.55 Q1948.11 1523.79 1948.11 1522.1 Q1948.11 1519.34 1946.16 1517.61 Q1944.24 1515.87 1941.14 1515.87 Q1938.94 1515.87 1936.49 1516.63 Q1934.06 1517.4 1931.28 1518.95 L1931.28 1514.23 Q1934.1 1513.09 1936.56 1512.51 Q1939.01 1511.93 1941.05 1511.93 Q1946.42 1511.93 1949.61 1514.62 Q1952.81 1517.31 1952.81 1521.8 Q1952.81 1523.93 1952 1525.85 Q1951.21 1527.74 1949.1 1530.34 Q1948.52 1531.01 1945.42 1534.23 Q1942.32 1537.42 1936.67 1543.18 Z\" fill=\"#000000\" fill-rule=\"evenodd\" fill-opacity=\"1\" /><path clip-path=\"url(#clip830)\" d=\"M2294.35 1528.49 Q2297.71 1529.2 2299.58 1531.47 Q2301.48 1533.74 2301.48 1537.07 Q2301.48 1542.19 2297.96 1544.99 Q2294.44 1547.79 2287.96 1547.79 Q2285.78 1547.79 2283.47 1547.35 Q2281.18 1546.93 2278.72 1546.08 L2278.72 1541.56 Q2280.67 1542.7 2282.98 1543.28 Q2285.3 1543.86 2287.82 1543.86 Q2292.22 1543.86 2294.51 1542.12 Q2296.83 1540.38 2296.83 1537.07 Q2296.83 1534.02 2294.67 1532.31 Q2292.54 1530.57 2288.72 1530.57 L2284.7 1530.57 L2284.7 1526.73 L2288.91 1526.73 Q2292.36 1526.73 2294.19 1525.36 Q2296.02 1523.97 2296.02 1521.38 Q2296.02 1518.72 2294.12 1517.31 Q2292.24 1515.87 2288.72 1515.87 Q2286.8 1515.87 2284.6 1516.29 Q2282.4 1516.7 2279.77 1517.58 L2279.77 1513.42 Q2282.43 1512.68 2284.74 1512.31 Q2287.08 1511.93 2289.14 1511.93 Q2294.46 1511.93 2297.57 1514.37 Q2300.67 1516.77 2300.67 1520.89 Q2300.67 1523.76 2299.02 1525.75 Q2297.38 1527.72 2294.35 1528.49 Z\" fill=\"#000000\" fill-rule=\"evenodd\" fill-opacity=\"1\" /><polyline clip-path=\"url(#clip832)\" style=\"stroke:#000000; stroke-linecap:butt; stroke-linejoin:round; stroke-width:2; stroke-opacity:0.1; fill:none\" points=\"\n",
       "  138.959,1448.28 2352.76,1448.28 \n",
       "  \"/>\n",
       "<polyline clip-path=\"url(#clip832)\" style=\"stroke:#000000; stroke-linecap:butt; stroke-linejoin:round; stroke-width:2; stroke-opacity:0.1; fill:none\" points=\"\n",
       "  138.959,1046.34 2352.76,1046.34 \n",
       "  \"/>\n",
       "<polyline clip-path=\"url(#clip832)\" style=\"stroke:#000000; stroke-linecap:butt; stroke-linejoin:round; stroke-width:2; stroke-opacity:0.1; fill:none\" points=\"\n",
       "  138.959,644.386 2352.76,644.386 \n",
       "  \"/>\n",
       "<polyline clip-path=\"url(#clip832)\" style=\"stroke:#000000; stroke-linecap:butt; stroke-linejoin:round; stroke-width:2; stroke-opacity:0.1; fill:none\" points=\"\n",
       "  138.959,242.437 2352.76,242.437 \n",
       "  \"/>\n",
       "<polyline clip-path=\"url(#clip830)\" style=\"stroke:#000000; stroke-linecap:butt; stroke-linejoin:round; stroke-width:4; stroke-opacity:1; fill:none\" points=\"\n",
       "  138.959,1486.45 138.959,123.472 \n",
       "  \"/>\n",
       "<polyline clip-path=\"url(#clip830)\" style=\"stroke:#000000; stroke-linecap:butt; stroke-linejoin:round; stroke-width:4; stroke-opacity:1; fill:none\" points=\"\n",
       "  138.959,1448.28 165.525,1448.28 \n",
       "  \"/>\n",
       "<polyline clip-path=\"url(#clip830)\" style=\"stroke:#000000; stroke-linecap:butt; stroke-linejoin:round; stroke-width:4; stroke-opacity:1; fill:none\" points=\"\n",
       "  138.959,1046.34 165.525,1046.34 \n",
       "  \"/>\n",
       "<polyline clip-path=\"url(#clip830)\" style=\"stroke:#000000; stroke-linecap:butt; stroke-linejoin:round; stroke-width:4; stroke-opacity:1; fill:none\" points=\"\n",
       "  138.959,644.386 165.525,644.386 \n",
       "  \"/>\n",
       "<polyline clip-path=\"url(#clip830)\" style=\"stroke:#000000; stroke-linecap:butt; stroke-linejoin:round; stroke-width:4; stroke-opacity:1; fill:none\" points=\"\n",
       "  138.959,242.437 165.525,242.437 \n",
       "  \"/>\n",
       "<path clip-path=\"url(#clip830)\" d=\"M91.0151 1434.08 Q87.404 1434.08 85.5753 1437.65 Q83.7697 1441.19 83.7697 1448.32 Q83.7697 1455.43 85.5753 1458.99 Q87.404 1462.53 91.0151 1462.53 Q94.6493 1462.53 96.4548 1458.99 Q98.2835 1455.43 98.2835 1448.32 Q98.2835 1441.19 96.4548 1437.65 Q94.6493 1434.08 91.0151 1434.08 M91.0151 1430.38 Q96.8252 1430.38 99.8808 1434.99 Q102.959 1439.57 102.959 1448.32 Q102.959 1457.05 99.8808 1461.65 Q96.8252 1466.24 91.0151 1466.24 Q85.2049 1466.24 82.1262 1461.65 Q79.0707 1457.05 79.0707 1448.32 Q79.0707 1439.57 82.1262 1434.99 Q85.2049 1430.38 91.0151 1430.38 Z\" fill=\"#000000\" fill-rule=\"evenodd\" fill-opacity=\"1\" /><path clip-path=\"url(#clip830)\" d=\"M82.0568 1029.06 L100.413 1029.06 L100.413 1032.99 L86.3392 1032.99 L86.3392 1041.46 Q87.3577 1041.12 88.3762 1040.95 Q89.3947 1040.77 90.4132 1040.77 Q96.2002 1040.77 99.5798 1043.94 Q102.959 1047.11 102.959 1052.53 Q102.959 1058.11 99.4872 1061.21 Q96.015 1064.29 89.6956 1064.29 Q87.5197 1064.29 85.2512 1063.92 Q83.0058 1063.55 80.5984 1062.81 L80.5984 1058.11 Q82.6818 1059.24 84.904 1059.8 Q87.1262 1060.35 89.603 1060.35 Q93.6076 1060.35 95.9456 1058.25 Q98.2835 1056.14 98.2835 1052.53 Q98.2835 1048.92 95.9456 1046.81 Q93.6076 1044.7 89.603 1044.7 Q87.728 1044.7 85.8531 1045.12 Q84.0012 1045.54 82.0568 1046.42 L82.0568 1029.06 Z\" fill=\"#000000\" fill-rule=\"evenodd\" fill-opacity=\"1\" /><path clip-path=\"url(#clip830)\" d=\"M51.6634 657.731 L59.3023 657.731 L59.3023 631.365 L50.9921 633.032 L50.9921 628.773 L59.256 627.106 L63.9319 627.106 L63.9319 657.731 L71.5707 657.731 L71.5707 661.666 L51.6634 661.666 L51.6634 657.731 Z\" fill=\"#000000\" fill-rule=\"evenodd\" fill-opacity=\"1\" /><path clip-path=\"url(#clip830)\" d=\"M91.0151 630.185 Q87.404 630.185 85.5753 633.75 Q83.7697 637.291 83.7697 644.421 Q83.7697 651.527 85.5753 655.092 Q87.404 658.634 91.0151 658.634 Q94.6493 658.634 96.4548 655.092 Q98.2835 651.527 98.2835 644.421 Q98.2835 637.291 96.4548 633.75 Q94.6493 630.185 91.0151 630.185 M91.0151 626.481 Q96.8252 626.481 99.8808 631.088 Q102.959 635.671 102.959 644.421 Q102.959 653.148 99.8808 657.754 Q96.8252 662.337 91.0151 662.337 Q85.2049 662.337 82.1262 657.754 Q79.0707 653.148 79.0707 644.421 Q79.0707 635.671 82.1262 631.088 Q85.2049 626.481 91.0151 626.481 Z\" fill=\"#000000\" fill-rule=\"evenodd\" fill-opacity=\"1\" /><path clip-path=\"url(#clip830)\" d=\"M52.6588 255.782 L60.2976 255.782 L60.2976 229.416 L51.9875 231.083 L51.9875 226.823 L60.2513 225.157 L64.9272 225.157 L64.9272 255.782 L72.5661 255.782 L72.5661 259.717 L52.6588 259.717 L52.6588 255.782 Z\" fill=\"#000000\" fill-rule=\"evenodd\" fill-opacity=\"1\" /><path clip-path=\"url(#clip830)\" d=\"M82.0568 225.157 L100.413 225.157 L100.413 229.092 L86.3392 229.092 L86.3392 237.564 Q87.3577 237.217 88.3762 237.055 Q89.3947 236.87 90.4132 236.87 Q96.2002 236.87 99.5798 240.041 Q102.959 243.212 102.959 248.629 Q102.959 254.208 99.4872 257.309 Q96.015 260.388 89.6956 260.388 Q87.5197 260.388 85.2512 260.018 Q83.0058 259.647 80.5984 258.907 L80.5984 254.208 Q82.6818 255.342 84.904 255.897 Q87.1262 256.453 89.603 256.453 Q93.6076 256.453 95.9456 254.346 Q98.2835 252.24 98.2835 248.629 Q98.2835 245.018 95.9456 242.911 Q93.6076 240.805 89.603 240.805 Q87.728 240.805 85.8531 241.222 Q84.0012 241.638 82.0568 242.518 L82.0568 225.157 Z\" fill=\"#000000\" fill-rule=\"evenodd\" fill-opacity=\"1\" /><path clip-path=\"url(#clip830)\" d=\"M955.388 12.096 L993.628 12.096 L993.628 18.9825 L963.57 18.9825 L963.57 36.8875 L992.372 36.8875 L992.372 43.7741 L963.57 43.7741 L963.57 65.6895 L994.357 65.6895 L994.357 72.576 L955.388 72.576 L955.388 12.096 Z\" fill=\"#000000\" fill-rule=\"evenodd\" fill-opacity=\"1\" /><path clip-path=\"url(#clip830)\" d=\"M1045.2 27.2059 L1028.79 49.2833 L1046.05 72.576 L1037.26 72.576 L1024.05 54.752 L1010.84 72.576 L1002.05 72.576 L1019.68 48.8377 L1003.55 27.2059 L1012.34 27.2059 L1024.37 43.369 L1036.41 27.2059 L1045.2 27.2059 Z\" fill=\"#000000\" fill-rule=\"evenodd\" fill-opacity=\"1\" /><path clip-path=\"url(#clip830)\" d=\"M1077.2 49.7694 Q1068.16 49.7694 1064.68 51.8354 Q1061.2 53.9013 1061.2 58.8839 Q1061.2 62.8538 1063.79 65.2034 Q1066.42 67.5124 1070.92 67.5124 Q1077.12 67.5124 1080.84 63.1374 Q1084.61 58.7219 1084.61 51.4303 L1084.61 49.7694 L1077.2 49.7694 M1092.07 46.6907 L1092.07 72.576 L1084.61 72.576 L1084.61 65.6895 Q1082.06 69.8214 1078.25 71.8063 Q1074.44 73.7508 1068.93 73.7508 Q1061.97 73.7508 1057.83 69.8619 Q1053.74 65.9325 1053.74 59.3701 Q1053.74 51.7138 1058.85 47.825 Q1063.99 43.9361 1074.16 43.9361 L1084.61 43.9361 L1084.61 43.2069 Q1084.61 38.0623 1081.21 35.2672 Q1077.85 32.4315 1071.73 32.4315 Q1067.84 32.4315 1064.15 33.3632 Q1060.47 34.295 1057.07 36.1584 L1057.07 29.2718 Q1061.16 27.692 1065.01 26.9223 Q1068.85 26.1121 1072.5 26.1121 Q1082.34 26.1121 1087.2 31.2163 Q1092.07 36.3204 1092.07 46.6907 Z\" fill=\"#000000\" fill-rule=\"evenodd\" fill-opacity=\"1\" /><path clip-path=\"url(#clip830)\" d=\"M1142.74 35.9153 Q1145.54 30.8922 1149.43 28.5022 Q1153.31 26.1121 1158.58 26.1121 Q1165.67 26.1121 1169.52 31.0947 Q1173.37 36.0368 1173.37 45.1919 L1173.37 72.576 L1165.87 72.576 L1165.87 45.4349 Q1165.87 38.913 1163.56 35.7533 Q1161.25 32.5936 1156.51 32.5936 Q1150.72 32.5936 1147.36 36.4419 Q1144 40.2903 1144 46.9338 L1144 72.576 L1136.5 72.576 L1136.5 45.4349 Q1136.5 38.8725 1134.19 35.7533 Q1131.89 32.5936 1127.06 32.5936 Q1121.35 32.5936 1117.99 36.4824 Q1114.63 40.3308 1114.63 46.9338 L1114.63 72.576 L1107.13 72.576 L1107.13 27.2059 L1114.63 27.2059 L1114.63 34.2544 Q1117.18 30.082 1120.75 28.0971 Q1124.31 26.1121 1129.21 26.1121 Q1134.15 26.1121 1137.6 28.6237 Q1141.08 31.1352 1142.74 35.9153 Z\" fill=\"#000000\" fill-rule=\"evenodd\" fill-opacity=\"1\" /><path clip-path=\"url(#clip830)\" d=\"M1195.44 65.7705 L1195.44 89.8329 L1187.95 89.8329 L1187.95 27.2059 L1195.44 27.2059 L1195.44 34.0924 Q1197.79 30.0415 1201.36 28.0971 Q1204.96 26.1121 1209.95 26.1121 Q1218.21 26.1121 1223.35 32.6746 Q1228.54 39.2371 1228.54 49.9314 Q1228.54 60.6258 1223.35 67.1883 Q1218.21 73.7508 1209.95 73.7508 Q1204.96 73.7508 1201.36 71.8063 Q1197.79 69.8214 1195.44 65.7705 M1220.8 49.9314 Q1220.8 41.7081 1217.4 37.0496 Q1214.04 32.3505 1208.12 32.3505 Q1202.21 32.3505 1198.81 37.0496 Q1195.44 41.7081 1195.44 49.9314 Q1195.44 58.1548 1198.81 62.8538 Q1202.21 67.5124 1208.12 67.5124 Q1214.04 67.5124 1217.4 62.8538 Q1220.8 58.1548 1220.8 49.9314 Z\" fill=\"#000000\" fill-rule=\"evenodd\" fill-opacity=\"1\" /><path clip-path=\"url(#clip830)\" d=\"M1240.9 9.54393 L1248.35 9.54393 L1248.35 72.576 L1240.9 72.576 L1240.9 9.54393 Z\" fill=\"#000000\" fill-rule=\"evenodd\" fill-opacity=\"1\" /><path clip-path=\"url(#clip830)\" d=\"M1302.75 48.0275 L1302.75 51.6733 L1268.48 51.6733 Q1268.97 59.3701 1273.1 63.421 Q1277.27 67.4314 1284.69 67.4314 Q1288.98 67.4314 1292.99 66.3781 Q1297.04 65.3249 1301.01 63.2184 L1301.01 70.267 Q1297 71.9684 1292.79 72.8596 Q1288.57 73.7508 1284.24 73.7508 Q1273.38 73.7508 1267.02 67.4314 Q1260.7 61.1119 1260.7 50.3365 Q1260.7 39.1965 1266.7 32.6746 Q1272.74 26.1121 1282.94 26.1121 Q1292.1 26.1121 1297.41 32.0264 Q1302.75 37.9003 1302.75 48.0275 M1295.3 45.84 Q1295.22 39.7232 1291.86 36.0774 Q1288.53 32.4315 1283.02 32.4315 Q1276.79 32.4315 1273.02 35.9558 Q1269.29 39.4801 1268.73 45.8805 L1295.3 45.84 Z\" fill=\"#000000\" fill-rule=\"evenodd\" fill-opacity=\"1\" /><path clip-path=\"url(#clip830)\" d=\"M1343.83 65.6895 L1357.2 65.6895 L1357.2 19.5497 L1342.65 22.4663 L1342.65 15.0127 L1357.12 12.096 L1365.3 12.096 L1365.3 65.6895 L1378.67 65.6895 L1378.67 72.576 L1343.83 72.576 L1343.83 65.6895 Z\" fill=\"#000000\" fill-rule=\"evenodd\" fill-opacity=\"1\" /><path clip-path=\"url(#clip830)\" d=\"M1395.19 62.2867 L1403.74 62.2867 L1403.74 72.576 L1395.19 72.576 L1395.19 62.2867 Z\" fill=\"#000000\" fill-rule=\"evenodd\" fill-opacity=\"1\" /><path clip-path=\"url(#clip830)\" d=\"M1421.65 12.096 L1453.77 12.096 L1453.77 18.9825 L1429.14 18.9825 L1429.14 33.8088 Q1430.92 33.2012 1432.71 32.9176 Q1434.49 32.5936 1436.27 32.5936 Q1446.4 32.5936 1452.31 38.1433 Q1458.23 43.6931 1458.23 53.1722 Q1458.23 62.9348 1452.15 68.3631 Q1446.07 73.7508 1435.01 73.7508 Q1431.21 73.7508 1427.24 73.1026 Q1423.31 72.4545 1419.09 71.1582 L1419.09 62.9348 Q1422.74 64.9198 1426.63 65.892 Q1430.52 66.8642 1434.85 66.8642 Q1441.86 66.8642 1445.95 63.1779 Q1450.04 59.4916 1450.04 53.1722 Q1450.04 46.8528 1445.95 43.1664 Q1441.86 39.4801 1434.85 39.4801 Q1431.57 39.4801 1428.29 40.2093 Q1425.05 40.9384 1421.65 42.4778 L1421.65 12.096 Z\" fill=\"#000000\" fill-rule=\"evenodd\" fill-opacity=\"1\" /><path clip-path=\"url(#clip830)\" d=\"M1474.35 62.2867 L1482.9 62.2867 L1482.9 72.576 L1474.35 72.576 L1474.35 62.2867 Z\" fill=\"#000000\" fill-rule=\"evenodd\" fill-opacity=\"1\" /><path clip-path=\"url(#clip830)\" d=\"M1507.77 65.6895 L1536.33 65.6895 L1536.33 72.576 L1497.93 72.576 L1497.93 65.6895 Q1502.58 60.8689 1510.6 52.7671 Q1518.67 44.6248 1520.73 42.2752 Q1524.66 37.8598 1526.2 34.8216 Q1527.78 31.7429 1527.78 28.7857 Q1527.78 23.9651 1524.38 20.927 Q1521.02 17.8888 1515.59 17.8888 Q1511.74 17.8888 1507.44 19.2256 Q1503.19 20.5624 1498.33 23.2765 L1498.33 15.0127 Q1503.27 13.0277 1507.57 12.015 Q1511.86 11.0023 1515.43 11.0023 Q1524.82 11.0023 1530.41 15.7013 Q1536 20.4004 1536 28.2591 Q1536 31.9859 1534.59 35.3482 Q1533.21 38.6699 1529.52 43.2069 Q1528.51 44.3817 1523.08 50.0125 Q1517.65 55.6027 1507.77 65.6895 Z\" fill=\"#000000\" fill-rule=\"evenodd\" fill-opacity=\"1\" /><polyline clip-path=\"url(#clip832)\" style=\"stroke:#009af9; stroke-linecap:butt; stroke-linejoin:round; stroke-width:4; stroke-opacity:1; fill:none\" points=\"\n",
       "  201.614,1126.73 211.812,1136.08 222.01,1145.29 316.304,1223.95 410.598,1290.81 467.265,1325.31 523.932,1355.55 571.843,1377.8 619.755,1397 723.844,1428.21 \n",
       "  819.806,1444.25 922.687,1447.87 1041.88,1434.51 1147.81,1406.8 1240.7,1370.26 1341.98,1317.37 1443.86,1250.43 1556.49,1160.39 1663.67,1059.08 1775.1,937.591 \n",
       "  1868.91,822.545 1926.17,746.577 1983.43,666.257 2037.26,586.787 2091.09,503.472 2177.32,361.98 2263.56,210.62 2276.83,186.451 2290.1,162.047 \n",
       "  \"/>\n",
       "<polyline clip-path=\"url(#clip832)\" style=\"stroke:#e26f46; stroke-linecap:butt; stroke-linejoin:round; stroke-width:4; stroke-opacity:1; fill:none\" points=\"\n",
       "  201.614,1438.24 222.01,1437.82 410.598,1433.05 523.932,1429.19 619.755,1425.18 723.844,1419.86 819.806,1413.87 922.687,1406.05 1041.88,1394.73 1147.81,1382.15 \n",
       "  1240.7,1368.72 1341.98,1350.94 1443.86,1329.04 1556.49,1299.06 1663.67,1263.56 1719.38,1241.88 1775.1,1217.66 1822,1195.08 1868.91,1170.29 1926.17,1136.72 \n",
       "  1983.43,1099.09 2037.26,1059.58 2091.09,1015.59 2134.2,976.801 2177.32,934.529 2220.44,888.467 2263.56,838.276 2270.19,830.162 2276.83,821.94 2283.47,813.608 \n",
       "  2290.1,805.166 \n",
       "  \"/>\n",
       "<path clip-path=\"url(#clip830)\" d=\"\n",
       "M1707.5 357.916 L2278.96 357.916 L2278.96 168.905 L1707.5 168.905  Z\n",
       "  \" fill=\"#ffffff\" fill-rule=\"evenodd\" fill-opacity=\"1\"/>\n",
       "<polyline clip-path=\"url(#clip830)\" style=\"stroke:#000000; stroke-linecap:butt; stroke-linejoin:round; stroke-width:4; stroke-opacity:1; fill:none\" points=\"\n",
       "  1707.5,357.916 2278.96,357.916 2278.96,168.905 1707.5,168.905 1707.5,357.916 \n",
       "  \"/>\n",
       "<polyline clip-path=\"url(#clip830)\" style=\"stroke:#009af9; stroke-linecap:butt; stroke-linejoin:round; stroke-width:4; stroke-opacity:1; fill:none\" points=\"\n",
       "  1732.1,231.909 1879.68,231.909 \n",
       "  \"/>\n",
       "<path clip-path=\"url(#clip830)\" d=\"M1938.34 220.22 L1937.38 228.511 Q1937.31 229.261 1937.19 229.495 Q1937.07 229.706 1936.7 229.706 Q1936.14 229.706 1936.14 229.144 Q1936.14 228.909 1936.23 228.277 Q1936.37 226.989 1936.37 225.677 Q1936.37 224.202 1936.09 223.288 Q1935.83 222.351 1935.08 221.672 Q1934.33 220.993 1932.95 220.712 Q1931.57 220.407 1929.37 220.407 L1923.04 220.407 Q1921.5 220.407 1921.12 220.688 Q1920.77 220.969 1920.44 222.281 L1917.38 234.461 L1921.73 234.461 Q1924.78 234.461 1925.97 233.57 Q1927.17 232.68 1927.92 229.846 Q1928.03 229.401 1928.08 229.237 Q1928.15 229.05 1928.27 228.956 Q1928.41 228.839 1928.64 228.839 Q1928.85 228.839 1928.99 228.98 Q1929.13 229.097 1929.18 229.237 L1929.23 229.378 Q1929.23 229.612 1929.09 230.151 L1926.44 240.55 Q1926.25 241.253 1926.14 241.417 Q1926.04 241.558 1925.71 241.558 Q1925.48 241.558 1925.32 241.394 Q1925.15 241.23 1925.15 240.972 Q1925.2 240.691 1925.29 240.457 Q1925.62 239.028 1925.62 238.114 Q1925.62 237.529 1925.5 237.178 Q1925.39 236.826 1924.99 236.522 Q1924.59 236.217 1923.77 236.077 Q1922.95 235.936 1921.64 235.936 L1917 235.936 L1914.03 247.882 L1913.82 248.982 Q1913.82 249.474 1914.07 249.662 Q1914.35 249.849 1915.36 249.943 Q1916.86 250.06 1917.84 250.06 Q1919.06 250.06 1919.2 250.107 Q1919.48 250.247 1919.48 250.622 Q1919.48 251.044 1919.3 251.278 Q1919.11 251.489 1918.95 251.512 Q1918.78 251.536 1918.48 251.536 L1911.33 251.395 L1905.01 251.536 Q1904.28 251.536 1904.28 250.95 Q1904.28 250.505 1904.47 250.318 Q1904.66 250.107 1904.87 250.083 Q1905.08 250.06 1905.62 250.06 Q1906.79 250.06 1907.49 249.99 Q1908.19 249.919 1908.64 249.826 Q1909.11 249.709 1909.34 249.381 Q1909.6 249.053 1909.72 248.772 Q1909.83 248.467 1910 247.788 L1916.32 222.421 Q1916.56 221.555 1916.56 221.274 Q1916.56 220.969 1916.35 220.782 Q1916.16 220.594 1915.64 220.524 Q1915.13 220.431 1914.71 220.431 Q1914.31 220.407 1913.44 220.407 Q1912.88 220.407 1912.64 220.384 Q1912.43 220.36 1912.27 220.243 Q1912.11 220.126 1912.11 219.868 Q1912.11 219.213 1912.39 219.072 Q1912.69 218.908 1913.53 218.908 L1937.05 218.908 Q1937.99 218.908 1938.2 219.119 Q1938.43 219.306 1938.34 220.22 Z\" fill=\"#000000\" fill-rule=\"evenodd\" fill-opacity=\"1\" /><path clip-path=\"url(#clip830)\" d=\"M1934.81 239.543 Q1934.81 231.439 1937.83 224.904 Q1939.11 222.164 1940.92 219.868 Q1942.72 217.573 1943.92 216.566 Q1945.11 215.559 1945.44 215.559 Q1945.91 215.559 1945.93 216.027 Q1945.93 216.261 1945.3 216.847 Q1937.57 224.717 1937.59 239.543 Q1937.59 254.416 1945.11 261.982 Q1945.93 262.802 1945.93 263.059 Q1945.93 263.528 1945.44 263.528 Q1945.11 263.528 1943.96 262.567 Q1942.82 261.607 1941.04 259.405 Q1939.26 257.204 1937.97 254.51 Q1934.81 247.975 1934.81 239.543 Z\" fill=\"#000000\" fill-rule=\"evenodd\" fill-opacity=\"1\" /><path clip-path=\"url(#clip830)\" d=\"M1977.11 233.5 Q1977.11 234.812 1976.29 235.561 Q1975.47 236.287 1974.54 236.287 Q1973.65 236.287 1973.18 235.772 Q1972.71 235.257 1972.71 234.601 Q1972.71 233.711 1973.36 232.938 Q1974.02 232.165 1975 232.001 Q1974.04 231.392 1972.61 231.392 Q1971.68 231.392 1970.86 231.884 Q1970.06 232.376 1969.57 233.008 Q1969.1 233.641 1968.68 234.554 Q1968.28 235.444 1968.12 235.983 Q1967.98 236.498 1967.86 237.06 L1966.22 243.619 Q1965.42 246.734 1965.42 247.835 Q1965.42 249.193 1966.08 250.107 Q1966.74 250.997 1968.05 250.997 Q1968.56 250.997 1969.15 250.856 Q1969.73 250.692 1970.48 250.271 Q1971.26 249.826 1971.94 249.17 Q1972.64 248.491 1973.32 247.343 Q1974 246.195 1974.44 244.72 Q1974.58 244.204 1975.05 244.204 Q1975.64 244.204 1975.64 244.673 Q1975.64 245.071 1975.31 245.914 Q1975 246.734 1974.32 247.811 Q1973.67 248.865 1972.8 249.826 Q1971.94 250.763 1970.65 251.418 Q1969.36 252.074 1967.95 252.074 Q1965.94 252.074 1964.6 250.997 Q1963.27 249.919 1962.78 248.42 Q1962.66 248.631 1962.5 248.912 Q1962.33 249.193 1961.84 249.826 Q1961.37 250.435 1960.83 250.903 Q1960.29 251.348 1959.45 251.699 Q1958.63 252.074 1957.74 252.074 Q1956.62 252.074 1955.61 251.746 Q1954.63 251.418 1953.92 250.669 Q1953.22 249.919 1953.22 248.889 Q1953.22 247.741 1953.99 246.945 Q1954.79 246.125 1955.87 246.125 Q1956.55 246.125 1957.09 246.523 Q1957.65 246.921 1957.65 247.788 Q1957.65 248.748 1956.99 249.474 Q1956.34 250.2 1955.4 250.388 Q1956.36 250.997 1957.79 250.997 Q1959.33 250.997 1960.55 249.638 Q1961.77 248.28 1962.36 246.008 Q1963.81 240.55 1964.37 238.114 Q1964.93 235.655 1964.93 234.601 Q1964.93 233.617 1964.67 232.938 Q1964.42 232.259 1963.97 231.954 Q1963.55 231.626 1963.15 231.509 Q1962.78 231.392 1962.36 231.392 Q1961.65 231.392 1960.86 231.673 Q1960.08 231.954 1959.15 232.61 Q1958.23 233.243 1957.37 234.554 Q1956.5 235.866 1955.91 237.669 Q1955.8 238.208 1955.28 238.208 Q1954.72 238.185 1954.72 237.716 Q1954.72 237.318 1955.02 236.498 Q1955.35 235.655 1956.01 234.601 Q1956.69 233.547 1957.55 232.61 Q1958.44 231.65 1959.73 230.994 Q1961.04 230.338 1962.45 230.338 Q1963.08 230.338 1963.69 230.479 Q1964.32 230.596 1965.07 230.947 Q1965.85 231.299 1966.52 232.071 Q1967.2 232.844 1967.63 233.969 Q1967.91 233.43 1968.28 232.915 Q1968.68 232.399 1969.29 231.767 Q1969.92 231.111 1970.79 230.736 Q1971.68 230.338 1972.66 230.338 Q1973.62 230.338 1974.56 230.596 Q1975.5 230.83 1976.29 231.603 Q1977.11 232.353 1977.11 233.5 Z\" fill=\"#000000\" fill-rule=\"evenodd\" fill-opacity=\"1\" /><path clip-path=\"url(#clip830)\" d=\"M1980.38 263.059 Q1980.38 262.825 1980.99 262.24 Q1988.72 254.37 1988.72 239.543 Q1988.72 224.67 1981.29 217.151 Q1980.38 216.285 1980.38 216.027 Q1980.38 215.559 1980.85 215.559 Q1981.18 215.559 1982.32 216.519 Q1983.5 217.479 1985.25 219.681 Q1987.03 221.883 1988.34 224.576 Q1991.51 231.111 1991.51 239.543 Q1991.51 247.647 1988.48 254.182 Q1987.2 256.923 1985.39 259.218 Q1983.59 261.513 1982.39 262.521 Q1981.2 263.528 1980.85 263.528 Q1980.38 263.528 1980.38 263.059 Z\" fill=\"#000000\" fill-rule=\"evenodd\" fill-opacity=\"1\" /><path clip-path=\"url(#clip830)\" d=\"M2012.1 244.251 Q2012.15 243.666 2013.06 243.666 L2042.46 243.666 Q2043.84 243.666 2043.86 244.204 Q2043.86 244.79 2042.55 244.766 L2013.39 244.766 Q2012.1 244.79 2012.1 244.251 M2012.1 234.882 Q2012.1 234.297 2013.11 234.32 L2042.41 234.32 Q2043.84 234.32 2043.86 234.882 Q2043.86 235.421 2042.64 235.421 L2013.06 235.421 Q2012.1 235.421 2012.1 234.882 Z\" fill=\"#000000\" fill-rule=\"evenodd\" fill-opacity=\"1\" /><path clip-path=\"url(#clip830)\" d=\"M2062.35 239.543 Q2062.35 231.439 2065.37 224.904 Q2066.66 222.164 2068.47 219.868 Q2070.27 217.573 2071.46 216.566 Q2072.66 215.559 2072.99 215.559 Q2073.45 215.559 2073.48 216.027 Q2073.48 216.261 2072.85 216.847 Q2065.12 224.717 2065.14 239.543 Q2065.14 254.416 2072.66 261.982 Q2073.48 262.802 2073.48 263.059 Q2073.48 263.528 2072.99 263.528 Q2072.66 263.528 2071.51 262.567 Q2070.36 261.607 2068.58 259.405 Q2066.8 257.204 2065.51 254.51 Q2062.35 247.975 2062.35 239.543 Z\" fill=\"#000000\" fill-rule=\"evenodd\" fill-opacity=\"1\" /><path clip-path=\"url(#clip830)\" d=\"M2104.66 233.5 Q2104.66 234.812 2103.84 235.561 Q2103.02 236.287 2102.08 236.287 Q2101.19 236.287 2100.72 235.772 Q2100.26 235.257 2100.26 234.601 Q2100.26 233.711 2100.91 232.938 Q2101.57 232.165 2102.55 232.001 Q2101.59 231.392 2100.16 231.392 Q2099.22 231.392 2098.4 231.884 Q2097.61 232.376 2097.12 233.008 Q2096.65 233.641 2096.23 234.554 Q2095.83 235.444 2095.66 235.983 Q2095.52 236.498 2095.41 237.06 L2093.77 243.619 Q2092.97 246.734 2092.97 247.835 Q2092.97 249.193 2093.63 250.107 Q2094.28 250.997 2095.59 250.997 Q2096.11 250.997 2096.69 250.856 Q2097.28 250.692 2098.03 250.271 Q2098.8 249.826 2099.48 249.17 Q2100.18 248.491 2100.86 247.343 Q2101.54 246.195 2101.99 244.72 Q2102.13 244.204 2102.6 244.204 Q2103.18 244.204 2103.18 244.673 Q2103.18 245.071 2102.85 245.914 Q2102.55 246.734 2101.87 247.811 Q2101.22 248.865 2100.35 249.826 Q2099.48 250.763 2098.19 251.418 Q2096.91 252.074 2095.5 252.074 Q2093.49 252.074 2092.15 250.997 Q2090.82 249.919 2090.32 248.42 Q2090.21 248.631 2090.04 248.912 Q2089.88 249.193 2089.39 249.826 Q2088.92 250.435 2088.38 250.903 Q2087.84 251.348 2087 251.699 Q2086.18 252.074 2085.29 252.074 Q2084.16 252.074 2083.16 251.746 Q2082.17 251.418 2081.47 250.669 Q2080.77 249.919 2080.77 248.889 Q2080.77 247.741 2081.54 246.945 Q2082.34 246.125 2083.41 246.125 Q2084.09 246.125 2084.63 246.523 Q2085.19 246.921 2085.19 247.788 Q2085.19 248.748 2084.54 249.474 Q2083.88 250.2 2082.95 250.388 Q2083.91 250.997 2085.33 250.997 Q2086.88 250.997 2088.1 249.638 Q2089.32 248.28 2089.9 246.008 Q2091.35 240.55 2091.92 238.114 Q2092.48 235.655 2092.48 234.601 Q2092.48 233.617 2092.22 232.938 Q2091.96 232.259 2091.52 231.954 Q2091.1 231.626 2090.7 231.509 Q2090.32 231.392 2089.9 231.392 Q2089.2 231.392 2088.4 231.673 Q2087.63 231.954 2086.69 232.61 Q2085.78 233.243 2084.91 234.554 Q2084.05 235.866 2083.46 237.669 Q2083.34 238.208 2082.83 238.208 Q2082.27 238.185 2082.27 237.716 Q2082.27 237.318 2082.57 236.498 Q2082.9 235.655 2083.55 234.601 Q2084.23 233.547 2085.1 232.61 Q2085.99 231.65 2087.28 230.994 Q2088.59 230.338 2090 230.338 Q2090.63 230.338 2091.24 230.479 Q2091.87 230.596 2092.62 230.947 Q2093.39 231.299 2094.07 232.071 Q2094.75 232.844 2095.17 233.969 Q2095.45 233.43 2095.83 232.915 Q2096.23 232.399 2096.84 231.767 Q2097.47 231.111 2098.33 230.736 Q2099.22 230.338 2100.21 230.338 Q2101.17 230.338 2102.11 230.596 Q2103.04 230.83 2103.84 231.603 Q2104.66 232.353 2104.66 233.5 Z\" fill=\"#000000\" fill-rule=\"evenodd\" fill-opacity=\"1\" /><path clip-path=\"url(#clip830)\" d=\"M2122.33 240.129 Q2121.23 240.129 2121.23 239.543 Q2121.23 238.958 2122.38 238.958 Q2122.52 238.958 2122.75 238.981 Q2123.01 239.005 2123.06 239.005 L2136.57 239.005 L2136.57 225.443 Q2136.57 225.396 2136.55 225.185 Q2136.53 224.951 2136.53 224.811 Q2136.53 223.663 2137.09 223.663 Q2137.67 223.663 2137.67 224.811 L2137.67 239.005 L2151.21 239.005 Q2151.26 239.005 2151.49 238.981 Q2151.73 238.958 2151.87 238.958 Q2152.97 238.958 2152.97 239.543 Q2152.99 240.129 2151.82 240.129 Q2151.68 240.129 2151.47 240.105 Q2151.26 240.082 2151.21 240.082 L2137.67 240.082 L2137.67 254.323 Q2137.67 255.424 2137.09 255.424 Q2136.53 255.424 2136.53 254.276 Q2136.53 254.135 2136.55 253.901 Q2136.57 253.69 2136.57 253.644 L2136.57 240.082 L2123.06 240.082 Q2123.01 240.082 2122.73 240.105 Q2122.47 240.129 2122.33 240.129 Z\" fill=\"#000000\" fill-rule=\"evenodd\" fill-opacity=\"1\" /><path clip-path=\"url(#clip830)\" d=\"M2171.48 224.155 L2171.48 222.656 Q2177.25 222.656 2180.22 219.587 Q2181.04 219.587 2181.18 219.775 Q2181.32 219.962 2181.32 220.829 L2181.32 247.741 Q2181.32 249.17 2182.02 249.615 Q2182.73 250.06 2185.79 250.06 L2187.32 250.06 L2187.32 251.536 Q2185.63 251.395 2179.54 251.395 Q2173.45 251.395 2171.79 251.536 L2171.79 250.06 L2173.31 250.06 Q2176.33 250.06 2177.06 249.638 Q2177.78 249.193 2177.78 247.741 L2177.78 222.89 Q2175.28 224.155 2171.48 224.155 Z\" fill=\"#000000\" fill-rule=\"evenodd\" fill-opacity=\"1\" /><path clip-path=\"url(#clip830)\" d=\"M2195.23 263.059 Q2195.23 262.825 2195.84 262.24 Q2203.57 254.37 2203.57 239.543 Q2203.57 224.67 2196.15 217.151 Q2195.23 216.285 2195.23 216.027 Q2195.23 215.559 2195.7 215.559 Q2196.03 215.559 2197.18 216.519 Q2198.35 217.479 2200.11 219.681 Q2201.89 221.883 2203.2 224.576 Q2206.36 231.111 2206.36 239.543 Q2206.36 247.647 2203.34 254.182 Q2202.05 256.923 2200.25 259.218 Q2198.44 261.513 2197.25 262.521 Q2196.05 263.528 2195.7 263.528 Q2195.23 263.528 2195.23 263.059 Z\" fill=\"#000000\" fill-rule=\"evenodd\" fill-opacity=\"1\" /><path clip-path=\"url(#clip830)\" d=\"M2211.37 222.555 Q2211.37 221.948 2211.42 221.768 Q2211.48 221.588 2211.75 221.309 L2218.19 214.128 Q2221.71 210.16 2221.71 206.7 Q2221.71 204.454 2220.53 202.847 Q2219.37 201.241 2217.22 201.241 Q2215.75 201.241 2214.5 202.142 Q2213.25 203.044 2212.68 204.651 Q2212.78 204.618 2213.12 204.618 Q2213.96 204.618 2214.42 205.143 Q2214.89 205.667 2214.89 206.372 Q2214.89 207.274 2214.3 207.717 Q2213.73 208.143 2213.16 208.143 Q2212.93 208.143 2212.62 208.094 Q2212.32 208.045 2211.84 207.586 Q2211.37 207.11 2211.37 206.274 Q2211.37 203.93 2213.14 202.06 Q2214.93 200.191 2217.65 200.191 Q2220.73 200.191 2222.75 202.028 Q2224.78 203.848 2224.78 206.7 Q2224.78 207.701 2224.47 208.619 Q2224.17 209.52 2223.76 210.225 Q2223.37 210.93 2222.29 212.062 Q2221.21 213.193 2220.34 213.996 Q2219.47 214.8 2217.52 216.505 L2213.96 219.965 L2220.01 219.965 Q2222.96 219.965 2223.19 219.702 Q2223.52 219.227 2223.93 216.718 L2224.78 216.718 L2223.83 222.555 L2211.37 222.555 Z\" fill=\"#000000\" fill-rule=\"evenodd\" fill-opacity=\"1\" /><polyline clip-path=\"url(#clip830)\" style=\"stroke:#e26f46; stroke-linecap:butt; stroke-linejoin:round; stroke-width:4; stroke-opacity:1; fill:none\" points=\"\n",
       "  1732.1,294.912 1879.68,294.912 \n",
       "  \"/>\n",
       "<path clip-path=\"url(#clip830)\" d=\"M1938.34 278.807 L1937.38 287.098 Q1937.31 287.848 1937.19 288.082 Q1937.07 288.293 1936.7 288.293 Q1936.14 288.293 1936.14 287.731 Q1936.14 287.496 1936.23 286.864 Q1936.37 285.576 1936.37 284.264 Q1936.37 282.788 1936.09 281.875 Q1935.83 280.938 1935.08 280.259 Q1934.33 279.58 1932.95 279.298 Q1931.57 278.994 1929.37 278.994 L1923.04 278.994 Q1921.5 278.994 1921.12 279.275 Q1920.77 279.556 1920.44 280.868 L1917.38 293.047 L1921.73 293.047 Q1924.78 293.047 1925.97 292.157 Q1927.17 291.267 1927.92 288.433 Q1928.03 287.988 1928.08 287.824 Q1928.15 287.637 1928.27 287.543 Q1928.41 287.426 1928.64 287.426 Q1928.85 287.426 1928.99 287.567 Q1929.13 287.684 1929.18 287.824 L1929.23 287.965 Q1929.23 288.199 1929.09 288.738 L1926.44 299.137 Q1926.25 299.84 1926.14 300.004 Q1926.04 300.144 1925.71 300.144 Q1925.48 300.144 1925.32 299.98 Q1925.15 299.817 1925.15 299.559 Q1925.2 299.278 1925.29 299.044 Q1925.62 297.615 1925.62 296.701 Q1925.62 296.116 1925.5 295.764 Q1925.39 295.413 1924.99 295.109 Q1924.59 294.804 1923.77 294.664 Q1922.95 294.523 1921.64 294.523 L1917 294.523 L1914.03 306.468 L1913.82 307.569 Q1913.82 308.061 1914.07 308.249 Q1914.35 308.436 1915.36 308.53 Q1916.86 308.647 1917.84 308.647 Q1919.06 308.647 1919.2 308.694 Q1919.48 308.834 1919.48 309.209 Q1919.48 309.631 1919.3 309.865 Q1919.11 310.076 1918.95 310.099 Q1918.78 310.122 1918.48 310.122 L1911.33 309.982 L1905.01 310.122 Q1904.28 310.122 1904.28 309.537 Q1904.28 309.092 1904.47 308.904 Q1904.66 308.694 1904.87 308.67 Q1905.08 308.647 1905.62 308.647 Q1906.79 308.647 1907.49 308.577 Q1908.19 308.506 1908.64 308.413 Q1909.11 308.295 1909.34 307.968 Q1909.6 307.64 1909.72 307.359 Q1909.83 307.054 1910 306.375 L1916.32 281.008 Q1916.56 280.142 1916.56 279.861 Q1916.56 279.556 1916.35 279.369 Q1916.16 279.181 1915.64 279.111 Q1915.13 279.017 1914.71 279.017 Q1914.31 278.994 1913.44 278.994 Q1912.88 278.994 1912.64 278.971 Q1912.43 278.947 1912.27 278.83 Q1912.11 278.713 1912.11 278.455 Q1912.11 277.799 1912.39 277.659 Q1912.69 277.495 1913.53 277.495 L1937.05 277.495 Q1937.99 277.495 1938.2 277.706 Q1938.43 277.893 1938.34 278.807 Z\" fill=\"#000000\" fill-rule=\"evenodd\" fill-opacity=\"1\" /><path clip-path=\"url(#clip830)\" d=\"M1934.81 298.13 Q1934.81 290.026 1937.83 283.491 Q1939.11 280.751 1940.92 278.455 Q1942.72 276.16 1943.92 275.153 Q1945.11 274.146 1945.44 274.146 Q1945.91 274.146 1945.93 274.614 Q1945.93 274.848 1945.3 275.434 Q1937.57 283.304 1937.59 298.13 Q1937.59 313.003 1945.11 320.569 Q1945.93 321.389 1945.93 321.646 Q1945.93 322.115 1945.44 322.115 Q1945.11 322.115 1943.96 321.154 Q1942.82 320.194 1941.04 317.992 Q1939.26 315.791 1937.97 313.097 Q1934.81 306.562 1934.81 298.13 Z\" fill=\"#000000\" fill-rule=\"evenodd\" fill-opacity=\"1\" /><path clip-path=\"url(#clip830)\" d=\"M1977.11 292.087 Q1977.11 293.399 1976.29 294.148 Q1975.47 294.874 1974.54 294.874 Q1973.65 294.874 1973.18 294.359 Q1972.71 293.844 1972.71 293.188 Q1972.71 292.298 1973.36 291.525 Q1974.02 290.752 1975 290.588 Q1974.04 289.979 1972.61 289.979 Q1971.68 289.979 1970.86 290.471 Q1970.06 290.963 1969.57 291.595 Q1969.1 292.228 1968.68 293.141 Q1968.28 294.031 1968.12 294.57 Q1967.98 295.085 1967.86 295.647 L1966.22 302.206 Q1965.42 305.321 1965.42 306.422 Q1965.42 307.78 1966.08 308.694 Q1966.74 309.584 1968.05 309.584 Q1968.56 309.584 1969.15 309.443 Q1969.73 309.279 1970.48 308.858 Q1971.26 308.413 1971.94 307.757 Q1972.64 307.077 1973.32 305.93 Q1974 304.782 1974.44 303.306 Q1974.58 302.791 1975.05 302.791 Q1975.64 302.791 1975.64 303.26 Q1975.64 303.658 1975.31 304.501 Q1975 305.321 1974.32 306.398 Q1973.67 307.452 1972.8 308.413 Q1971.94 309.349 1970.65 310.005 Q1969.36 310.661 1967.95 310.661 Q1965.94 310.661 1964.6 309.584 Q1963.27 308.506 1962.78 307.007 Q1962.66 307.218 1962.5 307.499 Q1962.33 307.78 1961.84 308.413 Q1961.37 309.022 1960.83 309.49 Q1960.29 309.935 1959.45 310.286 Q1958.63 310.661 1957.74 310.661 Q1956.62 310.661 1955.61 310.333 Q1954.63 310.005 1953.92 309.256 Q1953.22 308.506 1953.22 307.476 Q1953.22 306.328 1953.99 305.532 Q1954.79 304.712 1955.87 304.712 Q1956.55 304.712 1957.09 305.11 Q1957.65 305.508 1957.65 306.375 Q1957.65 307.335 1956.99 308.061 Q1956.34 308.787 1955.4 308.975 Q1956.36 309.584 1957.79 309.584 Q1959.33 309.584 1960.55 308.225 Q1961.77 306.867 1962.36 304.595 Q1963.81 299.137 1964.37 296.701 Q1964.93 294.242 1964.93 293.188 Q1964.93 292.204 1964.67 291.525 Q1964.42 290.846 1963.97 290.541 Q1963.55 290.213 1963.15 290.096 Q1962.78 289.979 1962.36 289.979 Q1961.65 289.979 1960.86 290.26 Q1960.08 290.541 1959.15 291.197 Q1958.23 291.829 1957.37 293.141 Q1956.5 294.453 1955.91 296.256 Q1955.8 296.795 1955.28 296.795 Q1954.72 296.772 1954.72 296.303 Q1954.72 295.905 1955.02 295.085 Q1955.35 294.242 1956.01 293.188 Q1956.69 292.134 1957.55 291.197 Q1958.44 290.237 1959.73 289.581 Q1961.04 288.925 1962.45 288.925 Q1963.08 288.925 1963.69 289.066 Q1964.32 289.183 1965.07 289.534 Q1965.85 289.885 1966.52 290.658 Q1967.2 291.431 1967.63 292.556 Q1967.91 292.017 1968.28 291.502 Q1968.68 290.986 1969.29 290.354 Q1969.92 289.698 1970.79 289.323 Q1971.68 288.925 1972.66 288.925 Q1973.62 288.925 1974.56 289.183 Q1975.5 289.417 1976.29 290.19 Q1977.11 290.939 1977.11 292.087 Z\" fill=\"#000000\" fill-rule=\"evenodd\" fill-opacity=\"1\" /><path clip-path=\"url(#clip830)\" d=\"M1980.38 321.646 Q1980.38 321.412 1980.99 320.826 Q1988.72 312.957 1988.72 298.13 Q1988.72 283.257 1981.29 275.738 Q1980.38 274.872 1980.38 274.614 Q1980.38 274.146 1980.85 274.146 Q1981.18 274.146 1982.32 275.106 Q1983.5 276.066 1985.25 278.268 Q1987.03 280.47 1988.34 283.163 Q1991.51 289.698 1991.51 298.13 Q1991.51 306.234 1988.48 312.769 Q1987.2 315.51 1985.39 317.805 Q1983.59 320.1 1982.39 321.108 Q1981.2 322.115 1980.85 322.115 Q1980.38 322.115 1980.38 321.646 Z\" fill=\"#000000\" fill-rule=\"evenodd\" fill-opacity=\"1\" /><path clip-path=\"url(#clip830)\" d=\"M2012.1 302.838 Q2012.15 302.252 2013.06 302.252 L2042.46 302.252 Q2043.84 302.252 2043.86 302.791 Q2043.86 303.377 2042.55 303.353 L2013.39 303.353 Q2012.1 303.377 2012.1 302.838 M2012.1 293.469 Q2012.1 292.883 2013.11 292.907 L2042.41 292.907 Q2043.84 292.907 2043.86 293.469 Q2043.86 294.008 2042.64 294.008 L2013.06 294.008 Q2012.1 294.008 2012.1 293.469 Z\" fill=\"#000000\" fill-rule=\"evenodd\" fill-opacity=\"1\" /><path clip-path=\"url(#clip830)\" d=\"M2062.35 310.122 Q2062.35 309.256 2062.42 308.998 Q2062.52 308.74 2062.89 308.342 L2072.1 298.083 Q2077.13 292.415 2077.13 287.473 Q2077.13 284.264 2075.45 281.969 Q2073.78 279.673 2070.71 279.673 Q2068.61 279.673 2066.83 280.961 Q2065.05 282.25 2064.23 284.545 Q2064.37 284.498 2064.86 284.498 Q2066.05 284.498 2066.71 285.248 Q2067.39 285.997 2067.39 287.004 Q2067.39 288.293 2066.54 288.925 Q2065.72 289.534 2064.91 289.534 Q2064.58 289.534 2064.13 289.464 Q2063.71 289.394 2063.03 288.738 Q2062.35 288.058 2062.35 286.864 Q2062.35 283.514 2064.88 280.844 Q2067.43 278.174 2071.32 278.174 Q2075.73 278.174 2078.61 280.797 Q2081.51 283.397 2081.51 287.473 Q2081.51 288.902 2081.07 290.213 Q2080.65 291.502 2080.06 292.509 Q2079.5 293.516 2077.95 295.132 Q2076.41 296.748 2075.16 297.896 Q2073.92 299.044 2071.14 301.48 L2066.05 306.422 L2074.7 306.422 Q2078.91 306.422 2079.24 306.047 Q2079.71 305.368 2080.29 301.784 L2081.51 301.784 L2080.15 310.122 L2062.35 310.122 Z\" fill=\"#000000\" fill-rule=\"evenodd\" fill-opacity=\"1\" /><path clip-path=\"url(#clip830)\" d=\"M2103.16 269.892 Q2103.16 270.81 2102.59 271.335 Q2102.02 271.843 2101.36 271.843 Q2100.74 271.843 2100.41 271.482 Q2100.08 271.122 2100.08 270.663 Q2100.08 270.039 2100.54 269.498 Q2101 268.957 2101.69 268.843 Q2101.02 268.416 2100.02 268.416 Q2099.36 268.416 2098.79 268.761 Q2098.23 269.105 2097.89 269.548 Q2097.56 269.99 2097.26 270.63 Q2096.98 271.253 2096.87 271.63 Q2096.77 271.991 2096.69 272.384 L2095.54 276.975 Q2094.98 279.155 2094.98 279.926 Q2094.98 280.877 2095.44 281.516 Q2095.9 282.14 2096.82 282.14 Q2097.18 282.14 2097.59 282.041 Q2098 281.926 2098.52 281.631 Q2099.07 281.32 2099.54 280.861 Q2100.03 280.385 2100.51 279.582 Q2100.98 278.778 2101.3 277.745 Q2101.39 277.385 2101.72 277.385 Q2102.13 277.385 2102.13 277.713 Q2102.13 277.991 2101.9 278.582 Q2101.69 279.155 2101.21 279.91 Q2100.75 280.647 2100.15 281.32 Q2099.54 281.976 2098.64 282.435 Q2097.74 282.894 2096.75 282.894 Q2095.34 282.894 2094.41 282.14 Q2093.47 281.385 2093.13 280.336 Q2093.05 280.484 2092.93 280.68 Q2092.82 280.877 2092.47 281.32 Q2092.15 281.746 2091.77 282.074 Q2091.39 282.385 2090.8 282.631 Q2090.23 282.894 2089.61 282.894 Q2088.82 282.894 2088.11 282.664 Q2087.42 282.435 2086.93 281.91 Q2086.44 281.385 2086.44 280.664 Q2086.44 279.86 2086.98 279.303 Q2087.54 278.729 2088.29 278.729 Q2088.77 278.729 2089.15 279.008 Q2089.54 279.287 2089.54 279.893 Q2089.54 280.566 2089.08 281.074 Q2088.62 281.582 2087.97 281.713 Q2088.64 282.14 2089.64 282.14 Q2090.72 282.14 2091.57 281.189 Q2092.43 280.238 2092.84 278.647 Q2093.85 274.827 2094.25 273.122 Q2094.64 271.4 2094.64 270.663 Q2094.64 269.974 2094.46 269.498 Q2094.28 269.023 2093.97 268.81 Q2093.67 268.58 2093.39 268.498 Q2093.13 268.416 2092.84 268.416 Q2092.34 268.416 2091.79 268.613 Q2091.24 268.81 2090.59 269.269 Q2089.95 269.712 2089.34 270.63 Q2088.74 271.548 2088.33 272.81 Q2088.24 273.187 2087.88 273.187 Q2087.49 273.171 2087.49 272.843 Q2087.49 272.564 2087.7 271.991 Q2087.93 271.4 2088.39 270.663 Q2088.87 269.925 2089.47 269.269 Q2090.1 268.597 2091 268.138 Q2091.92 267.678 2092.9 267.678 Q2093.34 267.678 2093.77 267.777 Q2094.21 267.859 2094.74 268.105 Q2095.28 268.351 2095.75 268.892 Q2096.23 269.433 2096.52 270.22 Q2096.72 269.843 2096.98 269.482 Q2097.26 269.121 2097.69 268.679 Q2098.13 268.22 2098.74 267.957 Q2099.36 267.678 2100.05 267.678 Q2100.72 267.678 2101.38 267.859 Q2102.03 268.023 2102.59 268.564 Q2103.16 269.089 2103.16 269.892 Z\" fill=\"#000000\" fill-rule=\"evenodd\" fill-opacity=\"1\" /></svg>\n"
      ]
     },
     "execution_count": 8,
     "metadata": {},
     "output_type": "execute_result"
    }
   ],
   "source": [
    "plot([Eg1_5_2_F1, Eg1_5_2_F2], -3, 3, \n",
    "\ttitle = \"Example 1.5.2\", \n",
    "\tlabel = [L\"F(x) = (x+1)^2\" L\"F(x) = 2^x\"])"
   ]
  },
  {
   "cell_type": "markdown",
   "id": "fcc185fd",
   "metadata": {},
   "source": [
    "### Example _1.5.9_"
   ]
  },
  {
   "cell_type": "code",
   "execution_count": 9,
   "id": "ffee5df9",
   "metadata": {},
   "outputs": [
    {
     "data": {
      "text/plain": [
       "Eg1_5_9_F (generic function with 1 method)"
      ]
     },
     "execution_count": 9,
     "metadata": {},
     "output_type": "execute_result"
    }
   ],
   "source": [
    "Eg1_5_9_F(x) = x^2 - 2"
   ]
  },
  {
   "cell_type": "code",
   "execution_count": 10,
   "id": "b9d5f244",
   "metadata": {},
   "outputs": [
    {
     "data": {
      "text/plain": [
       "Eg1_5_9_G (generic function with 1 method)"
      ]
     },
     "execution_count": 10,
     "metadata": {},
     "output_type": "execute_result"
    }
   ],
   "source": [
    "Eg1_5_9_G(x) = -x + 1"
   ]
  },
  {
   "cell_type": "code",
   "execution_count": 11,
   "id": "28b33bdf",
   "metadata": {},
   "outputs": [
    {
     "data": {
      "image/svg+xml": [
       "<?xml version=\"1.0\" encoding=\"utf-8\"?>\n",
       "<svg xmlns=\"http://www.w3.org/2000/svg\" xmlns:xlink=\"http://www.w3.org/1999/xlink\" width=\"600\" height=\"400\" viewBox=\"0 0 2400 1600\">\n",
       "<defs>\n",
       "  <clipPath id=\"clip870\">\n",
       "    <rect x=\"0\" y=\"0\" width=\"2400\" height=\"1600\"/>\n",
       "  </clipPath>\n",
       "</defs>\n",
       "<path clip-path=\"url(#clip870)\" d=\"\n",
       "M0 1600 L2400 1600 L2400 0 L0 0  Z\n",
       "  \" fill=\"#ffffff\" fill-rule=\"evenodd\" fill-opacity=\"1\"/>\n",
       "<defs>\n",
       "  <clipPath id=\"clip871\">\n",
       "    <rect x=\"480\" y=\"0\" width=\"1681\" height=\"1600\"/>\n",
       "  </clipPath>\n",
       "</defs>\n",
       "<defs>\n",
       "  <clipPath id=\"clip872\">\n",
       "    <rect x=\"138\" y=\"123\" width=\"2215\" height=\"1364\"/>\n",
       "  </clipPath>\n",
       "</defs>\n",
       "<path clip-path=\"url(#clip870)\" d=\"\n",
       "M178.867 1486.45 L2352.76 1486.45 L2352.76 123.472 L178.867 123.472  Z\n",
       "  \" fill=\"#ffffff\" fill-rule=\"evenodd\" fill-opacity=\"1\"/>\n",
       "<defs>\n",
       "  <clipPath id=\"clip873\">\n",
       "    <rect x=\"178\" y=\"123\" width=\"2175\" height=\"1364\"/>\n",
       "  </clipPath>\n",
       "</defs>\n",
       "<polyline clip-path=\"url(#clip873)\" style=\"stroke:#000000; stroke-linecap:butt; stroke-linejoin:round; stroke-width:2; stroke-opacity:0.1; fill:none\" points=\"\n",
       "  445.476,1486.45 445.476,123.472 \n",
       "  \"/>\n",
       "<polyline clip-path=\"url(#clip873)\" style=\"stroke:#000000; stroke-linecap:butt; stroke-linejoin:round; stroke-width:2; stroke-opacity:0.1; fill:none\" points=\"\n",
       "  855.643,1486.45 855.643,123.472 \n",
       "  \"/>\n",
       "<polyline clip-path=\"url(#clip873)\" style=\"stroke:#000000; stroke-linecap:butt; stroke-linejoin:round; stroke-width:2; stroke-opacity:0.1; fill:none\" points=\"\n",
       "  1265.81,1486.45 1265.81,123.472 \n",
       "  \"/>\n",
       "<polyline clip-path=\"url(#clip873)\" style=\"stroke:#000000; stroke-linecap:butt; stroke-linejoin:round; stroke-width:2; stroke-opacity:0.1; fill:none\" points=\"\n",
       "  1675.98,1486.45 1675.98,123.472 \n",
       "  \"/>\n",
       "<polyline clip-path=\"url(#clip873)\" style=\"stroke:#000000; stroke-linecap:butt; stroke-linejoin:round; stroke-width:2; stroke-opacity:0.1; fill:none\" points=\"\n",
       "  2086.15,1486.45 2086.15,123.472 \n",
       "  \"/>\n",
       "<polyline clip-path=\"url(#clip870)\" style=\"stroke:#000000; stroke-linecap:butt; stroke-linejoin:round; stroke-width:4; stroke-opacity:1; fill:none\" points=\"\n",
       "  178.867,1486.45 2352.76,1486.45 \n",
       "  \"/>\n",
       "<polyline clip-path=\"url(#clip870)\" style=\"stroke:#000000; stroke-linecap:butt; stroke-linejoin:round; stroke-width:4; stroke-opacity:1; fill:none\" points=\"\n",
       "  445.476,1486.45 445.476,1470.09 \n",
       "  \"/>\n",
       "<polyline clip-path=\"url(#clip870)\" style=\"stroke:#000000; stroke-linecap:butt; stroke-linejoin:round; stroke-width:4; stroke-opacity:1; fill:none\" points=\"\n",
       "  855.643,1486.45 855.643,1470.09 \n",
       "  \"/>\n",
       "<polyline clip-path=\"url(#clip870)\" style=\"stroke:#000000; stroke-linecap:butt; stroke-linejoin:round; stroke-width:4; stroke-opacity:1; fill:none\" points=\"\n",
       "  1265.81,1486.45 1265.81,1470.09 \n",
       "  \"/>\n",
       "<polyline clip-path=\"url(#clip870)\" style=\"stroke:#000000; stroke-linecap:butt; stroke-linejoin:round; stroke-width:4; stroke-opacity:1; fill:none\" points=\"\n",
       "  1675.98,1486.45 1675.98,1470.09 \n",
       "  \"/>\n",
       "<polyline clip-path=\"url(#clip870)\" style=\"stroke:#000000; stroke-linecap:butt; stroke-linejoin:round; stroke-width:4; stroke-opacity:1; fill:none\" points=\"\n",
       "  2086.15,1486.45 2086.15,1470.09 \n",
       "  \"/>\n",
       "<path clip-path=\"url(#clip870)\" d=\"M414.376 1530.29 L444.052 1530.29 L444.052 1534.23 L414.376 1534.23 L414.376 1530.29 Z\" fill=\"#000000\" fill-rule=\"evenodd\" fill-opacity=\"1\" /><path clip-path=\"url(#clip870)\" d=\"M466.992 1516.63 L455.186 1535.08 L466.992 1535.08 L466.992 1516.63 M465.765 1512.56 L471.645 1512.56 L471.645 1535.08 L476.575 1535.08 L476.575 1538.97 L471.645 1538.97 L471.645 1547.12 L466.992 1547.12 L466.992 1538.97 L451.39 1538.97 L451.39 1534.46 L465.765 1512.56 Z\" fill=\"#000000\" fill-rule=\"evenodd\" fill-opacity=\"1\" /><path clip-path=\"url(#clip870)\" d=\"M825.586 1530.29 L855.262 1530.29 L855.262 1534.23 L825.586 1534.23 L825.586 1530.29 Z\" fill=\"#000000\" fill-rule=\"evenodd\" fill-opacity=\"1\" /><path clip-path=\"url(#clip870)\" d=\"M869.382 1543.18 L885.701 1543.18 L885.701 1547.12 L863.757 1547.12 L863.757 1543.18 Q866.419 1540.43 871.002 1535.8 Q875.609 1531.15 876.789 1529.81 Q879.035 1527.28 879.914 1525.55 Q880.817 1523.79 880.817 1522.1 Q880.817 1519.34 878.873 1517.61 Q876.951 1515.87 873.849 1515.87 Q871.65 1515.87 869.197 1516.63 Q866.766 1517.4 863.988 1518.95 L863.988 1514.23 Q866.812 1513.09 869.266 1512.51 Q871.72 1511.93 873.757 1511.93 Q879.127 1511.93 882.322 1514.62 Q885.516 1517.31 885.516 1521.8 Q885.516 1523.93 884.706 1525.85 Q883.919 1527.74 881.812 1530.34 Q881.234 1531.01 878.132 1534.23 Q875.03 1537.42 869.382 1543.18 Z\" fill=\"#000000\" fill-rule=\"evenodd\" fill-opacity=\"1\" /><path clip-path=\"url(#clip870)\" d=\"M1265.81 1515.64 Q1262.2 1515.64 1260.37 1519.2 Q1258.57 1522.75 1258.57 1529.87 Q1258.57 1536.98 1260.37 1540.55 Q1262.2 1544.09 1265.81 1544.09 Q1269.45 1544.09 1271.25 1540.55 Q1273.08 1536.98 1273.08 1529.87 Q1273.08 1522.75 1271.25 1519.2 Q1269.45 1515.64 1265.81 1515.64 M1265.81 1511.93 Q1271.62 1511.93 1274.68 1516.54 Q1277.76 1521.12 1277.76 1529.87 Q1277.76 1538.6 1274.68 1543.21 Q1271.62 1547.79 1265.81 1547.79 Q1260 1547.79 1256.92 1543.21 Q1253.87 1538.6 1253.87 1529.87 Q1253.87 1521.12 1256.92 1516.54 Q1260 1511.93 1265.81 1511.93 Z\" fill=\"#000000\" fill-rule=\"evenodd\" fill-opacity=\"1\" /><path clip-path=\"url(#clip870)\" d=\"M1670.63 1543.18 L1686.95 1543.18 L1686.95 1547.12 L1665.01 1547.12 L1665.01 1543.18 Q1667.67 1540.43 1672.25 1535.8 Q1676.86 1531.15 1678.04 1529.81 Q1680.28 1527.28 1681.16 1525.55 Q1682.07 1523.79 1682.07 1522.1 Q1682.07 1519.34 1680.12 1517.61 Q1678.2 1515.87 1675.1 1515.87 Q1672.9 1515.87 1670.45 1516.63 Q1668.02 1517.4 1665.24 1518.95 L1665.24 1514.23 Q1668.06 1513.09 1670.52 1512.51 Q1672.97 1511.93 1675.01 1511.93 Q1680.38 1511.93 1683.57 1514.62 Q1686.77 1517.31 1686.77 1521.8 Q1686.77 1523.93 1685.96 1525.85 Q1685.17 1527.74 1683.06 1530.34 Q1682.48 1531.01 1679.38 1534.23 Q1676.28 1537.42 1670.63 1543.18 Z\" fill=\"#000000\" fill-rule=\"evenodd\" fill-opacity=\"1\" /><path clip-path=\"url(#clip870)\" d=\"M2089.16 1516.63 L2077.35 1535.08 L2089.16 1535.08 L2089.16 1516.63 M2087.93 1512.56 L2093.81 1512.56 L2093.81 1535.08 L2098.74 1535.08 L2098.74 1538.97 L2093.81 1538.97 L2093.81 1547.12 L2089.16 1547.12 L2089.16 1538.97 L2073.55 1538.97 L2073.55 1534.46 L2087.93 1512.56 Z\" fill=\"#000000\" fill-rule=\"evenodd\" fill-opacity=\"1\" /><polyline clip-path=\"url(#clip873)\" style=\"stroke:#000000; stroke-linecap:butt; stroke-linejoin:round; stroke-width:2; stroke-opacity:0.1; fill:none\" points=\"\n",
       "  178.867,1390.73 2352.76,1390.73 \n",
       "  \"/>\n",
       "<polyline clip-path=\"url(#clip873)\" style=\"stroke:#000000; stroke-linecap:butt; stroke-linejoin:round; stroke-width:2; stroke-opacity:0.1; fill:none\" points=\"\n",
       "  178.867,1104.99 2352.76,1104.99 \n",
       "  \"/>\n",
       "<polyline clip-path=\"url(#clip873)\" style=\"stroke:#000000; stroke-linecap:butt; stroke-linejoin:round; stroke-width:2; stroke-opacity:0.1; fill:none\" points=\"\n",
       "  178.867,819.247 2352.76,819.247 \n",
       "  \"/>\n",
       "<polyline clip-path=\"url(#clip873)\" style=\"stroke:#000000; stroke-linecap:butt; stroke-linejoin:round; stroke-width:2; stroke-opacity:0.1; fill:none\" points=\"\n",
       "  178.867,533.508 2352.76,533.508 \n",
       "  \"/>\n",
       "<polyline clip-path=\"url(#clip873)\" style=\"stroke:#000000; stroke-linecap:butt; stroke-linejoin:round; stroke-width:2; stroke-opacity:0.1; fill:none\" points=\"\n",
       "  178.867,247.769 2352.76,247.769 \n",
       "  \"/>\n",
       "<polyline clip-path=\"url(#clip870)\" style=\"stroke:#000000; stroke-linecap:butt; stroke-linejoin:round; stroke-width:4; stroke-opacity:1; fill:none\" points=\"\n",
       "  178.867,1486.45 178.867,123.472 \n",
       "  \"/>\n",
       "<polyline clip-path=\"url(#clip870)\" style=\"stroke:#000000; stroke-linecap:butt; stroke-linejoin:round; stroke-width:4; stroke-opacity:1; fill:none\" points=\"\n",
       "  178.867,1390.73 204.953,1390.73 \n",
       "  \"/>\n",
       "<polyline clip-path=\"url(#clip870)\" style=\"stroke:#000000; stroke-linecap:butt; stroke-linejoin:round; stroke-width:4; stroke-opacity:1; fill:none\" points=\"\n",
       "  178.867,1104.99 204.953,1104.99 \n",
       "  \"/>\n",
       "<polyline clip-path=\"url(#clip870)\" style=\"stroke:#000000; stroke-linecap:butt; stroke-linejoin:round; stroke-width:4; stroke-opacity:1; fill:none\" points=\"\n",
       "  178.867,819.247 204.953,819.247 \n",
       "  \"/>\n",
       "<polyline clip-path=\"url(#clip870)\" style=\"stroke:#000000; stroke-linecap:butt; stroke-linejoin:round; stroke-width:4; stroke-opacity:1; fill:none\" points=\"\n",
       "  178.867,533.508 204.953,533.508 \n",
       "  \"/>\n",
       "<polyline clip-path=\"url(#clip870)\" style=\"stroke:#000000; stroke-linecap:butt; stroke-linejoin:round; stroke-width:4; stroke-opacity:1; fill:none\" points=\"\n",
       "  178.867,247.769 204.953,247.769 \n",
       "  \"/>\n",
       "<path clip-path=\"url(#clip870)\" d=\"M50.9921 1391.18 L80.6679 1391.18 L80.6679 1395.11 L50.9921 1395.11 L50.9921 1391.18 Z\" fill=\"#000000\" fill-rule=\"evenodd\" fill-opacity=\"1\" /><path clip-path=\"url(#clip870)\" d=\"M94.7882 1404.07 L111.108 1404.07 L111.108 1408.01 L89.1632 1408.01 L89.1632 1404.07 Q91.8252 1401.32 96.4085 1396.69 Q101.015 1392.03 102.196 1390.69 Q104.441 1388.17 105.321 1386.43 Q106.223 1384.67 106.223 1382.98 Q106.223 1380.23 104.279 1378.49 Q102.358 1376.76 99.2558 1376.76 Q97.0567 1376.76 94.603 1377.52 Q92.1725 1378.28 89.3947 1379.83 L89.3947 1375.11 Q92.2188 1373.98 94.6724 1373.4 Q97.1261 1372.82 99.1632 1372.82 Q104.534 1372.82 107.728 1375.51 Q110.922 1378.19 110.922 1382.68 Q110.922 1384.81 110.112 1386.73 Q109.325 1388.63 107.219 1391.22 Q106.64 1391.89 103.538 1395.11 Q100.436 1398.31 94.7882 1404.07 Z\" fill=\"#000000\" fill-rule=\"evenodd\" fill-opacity=\"1\" /><path clip-path=\"url(#clip870)\" d=\"M130.922 1376.52 Q127.311 1376.52 125.482 1380.09 Q123.677 1383.63 123.677 1390.76 Q123.677 1397.87 125.482 1401.43 Q127.311 1404.97 130.922 1404.97 Q134.556 1404.97 136.362 1401.43 Q138.191 1397.87 138.191 1390.76 Q138.191 1383.63 136.362 1380.09 Q134.556 1376.52 130.922 1376.52 M130.922 1372.82 Q136.732 1372.82 139.788 1377.43 Q142.867 1382.01 142.867 1390.76 Q142.867 1399.49 139.788 1404.09 Q136.732 1408.68 130.922 1408.68 Q125.112 1408.68 122.033 1404.09 Q118.978 1399.49 118.978 1390.76 Q118.978 1382.01 122.033 1377.43 Q125.112 1372.82 130.922 1372.82 Z\" fill=\"#000000\" fill-rule=\"evenodd\" fill-opacity=\"1\" /><path clip-path=\"url(#clip870)\" d=\"M50.9921 1105.44 L80.6679 1105.44 L80.6679 1109.37 L50.9921 1109.37 L50.9921 1105.44 Z\" fill=\"#000000\" fill-rule=\"evenodd\" fill-opacity=\"1\" /><path clip-path=\"url(#clip870)\" d=\"M91.5706 1118.33 L99.2095 1118.33 L99.2095 1091.97 L90.8993 1093.63 L90.8993 1089.37 L99.1632 1087.71 L103.839 1087.71 L103.839 1118.33 L111.478 1118.33 L111.478 1122.27 L91.5706 1122.27 L91.5706 1118.33 Z\" fill=\"#000000\" fill-rule=\"evenodd\" fill-opacity=\"1\" /><path clip-path=\"url(#clip870)\" d=\"M130.922 1090.78 Q127.311 1090.78 125.482 1094.35 Q123.677 1097.89 123.677 1105.02 Q123.677 1112.13 125.482 1115.69 Q127.311 1119.23 130.922 1119.23 Q134.556 1119.23 136.362 1115.69 Q138.191 1112.13 138.191 1105.02 Q138.191 1097.89 136.362 1094.35 Q134.556 1090.78 130.922 1090.78 M130.922 1087.08 Q136.732 1087.08 139.788 1091.69 Q142.867 1096.27 142.867 1105.02 Q142.867 1113.75 139.788 1118.35 Q136.732 1122.94 130.922 1122.94 Q125.112 1122.94 122.033 1118.35 Q118.978 1113.75 118.978 1105.02 Q118.978 1096.27 122.033 1091.69 Q125.112 1087.08 130.922 1087.08 Z\" fill=\"#000000\" fill-rule=\"evenodd\" fill-opacity=\"1\" /><path clip-path=\"url(#clip870)\" d=\"M130.922 805.046 Q127.311 805.046 125.482 808.61 Q123.677 812.152 123.677 819.282 Q123.677 826.388 125.482 829.953 Q127.311 833.495 130.922 833.495 Q134.556 833.495 136.362 829.953 Q138.191 826.388 138.191 819.282 Q138.191 812.152 136.362 808.61 Q134.556 805.046 130.922 805.046 M130.922 801.342 Q136.732 801.342 139.788 805.948 Q142.867 810.532 142.867 819.282 Q142.867 828.008 139.788 832.615 Q136.732 837.198 130.922 837.198 Q125.112 837.198 122.033 832.615 Q118.978 828.008 118.978 819.282 Q118.978 810.532 122.033 805.948 Q125.112 801.342 130.922 801.342 Z\" fill=\"#000000\" fill-rule=\"evenodd\" fill-opacity=\"1\" /><path clip-path=\"url(#clip870)\" d=\"M91.5706 546.853 L99.2095 546.853 L99.2095 520.487 L90.8993 522.154 L90.8993 517.894 L99.1632 516.228 L103.839 516.228 L103.839 546.853 L111.478 546.853 L111.478 550.788 L91.5706 550.788 L91.5706 546.853 Z\" fill=\"#000000\" fill-rule=\"evenodd\" fill-opacity=\"1\" /><path clip-path=\"url(#clip870)\" d=\"M130.922 519.306 Q127.311 519.306 125.482 522.871 Q123.677 526.413 123.677 533.543 Q123.677 540.649 125.482 544.214 Q127.311 547.755 130.922 547.755 Q134.556 547.755 136.362 544.214 Q138.191 540.649 138.191 533.543 Q138.191 526.413 136.362 522.871 Q134.556 519.306 130.922 519.306 M130.922 515.603 Q136.732 515.603 139.788 520.209 Q142.867 524.793 142.867 533.543 Q142.867 542.269 139.788 546.876 Q136.732 551.459 130.922 551.459 Q125.112 551.459 122.033 546.876 Q118.978 542.269 118.978 533.543 Q118.978 524.793 122.033 520.209 Q125.112 515.603 130.922 515.603 Z\" fill=\"#000000\" fill-rule=\"evenodd\" fill-opacity=\"1\" /><path clip-path=\"url(#clip870)\" d=\"M94.7882 261.113 L111.108 261.113 L111.108 265.049 L89.1632 265.049 L89.1632 261.113 Q91.8252 258.359 96.4085 253.729 Q101.015 249.077 102.196 247.734 Q104.441 245.211 105.321 243.475 Q106.223 241.715 106.223 240.026 Q106.223 237.271 104.279 235.535 Q102.358 233.799 99.2558 233.799 Q97.0567 233.799 94.603 234.563 Q92.1725 235.327 89.3947 236.878 L89.3947 232.155 Q92.2188 231.021 94.6724 230.442 Q97.1261 229.864 99.1632 229.864 Q104.534 229.864 107.728 232.549 Q110.922 235.234 110.922 239.725 Q110.922 241.854 110.112 243.776 Q109.325 245.674 107.219 248.266 Q106.64 248.938 103.538 252.155 Q100.436 255.35 94.7882 261.113 Z\" fill=\"#000000\" fill-rule=\"evenodd\" fill-opacity=\"1\" /><path clip-path=\"url(#clip870)\" d=\"M130.922 233.567 Q127.311 233.567 125.482 237.132 Q123.677 240.674 123.677 247.803 Q123.677 254.91 125.482 258.475 Q127.311 262.016 130.922 262.016 Q134.556 262.016 136.362 258.475 Q138.191 254.91 138.191 247.803 Q138.191 240.674 136.362 237.132 Q134.556 233.567 130.922 233.567 M130.922 229.864 Q136.732 229.864 139.788 234.47 Q142.867 239.053 142.867 247.803 Q142.867 256.53 139.788 261.137 Q136.732 265.72 130.922 265.72 Q125.112 265.72 122.033 261.137 Q118.978 256.53 118.978 247.803 Q118.978 239.053 122.033 234.47 Q125.112 229.864 130.922 229.864 Z\" fill=\"#000000\" fill-rule=\"evenodd\" fill-opacity=\"1\" /><path clip-path=\"url(#clip870)\" d=\"M974.106 12.096 L1012.35 12.096 L1012.35 18.9825 L982.288 18.9825 L982.288 36.8875 L1011.09 36.8875 L1011.09 43.7741 L982.288 43.7741 L982.288 65.6895 L1013.08 65.6895 L1013.08 72.576 L974.106 72.576 L974.106 12.096 Z\" fill=\"#000000\" fill-rule=\"evenodd\" fill-opacity=\"1\" /><path clip-path=\"url(#clip870)\" d=\"M1063.91 27.2059 L1047.51 49.2833 L1064.76 72.576 L1055.97 72.576 L1042.77 54.752 L1029.56 72.576 L1020.77 72.576 L1038.39 48.8377 L1022.27 27.2059 L1031.06 27.2059 L1043.09 43.369 L1055.12 27.2059 L1063.91 27.2059 Z\" fill=\"#000000\" fill-rule=\"evenodd\" fill-opacity=\"1\" /><path clip-path=\"url(#clip870)\" d=\"M1095.92 49.7694 Q1086.88 49.7694 1083.4 51.8354 Q1079.92 53.9013 1079.92 58.8839 Q1079.92 62.8538 1082.51 65.2034 Q1085.14 67.5124 1089.64 67.5124 Q1095.84 67.5124 1099.56 63.1374 Q1103.33 58.7219 1103.33 51.4303 L1103.33 49.7694 L1095.92 49.7694 M1110.78 46.6907 L1110.78 72.576 L1103.33 72.576 L1103.33 65.6895 Q1100.78 69.8214 1096.97 71.8063 Q1093.16 73.7508 1087.65 73.7508 Q1080.68 73.7508 1076.55 69.8619 Q1072.46 65.9325 1072.46 59.3701 Q1072.46 51.7138 1077.57 47.825 Q1082.71 43.9361 1092.88 43.9361 L1103.33 43.9361 L1103.33 43.2069 Q1103.33 38.0623 1099.93 35.2672 Q1096.56 32.4315 1090.45 32.4315 Q1086.56 32.4315 1082.87 33.3632 Q1079.19 34.295 1075.78 36.1584 L1075.78 29.2718 Q1079.87 27.692 1083.72 26.9223 Q1087.57 26.1121 1091.22 26.1121 Q1101.06 26.1121 1105.92 31.2163 Q1110.78 36.3204 1110.78 46.6907 Z\" fill=\"#000000\" fill-rule=\"evenodd\" fill-opacity=\"1\" /><path clip-path=\"url(#clip870)\" d=\"M1161.46 35.9153 Q1164.26 30.8922 1168.14 28.5022 Q1172.03 26.1121 1177.3 26.1121 Q1184.39 26.1121 1188.24 31.0947 Q1192.08 36.0368 1192.08 45.1919 L1192.08 72.576 L1184.59 72.576 L1184.59 45.4349 Q1184.59 38.913 1182.28 35.7533 Q1179.97 32.5936 1175.23 32.5936 Q1169.44 32.5936 1166.08 36.4419 Q1162.72 40.2903 1162.72 46.9338 L1162.72 72.576 L1155.22 72.576 L1155.22 45.4349 Q1155.22 38.8725 1152.91 35.7533 Q1150.6 32.5936 1145.78 32.5936 Q1140.07 32.5936 1136.71 36.4824 Q1133.35 40.3308 1133.35 46.9338 L1133.35 72.576 L1125.85 72.576 L1125.85 27.2059 L1133.35 27.2059 L1133.35 34.2544 Q1135.9 30.082 1139.46 28.0971 Q1143.03 26.1121 1147.93 26.1121 Q1152.87 26.1121 1156.32 28.6237 Q1159.8 31.1352 1161.46 35.9153 Z\" fill=\"#000000\" fill-rule=\"evenodd\" fill-opacity=\"1\" /><path clip-path=\"url(#clip870)\" d=\"M1214.16 65.7705 L1214.16 89.8329 L1206.67 89.8329 L1206.67 27.2059 L1214.16 27.2059 L1214.16 34.0924 Q1216.51 30.0415 1220.08 28.0971 Q1223.68 26.1121 1228.66 26.1121 Q1236.93 26.1121 1242.07 32.6746 Q1247.26 39.2371 1247.26 49.9314 Q1247.26 60.6258 1242.07 67.1883 Q1236.93 73.7508 1228.66 73.7508 Q1223.68 73.7508 1220.08 71.8063 Q1216.51 69.8214 1214.16 65.7705 M1239.52 49.9314 Q1239.52 41.7081 1236.12 37.0496 Q1232.76 32.3505 1226.84 32.3505 Q1220.93 32.3505 1217.52 37.0496 Q1214.16 41.7081 1214.16 49.9314 Q1214.16 58.1548 1217.52 62.8538 Q1220.93 67.5124 1226.84 67.5124 Q1232.76 67.5124 1236.12 62.8538 Q1239.52 58.1548 1239.52 49.9314 Z\" fill=\"#000000\" fill-rule=\"evenodd\" fill-opacity=\"1\" /><path clip-path=\"url(#clip870)\" d=\"M1259.61 9.54393 L1267.07 9.54393 L1267.07 72.576 L1259.61 72.576 L1259.61 9.54393 Z\" fill=\"#000000\" fill-rule=\"evenodd\" fill-opacity=\"1\" /><path clip-path=\"url(#clip870)\" d=\"M1321.47 48.0275 L1321.47 51.6733 L1287.2 51.6733 Q1287.69 59.3701 1291.82 63.421 Q1295.99 67.4314 1303.4 67.4314 Q1307.7 67.4314 1311.71 66.3781 Q1315.76 65.3249 1319.73 63.2184 L1319.73 70.267 Q1315.72 71.9684 1311.51 72.8596 Q1307.29 73.7508 1302.96 73.7508 Q1292.1 73.7508 1285.74 67.4314 Q1279.42 61.1119 1279.42 50.3365 Q1279.42 39.1965 1285.42 32.6746 Q1291.45 26.1121 1301.66 26.1121 Q1310.82 26.1121 1316.12 32.0264 Q1321.47 37.9003 1321.47 48.0275 M1314.02 45.84 Q1313.94 39.7232 1310.57 36.0774 Q1307.25 32.4315 1301.74 32.4315 Q1295.5 32.4315 1291.74 35.9558 Q1288.01 39.4801 1287.44 45.8805 L1314.02 45.84 Z\" fill=\"#000000\" fill-rule=\"evenodd\" fill-opacity=\"1\" /><path clip-path=\"url(#clip870)\" d=\"M1362.55 65.6895 L1375.91 65.6895 L1375.91 19.5497 L1361.37 22.4663 L1361.37 15.0127 L1375.83 12.096 L1384.02 12.096 L1384.02 65.6895 L1397.38 65.6895 L1397.38 72.576 L1362.55 72.576 L1362.55 65.6895 Z\" fill=\"#000000\" fill-rule=\"evenodd\" fill-opacity=\"1\" /><path clip-path=\"url(#clip870)\" d=\"M1413.91 62.2867 L1422.46 62.2867 L1422.46 72.576 L1413.91 72.576 L1413.91 62.2867 Z\" fill=\"#000000\" fill-rule=\"evenodd\" fill-opacity=\"1\" /><path clip-path=\"url(#clip870)\" d=\"M1440.36 12.096 L1472.49 12.096 L1472.49 18.9825 L1447.86 18.9825 L1447.86 33.8088 Q1449.64 33.2012 1451.42 32.9176 Q1453.21 32.5936 1454.99 32.5936 Q1465.12 32.5936 1471.03 38.1433 Q1476.94 43.6931 1476.94 53.1722 Q1476.94 62.9348 1470.87 68.3631 Q1464.79 73.7508 1453.73 73.7508 Q1449.92 73.7508 1445.95 73.1026 Q1442.03 72.4545 1437.81 71.1582 L1437.81 62.9348 Q1441.46 64.9198 1445.35 65.892 Q1449.24 66.8642 1453.57 66.8642 Q1460.58 66.8642 1464.67 63.1779 Q1468.76 59.4916 1468.76 53.1722 Q1468.76 46.8528 1464.67 43.1664 Q1460.58 39.4801 1453.57 39.4801 Q1450.29 39.4801 1447.01 40.2093 Q1443.77 40.9384 1440.36 42.4778 L1440.36 12.096 Z\" fill=\"#000000\" fill-rule=\"evenodd\" fill-opacity=\"1\" /><path clip-path=\"url(#clip870)\" d=\"M1493.07 62.2867 L1501.61 62.2867 L1501.61 72.576 L1493.07 72.576 L1493.07 62.2867 Z\" fill=\"#000000\" fill-rule=\"evenodd\" fill-opacity=\"1\" /><path clip-path=\"url(#clip870)\" d=\"M1519.68 71.3202 L1519.68 63.8666 Q1522.76 65.3249 1525.92 66.0946 Q1529.08 66.8642 1532.12 66.8642 Q1540.22 66.8642 1544.47 61.436 Q1548.77 55.9673 1549.37 44.8678 Q1547.03 48.3516 1543.42 50.215 Q1539.81 52.0784 1535.44 52.0784 Q1526.37 52.0784 1521.06 46.6097 Q1515.79 41.1005 1515.79 31.5808 Q1515.79 22.2638 1521.3 16.633 Q1526.81 11.0023 1535.97 11.0023 Q1546.46 11.0023 1551.97 19.0636 Q1557.52 27.0843 1557.52 42.3968 Q1557.52 56.6965 1550.71 65.2439 Q1543.95 73.7508 1532.48 73.7508 Q1529.4 73.7508 1526.24 73.1431 Q1523.08 72.5355 1519.68 71.3202 M1535.97 45.678 Q1541.48 45.678 1544.68 41.9107 Q1547.92 38.1433 1547.92 31.5808 Q1547.92 25.0589 1544.68 21.2916 Q1541.48 17.4837 1535.97 17.4837 Q1530.46 17.4837 1527.22 21.2916 Q1524.02 25.0589 1524.02 31.5808 Q1524.02 38.1433 1527.22 41.9107 Q1530.46 45.678 1535.97 45.678 Z\" fill=\"#000000\" fill-rule=\"evenodd\" fill-opacity=\"1\" /><polyline clip-path=\"url(#clip873)\" style=\"stroke:#009af9; stroke-linecap:butt; stroke-linejoin:round; stroke-width:4; stroke-opacity:1; fill:none\" points=\"\n",
       "  240.392,162.047 250.406,175.931 260.42,189.679 353.014,310.345 445.609,419.361 501.254,479.271 556.9,534.973 603.947,578.787 650.995,619.593 702.101,660.512 \n",
       "  753.208,697.882 800.324,729.19 847.44,757.481 897.953,784.463 948.466,807.977 1006.99,830.885 1065.52,849.14 1117.53,861.456 1169.53,870.098 1215.14,874.651 \n",
       "  1260.75,876.377 1310.48,875.04 1360.2,870.342 1410.22,862.227 1460.24,850.713 1515.54,834.025 1570.85,813.181 1623.47,789.491 1676.09,762.038 1730.8,729.504 \n",
       "  1785.51,692.903 1831.57,658.939 1877.63,622.094 1933.86,573.202 1990.09,520.014 2042.94,466.098 2095.8,408.387 2180.48,308.015 2265.17,197.9 2278.2,180.089 \n",
       "  2291.23,162.047 \n",
       "  \"/>\n",
       "<polyline clip-path=\"url(#clip873)\" style=\"stroke:#e26f46; stroke-linecap:butt; stroke-linejoin:round; stroke-width:4; stroke-opacity:1; fill:none\" points=\"\n",
       "  240.392,647.803 260.42,650.594 445.609,676.396 556.9,691.902 650.995,705.012 753.208,719.253 847.44,732.382 948.466,746.458 1065.52,762.766 1169.53,777.259 \n",
       "  1260.75,789.968 1360.2,803.824 1460.24,817.762 1570.85,833.173 1676.09,847.836 1785.51,863.082 1877.63,875.916 1990.09,891.585 2095.8,906.314 2265.17,929.911 \n",
       "  2291.23,933.543 \n",
       "  \"/>\n",
       "<polyline clip-path=\"url(#clip873)\" style=\"stroke:#3da44d; stroke-linecap:butt; stroke-linejoin:round; stroke-width:4; stroke-opacity:1; fill:none\" points=\"\n",
       "  240.392,1447.87 250.406,1433.99 260.42,1420.24 353.014,1299.58 445.609,1190.56 501.254,1130.65 556.9,1074.95 603.947,1031.13 650.995,990.327 702.101,949.408 \n",
       "  753.208,912.038 800.324,880.73 847.44,852.439 897.953,825.457 948.466,801.943 1006.99,779.035 1065.52,760.78 1117.53,748.464 1169.53,739.822 1215.14,735.269 \n",
       "  1260.75,733.543 1310.48,734.88 1360.2,739.578 1410.22,747.693 1460.24,759.207 1515.54,775.895 1570.85,796.739 1623.47,820.429 1676.09,847.882 1730.8,880.416 \n",
       "  1785.51,917.017 1831.57,950.981 1877.63,987.826 1933.86,1036.72 1990.09,1089.91 2042.94,1143.82 2095.8,1201.53 2180.48,1301.9 2265.17,1412.02 2278.2,1429.83 \n",
       "  2291.23,1447.87 \n",
       "  \"/>\n",
       "<path clip-path=\"url(#clip870)\" d=\"\n",
       "M1562.33 362.358 L2280.29 362.358 L2280.29 168.905 L1562.33 168.905  Z\n",
       "  \" fill=\"#ffffff\" fill-rule=\"evenodd\" fill-opacity=\"1\"/>\n",
       "<polyline clip-path=\"url(#clip870)\" style=\"stroke:#000000; stroke-linecap:butt; stroke-linejoin:round; stroke-width:4; stroke-opacity:1; fill:none\" points=\"\n",
       "  1562.33,362.358 2280.29,362.358 2280.29,168.905 1562.33,168.905 1562.33,362.358 \n",
       "  \"/>\n",
       "<polyline clip-path=\"url(#clip870)\" style=\"stroke:#009af9; stroke-linecap:butt; stroke-linejoin:round; stroke-width:4; stroke-opacity:1; fill:none\" points=\"\n",
       "  1586.49,217.268 1731.41,217.268 \n",
       "  \"/>\n",
       "<path clip-path=\"url(#clip870)\" d=\"M1789.62 198.259 L1788.66 206.55 Q1788.59 207.3 1788.48 207.534 Q1788.36 207.745 1787.98 207.745 Q1787.42 207.745 1787.42 207.183 Q1787.42 206.948 1787.52 206.316 Q1787.66 205.028 1787.66 203.716 Q1787.66 202.241 1787.37 201.327 Q1787.12 200.39 1786.37 199.711 Q1785.62 199.032 1784.24 198.751 Q1782.85 198.446 1780.65 198.446 L1774.33 198.446 Q1772.78 198.446 1772.41 198.727 Q1772.06 199.008 1771.73 200.32 L1768.66 212.5 L1773.02 212.5 Q1776.06 212.5 1777.26 211.61 Q1778.45 210.72 1779.2 207.885 Q1779.32 207.44 1779.36 207.276 Q1779.43 207.089 1779.55 206.995 Q1779.69 206.878 1779.93 206.878 Q1780.14 206.878 1780.28 207.019 Q1780.42 207.136 1780.47 207.276 L1780.51 207.417 Q1780.51 207.651 1780.37 208.19 L1777.72 218.589 Q1777.54 219.292 1777.42 219.456 Q1777.33 219.597 1777 219.597 Q1776.76 219.597 1776.6 219.433 Q1776.44 219.269 1776.44 219.011 Q1776.48 218.73 1776.58 218.496 Q1776.9 217.067 1776.9 216.154 Q1776.9 215.568 1776.79 215.217 Q1776.67 214.865 1776.27 214.561 Q1775.87 214.256 1775.05 214.116 Q1774.23 213.975 1772.92 213.975 L1768.29 213.975 L1765.31 225.921 L1765.1 227.022 Q1765.1 227.513 1765.36 227.701 Q1765.64 227.888 1766.65 227.982 Q1768.14 228.099 1769.13 228.099 Q1770.35 228.099 1770.49 228.146 Q1770.77 228.286 1770.77 228.661 Q1770.77 229.083 1770.58 229.317 Q1770.39 229.528 1770.23 229.551 Q1770.07 229.575 1769.76 229.575 L1762.62 229.434 L1756.29 229.575 Q1755.57 229.575 1755.57 228.989 Q1755.57 228.544 1755.75 228.357 Q1755.94 228.146 1756.15 228.122 Q1756.36 228.099 1756.9 228.099 Q1758.07 228.099 1758.78 228.029 Q1759.48 227.958 1759.92 227.865 Q1760.39 227.748 1760.63 227.42 Q1760.88 227.092 1761 226.811 Q1761.12 226.506 1761.28 225.827 L1767.61 200.46 Q1767.84 199.594 1767.84 199.313 Q1767.84 199.008 1767.63 198.821 Q1767.44 198.634 1766.93 198.563 Q1766.41 198.47 1765.99 198.47 Q1765.59 198.446 1764.73 198.446 Q1764.16 198.446 1763.93 198.423 Q1763.72 198.399 1763.55 198.282 Q1763.39 198.165 1763.39 197.907 Q1763.39 197.252 1763.67 197.111 Q1763.98 196.947 1764.82 196.947 L1788.34 196.947 Q1789.27 196.947 1789.48 197.158 Q1789.72 197.345 1789.62 198.259 Z\" fill=\"#000000\" fill-rule=\"evenodd\" fill-opacity=\"1\" /><path clip-path=\"url(#clip870)\" d=\"M1786.09 217.582 Q1786.09 209.478 1789.11 202.943 Q1790.4 200.203 1792.2 197.907 Q1794.01 195.612 1795.2 194.605 Q1796.4 193.598 1796.72 193.598 Q1797.19 193.598 1797.22 194.066 Q1797.22 194.3 1796.58 194.886 Q1788.85 202.756 1788.88 217.582 Q1788.88 232.456 1796.4 240.021 Q1797.22 240.841 1797.22 241.098 Q1797.22 241.567 1796.72 241.567 Q1796.4 241.567 1795.25 240.607 Q1794.1 239.646 1792.32 237.445 Q1790.54 235.243 1789.25 232.549 Q1786.09 226.014 1786.09 217.582 Z\" fill=\"#000000\" fill-rule=\"evenodd\" fill-opacity=\"1\" /><path clip-path=\"url(#clip870)\" d=\"M1828.4 211.539 Q1828.4 212.851 1827.58 213.6 Q1826.76 214.327 1825.82 214.327 Q1824.93 214.327 1824.46 213.811 Q1823.99 213.296 1823.99 212.64 Q1823.99 211.75 1824.65 210.977 Q1825.3 210.204 1826.29 210.04 Q1825.33 209.431 1823.9 209.431 Q1822.96 209.431 1822.14 209.923 Q1821.35 210.415 1820.85 211.047 Q1820.39 211.68 1819.96 212.593 Q1819.57 213.483 1819.4 214.022 Q1819.26 214.537 1819.14 215.1 L1817.5 221.658 Q1816.71 224.773 1816.71 225.874 Q1816.71 227.232 1817.36 228.146 Q1818.02 229.036 1819.33 229.036 Q1819.85 229.036 1820.43 228.895 Q1821.02 228.731 1821.77 228.31 Q1822.54 227.865 1823.22 227.209 Q1823.92 226.53 1824.6 225.382 Q1825.28 224.234 1825.73 222.759 Q1825.87 222.243 1826.33 222.243 Q1826.92 222.243 1826.92 222.712 Q1826.92 223.11 1826.59 223.953 Q1826.29 224.773 1825.61 225.85 Q1824.95 226.904 1824.09 227.865 Q1823.22 228.802 1821.93 229.457 Q1820.64 230.113 1819.24 230.113 Q1817.22 230.113 1815.89 229.036 Q1814.55 227.958 1814.06 226.459 Q1813.94 226.67 1813.78 226.951 Q1813.62 227.232 1813.12 227.865 Q1812.66 228.474 1812.12 228.942 Q1811.58 229.387 1810.74 229.739 Q1809.92 230.113 1809.03 230.113 Q1807.9 230.113 1806.89 229.785 Q1805.91 229.457 1805.21 228.708 Q1804.51 227.958 1804.51 226.928 Q1804.51 225.78 1805.28 224.984 Q1806.07 224.164 1807.15 224.164 Q1807.83 224.164 1808.37 224.562 Q1808.93 224.96 1808.93 225.827 Q1808.93 226.787 1808.28 227.513 Q1807.62 228.239 1806.68 228.427 Q1807.64 229.036 1809.07 229.036 Q1810.62 229.036 1811.84 227.677 Q1813.05 226.319 1813.64 224.047 Q1815.09 218.589 1815.65 216.154 Q1816.22 213.694 1816.22 212.64 Q1816.22 211.656 1815.96 210.977 Q1815.7 210.298 1815.26 209.993 Q1814.83 209.665 1814.44 209.548 Q1814.06 209.431 1813.64 209.431 Q1812.94 209.431 1812.14 209.712 Q1811.37 209.993 1810.43 210.649 Q1809.52 211.282 1808.65 212.593 Q1807.78 213.905 1807.2 215.708 Q1807.08 216.247 1806.57 216.247 Q1806 216.224 1806 215.755 Q1806 215.357 1806.31 214.537 Q1806.64 213.694 1807.29 212.64 Q1807.97 211.586 1808.84 210.649 Q1809.73 209.689 1811.02 209.033 Q1812.33 208.377 1813.73 208.377 Q1814.37 208.377 1814.97 208.518 Q1815.61 208.635 1816.36 208.986 Q1817.13 209.338 1817.81 210.111 Q1818.49 210.883 1818.91 212.008 Q1819.19 211.469 1819.57 210.954 Q1819.96 210.438 1820.57 209.806 Q1821.21 209.15 1822.07 208.775 Q1822.96 208.377 1823.95 208.377 Q1824.91 208.377 1825.84 208.635 Q1826.78 208.869 1827.58 209.642 Q1828.4 210.392 1828.4 211.539 Z\" fill=\"#000000\" fill-rule=\"evenodd\" fill-opacity=\"1\" /><path clip-path=\"url(#clip870)\" d=\"M1831.66 241.098 Q1831.66 240.864 1832.27 240.279 Q1840 232.409 1840 217.582 Q1840 202.709 1832.58 195.19 Q1831.66 194.324 1831.66 194.066 Q1831.66 193.598 1832.13 193.598 Q1832.46 193.598 1833.61 194.558 Q1834.78 195.518 1836.54 197.72 Q1838.32 199.922 1839.63 202.615 Q1842.79 209.15 1842.79 217.582 Q1842.79 225.686 1839.77 232.221 Q1838.48 234.962 1836.68 237.257 Q1834.87 239.553 1833.68 240.56 Q1832.48 241.567 1832.13 241.567 Q1831.66 241.567 1831.66 241.098 Z\" fill=\"#000000\" fill-rule=\"evenodd\" fill-opacity=\"1\" /><path clip-path=\"url(#clip870)\" d=\"M1863.38 222.29 Q1863.43 221.705 1864.35 221.705 L1893.74 221.705 Q1895.12 221.705 1895.15 222.243 Q1895.15 222.829 1893.83 222.805 L1864.67 222.805 Q1863.38 222.829 1863.38 222.29 M1863.38 212.921 Q1863.38 212.336 1864.39 212.359 L1893.69 212.359 Q1895.12 212.359 1895.15 212.921 Q1895.15 213.46 1893.93 213.46 L1864.35 213.46 Q1863.38 213.46 1863.38 212.921 Z\" fill=\"#000000\" fill-rule=\"evenodd\" fill-opacity=\"1\" /><path clip-path=\"url(#clip870)\" d=\"M1937.53 211.539 Q1937.53 212.851 1936.71 213.6 Q1935.89 214.327 1934.95 214.327 Q1934.06 214.327 1933.59 213.811 Q1933.12 213.296 1933.12 212.64 Q1933.12 211.75 1933.78 210.977 Q1934.44 210.204 1935.42 210.04 Q1934.46 209.431 1933.03 209.431 Q1932.09 209.431 1931.27 209.923 Q1930.48 210.415 1929.99 211.047 Q1929.52 211.68 1929.1 212.593 Q1928.7 213.483 1928.53 214.022 Q1928.39 214.537 1928.28 215.1 L1926.64 221.658 Q1925.84 224.773 1925.84 225.874 Q1925.84 227.232 1926.5 228.146 Q1927.15 229.036 1928.46 229.036 Q1928.98 229.036 1929.56 228.895 Q1930.15 228.731 1930.9 228.31 Q1931.67 227.865 1932.35 227.209 Q1933.05 226.53 1933.73 225.382 Q1934.41 224.234 1934.86 222.759 Q1935 222.243 1935.47 222.243 Q1936.05 222.243 1936.05 222.712 Q1936.05 223.11 1935.72 223.953 Q1935.42 224.773 1934.74 225.85 Q1934.08 226.904 1933.22 227.865 Q1932.35 228.802 1931.06 229.457 Q1929.77 230.113 1928.37 230.113 Q1926.35 230.113 1925.02 229.036 Q1923.68 227.958 1923.19 226.459 Q1923.08 226.67 1922.91 226.951 Q1922.75 227.232 1922.26 227.865 Q1921.79 228.474 1921.25 228.942 Q1920.71 229.387 1919.87 229.739 Q1919.05 230.113 1918.16 230.113 Q1917.03 230.113 1916.03 229.785 Q1915.04 229.457 1914.34 228.708 Q1913.64 227.958 1913.64 226.928 Q1913.64 225.78 1914.41 224.984 Q1915.21 224.164 1916.28 224.164 Q1916.96 224.164 1917.5 224.562 Q1918.06 224.96 1918.06 225.827 Q1918.06 226.787 1917.41 227.513 Q1916.75 228.239 1915.81 228.427 Q1916.78 229.036 1918.2 229.036 Q1919.75 229.036 1920.97 227.677 Q1922.19 226.319 1922.77 224.047 Q1924.22 218.589 1924.79 216.154 Q1925.35 213.694 1925.35 212.64 Q1925.35 211.656 1925.09 210.977 Q1924.83 210.298 1924.39 209.993 Q1923.97 209.665 1923.57 209.548 Q1923.19 209.431 1922.77 209.431 Q1922.07 209.431 1921.27 209.712 Q1920.5 209.993 1919.56 210.649 Q1918.65 211.282 1917.78 212.593 Q1916.92 213.905 1916.33 215.708 Q1916.21 216.247 1915.7 216.247 Q1915.14 216.224 1915.14 215.755 Q1915.14 215.357 1915.44 214.537 Q1915.77 213.694 1916.42 212.64 Q1917.1 211.586 1917.97 210.649 Q1918.86 209.689 1920.15 209.033 Q1921.46 208.377 1922.86 208.377 Q1923.5 208.377 1924.11 208.518 Q1924.74 208.635 1925.49 208.986 Q1926.26 209.338 1926.94 210.111 Q1927.62 210.883 1928.04 212.008 Q1928.32 211.469 1928.7 210.954 Q1929.1 210.438 1929.7 209.806 Q1930.34 209.15 1931.2 208.775 Q1932.09 208.377 1933.08 208.377 Q1934.04 208.377 1934.97 208.635 Q1935.91 208.869 1936.71 209.642 Q1937.53 210.392 1937.53 211.539 Z\" fill=\"#000000\" fill-rule=\"evenodd\" fill-opacity=\"1\" /><path clip-path=\"url(#clip870)\" d=\"M1942.41 215.235 Q1942.41 214.628 1942.46 214.448 Q1942.53 214.267 1942.79 213.989 L1949.23 206.807 Q1952.76 202.84 1952.76 199.38 Q1952.76 197.134 1951.58 195.527 Q1950.41 193.92 1948.27 193.92 Q1946.79 193.92 1945.54 194.822 Q1944.3 195.724 1943.72 197.331 Q1943.82 197.298 1944.17 197.298 Q1945 197.298 1945.46 197.822 Q1945.94 198.347 1945.94 199.052 Q1945.94 199.954 1945.35 200.397 Q1944.77 200.823 1944.2 200.823 Q1943.97 200.823 1943.66 200.774 Q1943.36 200.725 1942.89 200.265 Q1942.41 199.79 1942.41 198.954 Q1942.41 196.609 1944.18 194.74 Q1945.97 192.871 1948.69 192.871 Q1951.77 192.871 1953.79 194.707 Q1955.82 196.527 1955.82 199.38 Q1955.82 200.38 1955.51 201.298 Q1955.22 202.2 1954.81 202.905 Q1954.41 203.61 1953.33 204.741 Q1952.25 205.873 1951.38 206.676 Q1950.51 207.48 1948.56 209.185 L1945 212.644 L1951.05 212.644 Q1954 212.644 1954.23 212.382 Q1954.56 211.906 1954.97 209.398 L1955.82 209.398 L1954.87 215.235 L1942.41 215.235 Z\" fill=\"#000000\" fill-rule=\"evenodd\" fill-opacity=\"1\" /><path clip-path=\"url(#clip870)\" d=\"M2005.78 216.903 Q2006.06 217.184 2006.06 217.582 Q2006.06 217.98 2005.78 218.262 Q2005.5 218.543 2005.1 218.543 L1975.08 218.543 Q1974.68 218.543 1974.4 218.262 Q1974.12 217.98 1974.12 217.582 Q1974.12 217.184 1974.4 216.903 Q1974.68 216.622 1975.08 216.622 L2005.1 216.622 Q2005.5 216.622 2005.78 216.903 Z\" fill=\"#000000\" fill-rule=\"evenodd\" fill-opacity=\"1\" /><path clip-path=\"url(#clip870)\" d=\"M2024.37 229.575 Q2024.37 228.708 2024.44 228.45 Q2024.53 228.193 2024.91 227.794 L2034.11 217.535 Q2039.15 211.867 2039.15 206.925 Q2039.15 203.716 2037.46 201.421 Q2035.8 199.125 2032.73 199.125 Q2030.62 199.125 2028.84 200.414 Q2027.06 201.702 2026.24 203.997 Q2026.38 203.95 2026.87 203.95 Q2028.07 203.95 2028.72 204.7 Q2029.4 205.449 2029.4 206.457 Q2029.4 207.745 2028.56 208.377 Q2027.74 208.986 2026.92 208.986 Q2026.59 208.986 2026.15 208.916 Q2025.73 208.846 2025.05 208.19 Q2024.37 207.511 2024.37 206.316 Q2024.37 202.967 2026.9 200.297 Q2029.45 197.626 2033.34 197.626 Q2037.74 197.626 2040.62 200.25 Q2043.53 202.85 2043.53 206.925 Q2043.53 208.354 2043.08 209.665 Q2042.66 210.954 2042.07 211.961 Q2041.51 212.968 2039.97 214.584 Q2038.42 216.2 2037.18 217.348 Q2035.94 218.496 2033.15 220.932 L2028.07 225.874 L2036.71 225.874 Q2040.93 225.874 2041.25 225.499 Q2041.72 224.82 2042.31 221.236 L2043.53 221.236 L2042.17 229.575 L2024.37 229.575 Z\" fill=\"#000000\" fill-rule=\"evenodd\" fill-opacity=\"1\" /><polyline clip-path=\"url(#clip870)\" style=\"stroke:#e26f46; stroke-linecap:butt; stroke-linejoin:round; stroke-width:4; stroke-opacity:1; fill:none\" points=\"\n",
       "  1586.49,265.631 1731.41,265.631 \n",
       "  \"/>\n",
       "<path clip-path=\"url(#clip870)\" d=\"M1789.62 244.176 L1786.6 256.403 Q1786.39 257.176 1786.25 257.269 Q1786.13 257.363 1785.76 257.363 Q1785.03 257.363 1785.03 256.871 Q1785.03 256.824 1785.1 256.215 Q1785.17 255.583 1785.17 254.435 Q1785.17 250.196 1783.11 247.689 Q1781.07 245.183 1777.44 245.183 Q1774.05 245.183 1770.79 246.963 Q1767.54 248.743 1765.45 251.367 Q1763.69 253.522 1762.48 256.145 Q1761.28 258.768 1760.79 261.064 Q1760.3 263.336 1760.11 264.718 Q1759.95 266.099 1759.95 266.99 Q1759.95 269.613 1760.79 271.651 Q1761.63 273.665 1763.04 274.813 Q1764.47 275.96 1766.11 276.522 Q1767.77 277.085 1769.57 277.085 Q1770.25 277.085 1771.07 276.991 Q1771.89 276.897 1773.16 276.546 Q1774.45 276.195 1775.5 275.609 Q1776.58 275.023 1777.51 273.899 Q1778.47 272.775 1778.85 271.276 Q1779.86 267.458 1779.86 266.896 Q1779.86 266.427 1779.58 266.263 Q1779.29 266.099 1778.36 265.982 L1775.83 265.889 Q1775.78 265.889 1775.71 265.889 Q1775.27 265.889 1775.08 265.889 Q1774.89 265.865 1774.68 265.818 Q1774.49 265.772 1774.42 265.678 Q1774.38 265.561 1774.38 265.373 Q1774.38 264.928 1774.56 264.718 Q1774.75 264.483 1774.91 264.46 Q1775.08 264.413 1775.38 264.413 L1782.1 264.554 Q1782.64 264.554 1784.61 264.483 Q1786.58 264.413 1787.14 264.413 Q1787.77 264.413 1787.77 264.928 Q1787.77 265.889 1787 265.889 Q1786.23 265.912 1785.83 265.936 Q1785.43 265.936 1785.03 266.053 Q1784.66 266.17 1784.52 266.263 Q1784.38 266.334 1784.19 266.685 Q1784 267.013 1783.93 267.294 Q1783.86 267.552 1783.7 268.208 Q1783.6 268.629 1783.37 269.425 Q1783.16 270.222 1783.07 270.643 L1782.15 274.344 Q1781.52 277.085 1781.33 277.272 Q1781.24 277.459 1781 277.459 Q1780.65 277.459 1779.9 276.429 Q1779.18 275.398 1778.85 274.485 Q1778.26 275.117 1777.89 275.492 Q1777.51 275.843 1776.65 276.405 Q1775.8 276.967 1774.68 277.413 Q1771.94 278.56 1768.68 278.56 Q1762.87 278.56 1759.22 274.883 Q1755.57 271.182 1755.57 265.42 Q1755.57 261.345 1757.44 257.339 Q1759.31 253.334 1762.29 250.36 Q1765.26 247.385 1769.2 245.535 Q1773.13 243.684 1777.07 243.684 Q1778.57 243.684 1779.9 244.082 Q1781.24 244.481 1782.03 244.972 Q1782.85 245.464 1783.58 246.19 Q1784.31 246.893 1784.54 247.221 Q1784.8 247.549 1785.03 247.947 L1788.38 244.27 Q1788.97 243.684 1789.11 243.684 Q1789.39 243.684 1789.51 243.848 Q1789.62 244.012 1789.62 244.176 Z\" fill=\"#000000\" fill-rule=\"evenodd\" fill-opacity=\"1\" /><path clip-path=\"url(#clip870)\" d=\"M1792.89 265.514 Q1792.89 257.41 1795.91 250.875 Q1797.19 248.134 1799 245.839 Q1800.8 243.544 1802 242.537 Q1803.19 241.529 1803.52 241.529 Q1803.99 241.529 1804.01 241.998 Q1804.01 242.232 1803.38 242.818 Q1795.65 250.688 1795.67 265.514 Q1795.67 280.387 1803.19 287.953 Q1804.01 288.772 1804.01 289.03 Q1804.01 289.499 1803.52 289.499 Q1803.19 289.499 1802.04 288.538 Q1800.9 287.578 1799.12 285.376 Q1797.34 283.174 1796.05 280.481 Q1792.89 273.946 1792.89 265.514 Z\" fill=\"#000000\" fill-rule=\"evenodd\" fill-opacity=\"1\" /><path clip-path=\"url(#clip870)\" d=\"M1835.19 259.471 Q1835.19 260.783 1834.37 261.532 Q1833.55 262.258 1832.62 262.258 Q1831.73 262.258 1831.26 261.743 Q1830.79 261.228 1830.79 260.572 Q1830.79 259.682 1831.44 258.909 Q1832.1 258.136 1833.08 257.972 Q1832.12 257.363 1830.69 257.363 Q1829.76 257.363 1828.94 257.855 Q1828.14 258.347 1827.65 258.979 Q1827.18 259.611 1826.76 260.525 Q1826.36 261.415 1826.2 261.954 Q1826.06 262.469 1825.94 263.031 L1824.3 269.589 Q1823.5 272.705 1823.5 273.805 Q1823.5 275.164 1824.16 276.077 Q1824.82 276.967 1826.13 276.967 Q1826.64 276.967 1827.23 276.827 Q1827.81 276.663 1828.56 276.241 Q1829.34 275.796 1830.02 275.141 Q1830.72 274.461 1831.4 273.314 Q1832.08 272.166 1832.52 270.69 Q1832.66 270.175 1833.13 270.175 Q1833.72 270.175 1833.72 270.643 Q1833.72 271.042 1833.39 271.885 Q1833.08 272.705 1832.4 273.782 Q1831.75 274.836 1830.88 275.796 Q1830.02 276.733 1828.73 277.389 Q1827.44 278.045 1826.03 278.045 Q1824.02 278.045 1822.68 276.967 Q1821.35 275.89 1820.86 274.391 Q1820.74 274.602 1820.58 274.883 Q1820.41 275.164 1819.92 275.796 Q1819.45 276.405 1818.91 276.874 Q1818.37 277.319 1817.53 277.67 Q1816.71 278.045 1815.82 278.045 Q1814.7 278.045 1813.69 277.717 Q1812.71 277.389 1812 276.64 Q1811.3 275.89 1811.3 274.859 Q1811.3 273.712 1812.07 272.915 Q1812.87 272.096 1813.95 272.096 Q1814.63 272.096 1815.17 272.494 Q1815.73 272.892 1815.73 273.759 Q1815.73 274.719 1815.07 275.445 Q1814.42 276.171 1813.48 276.359 Q1814.44 276.967 1815.87 276.967 Q1817.41 276.967 1818.63 275.609 Q1819.85 274.25 1820.44 271.979 Q1821.89 266.521 1822.45 264.085 Q1823.01 261.626 1823.01 260.572 Q1823.01 259.588 1822.75 258.909 Q1822.5 258.23 1822.05 257.925 Q1821.63 257.597 1821.23 257.48 Q1820.86 257.363 1820.44 257.363 Q1819.73 257.363 1818.94 257.644 Q1818.16 257.925 1817.23 258.581 Q1816.31 259.213 1815.45 260.525 Q1814.58 261.837 1813.99 263.64 Q1813.88 264.179 1813.36 264.179 Q1812.8 264.155 1812.8 263.687 Q1812.8 263.289 1813.1 262.469 Q1813.43 261.626 1814.09 260.572 Q1814.77 259.518 1815.63 258.581 Q1816.52 257.621 1817.81 256.965 Q1819.12 256.309 1820.53 256.309 Q1821.16 256.309 1821.77 256.449 Q1822.4 256.567 1823.15 256.918 Q1823.93 257.269 1824.6 258.042 Q1825.28 258.815 1825.71 259.939 Q1825.99 259.401 1826.36 258.885 Q1826.76 258.37 1827.37 257.738 Q1828 257.082 1828.87 256.707 Q1829.76 256.309 1830.74 256.309 Q1831.7 256.309 1832.64 256.567 Q1833.58 256.801 1834.37 257.574 Q1835.19 258.323 1835.19 259.471 Z\" fill=\"#000000\" fill-rule=\"evenodd\" fill-opacity=\"1\" /><path clip-path=\"url(#clip870)\" d=\"M1838.46 289.03 Q1838.46 288.796 1839.07 288.21 Q1846.8 280.34 1846.8 265.514 Q1846.8 250.641 1839.37 243.122 Q1838.46 242.255 1838.46 241.998 Q1838.46 241.529 1838.93 241.529 Q1839.26 241.529 1840.4 242.49 Q1841.58 243.45 1843.33 245.652 Q1845.11 247.853 1846.42 250.547 Q1849.59 257.082 1849.59 265.514 Q1849.59 273.618 1846.56 280.153 Q1845.28 282.893 1843.47 285.189 Q1841.67 287.484 1840.47 288.491 Q1839.28 289.499 1838.93 289.499 Q1838.46 289.499 1838.46 289.03 Z\" fill=\"#000000\" fill-rule=\"evenodd\" fill-opacity=\"1\" /><path clip-path=\"url(#clip870)\" d=\"M1870.18 270.222 Q1870.23 269.636 1871.14 269.636 L1900.54 269.636 Q1901.92 269.636 1901.94 270.175 Q1901.94 270.761 1900.63 270.737 L1871.47 270.737 Q1870.18 270.761 1870.18 270.222 M1870.18 260.853 Q1870.18 260.267 1871.19 260.291 L1900.49 260.291 Q1901.92 260.291 1901.94 260.853 Q1901.94 261.392 1900.72 261.392 L1871.14 261.392 Q1870.18 261.392 1870.18 260.853 Z\" fill=\"#000000\" fill-rule=\"evenodd\" fill-opacity=\"1\" /><path clip-path=\"url(#clip870)\" d=\"M1965.4 264.835 Q1965.69 265.116 1965.69 265.514 Q1965.69 265.912 1965.4 266.193 Q1965.12 266.474 1964.72 266.474 L1934.7 266.474 Q1934.3 266.474 1934.02 266.193 Q1933.74 265.912 1933.74 265.514 Q1933.74 265.116 1934.02 264.835 Q1934.3 264.554 1934.7 264.554 L1964.72 264.554 Q1965.12 264.554 1965.4 264.835 Z\" fill=\"#000000\" fill-rule=\"evenodd\" fill-opacity=\"1\" /><path clip-path=\"url(#clip870)\" d=\"M2007.88 259.471 Q2007.88 260.783 2007.06 261.532 Q2006.24 262.258 2005.3 262.258 Q2004.41 262.258 2003.94 261.743 Q2003.48 261.228 2003.48 260.572 Q2003.48 259.682 2004.13 258.909 Q2004.79 258.136 2005.77 257.972 Q2004.81 257.363 2003.38 257.363 Q2002.45 257.363 2001.63 257.855 Q2000.83 258.347 2000.34 258.979 Q1999.87 259.611 1999.45 260.525 Q1999.05 261.415 1998.89 261.954 Q1998.74 262.469 1998.63 263.031 L1996.99 269.589 Q1996.19 272.705 1996.19 273.805 Q1996.19 275.164 1996.85 276.077 Q1997.5 276.967 1998.81 276.967 Q1999.33 276.967 1999.92 276.827 Q2000.5 276.663 2001.25 276.241 Q2002.02 275.796 2002.7 275.141 Q2003.41 274.461 2004.09 273.314 Q2004.76 272.166 2005.21 270.69 Q2005.35 270.175 2005.82 270.175 Q2006.4 270.175 2006.4 270.643 Q2006.4 271.042 2006.08 271.885 Q2005.77 272.705 2005.09 273.782 Q2004.44 274.836 2003.57 275.796 Q2002.7 276.733 2001.41 277.389 Q2000.13 278.045 1998.72 278.045 Q1996.71 278.045 1995.37 276.967 Q1994.04 275.89 1993.54 274.391 Q1993.43 274.602 1993.26 274.883 Q1993.1 275.164 1992.61 275.796 Q1992.14 276.405 1991.6 276.874 Q1991.06 277.319 1990.22 277.67 Q1989.4 278.045 1988.51 278.045 Q1987.38 278.045 1986.38 277.717 Q1985.39 277.389 1984.69 276.64 Q1983.99 275.89 1983.99 274.859 Q1983.99 273.712 1984.76 272.915 Q1985.56 272.096 1986.64 272.096 Q1987.31 272.096 1987.85 272.494 Q1988.42 272.892 1988.42 273.759 Q1988.42 274.719 1987.76 275.445 Q1987.1 276.171 1986.17 276.359 Q1987.13 276.967 1988.56 276.967 Q1990.1 276.967 1991.32 275.609 Q1992.54 274.25 1993.12 271.979 Q1994.58 266.521 1995.14 264.085 Q1995.7 261.626 1995.7 260.572 Q1995.7 259.588 1995.44 258.909 Q1995.18 258.23 1994.74 257.925 Q1994.32 257.597 1993.92 257.48 Q1993.54 257.363 1993.12 257.363 Q1992.42 257.363 1991.62 257.644 Q1990.85 257.925 1989.91 258.581 Q1989 259.213 1988.13 260.525 Q1987.27 261.837 1986.68 263.64 Q1986.57 264.179 1986.05 264.179 Q1985.49 264.155 1985.49 263.687 Q1985.49 263.289 1985.79 262.469 Q1986.12 261.626 1986.78 260.572 Q1987.46 259.518 1988.32 258.581 Q1989.21 257.621 1990.5 256.965 Q1991.81 256.309 1993.22 256.309 Q1993.85 256.309 1994.46 256.449 Q1995.09 256.567 1995.84 256.918 Q1996.61 257.269 1997.29 258.042 Q1997.97 258.815 1998.39 259.939 Q1998.67 259.401 1999.05 258.885 Q1999.45 258.37 2000.06 257.738 Q2000.69 257.082 2001.56 256.707 Q2002.45 256.309 2003.43 256.309 Q2004.39 256.309 2005.33 256.567 Q2006.26 256.801 2007.06 257.574 Q2007.88 258.323 2007.88 259.471 Z\" fill=\"#000000\" fill-rule=\"evenodd\" fill-opacity=\"1\" /><path clip-path=\"url(#clip870)\" d=\"M2025.55 266.099 Q2024.45 266.099 2024.45 265.514 Q2024.45 264.928 2025.6 264.928 Q2025.74 264.928 2025.98 264.952 Q2026.23 264.975 2026.28 264.975 L2039.79 264.975 L2039.79 251.414 Q2039.79 251.367 2039.77 251.156 Q2039.75 250.922 2039.75 250.781 Q2039.75 249.634 2040.31 249.634 Q2040.9 249.634 2040.9 250.781 L2040.9 264.975 L2054.43 264.975 Q2054.48 264.975 2054.71 264.952 Q2054.95 264.928 2055.09 264.928 Q2056.19 264.928 2056.19 265.514 Q2056.21 266.099 2055.04 266.099 Q2054.9 266.099 2054.69 266.076 Q2054.48 266.053 2054.43 266.053 L2040.9 266.053 L2040.9 280.293 Q2040.9 281.394 2040.31 281.394 Q2039.75 281.394 2039.75 280.247 Q2039.75 280.106 2039.77 279.872 Q2039.79 279.661 2039.79 279.614 L2039.79 266.053 L2026.28 266.053 Q2026.23 266.053 2025.95 266.076 Q2025.69 266.099 2025.55 266.099 Z\" fill=\"#000000\" fill-rule=\"evenodd\" fill-opacity=\"1\" /><path clip-path=\"url(#clip870)\" d=\"M2074.7 250.125 L2074.7 248.626 Q2080.47 248.626 2083.44 245.558 Q2084.26 245.558 2084.4 245.745 Q2084.54 245.933 2084.54 246.799 L2084.54 273.712 Q2084.54 275.141 2085.24 275.586 Q2085.95 276.031 2089.02 276.031 L2090.54 276.031 L2090.54 277.506 Q2088.85 277.366 2082.76 277.366 Q2076.67 277.366 2075.01 277.506 L2075.01 276.031 L2076.53 276.031 Q2079.55 276.031 2080.28 275.609 Q2081.01 275.164 2081.01 273.712 L2081.01 248.861 Q2078.5 250.125 2074.7 250.125 Z\" fill=\"#000000\" fill-rule=\"evenodd\" fill-opacity=\"1\" /><polyline clip-path=\"url(#clip870)\" style=\"stroke:#3da44d; stroke-linecap:butt; stroke-linejoin:round; stroke-width:4; stroke-opacity:1; fill:none\" points=\"\n",
       "  1586.49,313.994 1731.41,313.994 \n",
       "  \"/>\n",
       "<path clip-path=\"url(#clip870)\" d=\"M1755.57 314.309 Q1755.57 306.205 1758.59 299.67 Q1759.88 296.929 1761.68 294.634 Q1763.48 292.339 1764.68 291.331 Q1765.87 290.324 1766.2 290.324 Q1766.67 290.324 1766.69 290.793 Q1766.69 291.027 1766.06 291.612 Q1758.33 299.482 1758.35 314.309 Q1758.35 329.182 1765.87 336.748 Q1766.69 337.567 1766.69 337.825 Q1766.69 338.293 1766.2 338.293 Q1765.87 338.293 1764.73 337.333 Q1763.58 336.373 1761.8 334.171 Q1760.02 331.969 1758.73 329.276 Q1755.57 322.741 1755.57 314.309 Z\" fill=\"#000000\" fill-rule=\"evenodd\" fill-opacity=\"1\" /><path clip-path=\"url(#clip870)\" d=\"M1808.04 292.971 L1805.02 305.198 Q1804.81 305.97 1804.67 306.064 Q1804.55 306.158 1804.17 306.158 Q1803.45 306.158 1803.45 305.666 Q1803.45 305.619 1803.52 305.01 Q1803.59 304.378 1803.59 303.23 Q1803.59 298.991 1801.53 296.484 Q1799.49 293.978 1795.86 293.978 Q1792.46 293.978 1789.21 295.758 Q1785.95 297.538 1783.87 300.162 Q1782.11 302.317 1780.89 304.94 Q1779.7 307.563 1779.21 309.859 Q1778.71 312.131 1778.53 313.512 Q1778.36 314.894 1778.36 315.784 Q1778.36 318.408 1779.21 320.446 Q1780.05 322.46 1781.45 323.608 Q1782.88 324.755 1784.52 325.317 Q1786.19 325.88 1787.99 325.88 Q1788.67 325.88 1789.49 325.786 Q1790.31 325.692 1791.57 325.341 Q1792.86 324.989 1793.92 324.404 Q1794.99 323.818 1795.93 322.694 Q1796.89 321.57 1797.26 320.071 Q1798.27 316.253 1798.27 315.691 Q1798.27 315.222 1797.99 315.058 Q1797.71 314.894 1796.77 314.777 L1794.24 314.684 Q1794.2 314.684 1794.13 314.684 Q1793.68 314.684 1793.49 314.684 Q1793.31 314.66 1793.1 314.613 Q1792.91 314.566 1792.84 314.473 Q1792.79 314.356 1792.79 314.168 Q1792.79 313.723 1792.98 313.512 Q1793.17 313.278 1793.33 313.255 Q1793.49 313.208 1793.8 313.208 L1800.52 313.349 Q1801.06 313.349 1803.03 313.278 Q1804.99 313.208 1805.56 313.208 Q1806.19 313.208 1806.19 313.723 Q1806.19 314.684 1805.42 314.684 Q1804.64 314.707 1804.24 314.73 Q1803.85 314.73 1803.45 314.848 Q1803.07 314.965 1802.93 315.058 Q1802.79 315.129 1802.6 315.48 Q1802.42 315.808 1802.35 316.089 Q1802.28 316.347 1802.11 317.002 Q1802.02 317.424 1801.79 318.22 Q1801.57 319.017 1801.48 319.438 L1800.57 323.139 Q1799.93 325.88 1799.75 326.067 Q1799.65 326.254 1799.42 326.254 Q1799.07 326.254 1798.32 325.224 Q1797.59 324.193 1797.26 323.28 Q1796.68 323.912 1796.3 324.287 Q1795.93 324.638 1795.06 325.2 Q1794.22 325.762 1793.1 326.207 Q1790.35 327.355 1787.1 327.355 Q1781.29 327.355 1777.64 323.678 Q1773.98 319.977 1773.98 314.215 Q1773.98 310.14 1775.86 306.134 Q1777.73 302.129 1780.7 299.155 Q1783.68 296.18 1787.61 294.329 Q1791.55 292.479 1795.48 292.479 Q1796.98 292.479 1798.32 292.877 Q1799.65 293.275 1800.45 293.767 Q1801.27 294.259 1802 294.985 Q1802.72 295.688 1802.96 296.016 Q1803.21 296.344 1803.45 296.742 L1806.8 293.065 Q1807.38 292.479 1807.52 292.479 Q1807.8 292.479 1807.92 292.643 Q1808.04 292.807 1808.04 292.971 Z\" fill=\"#000000\" fill-rule=\"evenodd\" fill-opacity=\"1\" /><path clip-path=\"url(#clip870)\" d=\"M1836.88 309.226 Q1838.99 311.311 1838.99 314.309 Q1838.99 317.307 1836.88 319.415 Q1834.79 321.5 1831.8 321.5 Q1828.8 321.5 1826.69 319.415 Q1824.61 317.307 1824.61 314.309 Q1824.61 311.311 1826.69 309.226 Q1828.8 307.118 1831.8 307.118 Q1834.79 307.118 1836.88 309.226 M1835.52 318.056 Q1837.07 316.511 1837.07 314.309 Q1837.07 312.107 1835.52 310.585 Q1834 309.039 1831.8 309.039 Q1829.59 309.039 1828.05 310.585 Q1826.53 312.107 1826.53 314.309 Q1826.53 316.511 1828.05 318.056 Q1829.59 319.579 1831.8 319.579 Q1834 319.579 1835.52 318.056 Z\" fill=\"#000000\" fill-rule=\"evenodd\" fill-opacity=\"1\" /><path clip-path=\"url(#clip870)\" d=\"M1891.52 294.985 L1890.56 303.277 Q1890.49 304.026 1890.37 304.261 Q1890.25 304.471 1889.88 304.471 Q1889.32 304.471 1889.32 303.909 Q1889.32 303.675 1889.41 303.043 Q1889.55 301.754 1889.55 300.443 Q1889.55 298.967 1889.27 298.054 Q1889.01 297.117 1888.26 296.438 Q1887.51 295.758 1886.13 295.477 Q1884.75 295.173 1882.55 295.173 L1876.22 295.173 Q1874.68 295.173 1874.3 295.454 Q1873.95 295.735 1873.62 297.047 L1870.56 309.226 L1874.91 309.226 Q1877.96 309.226 1879.15 308.336 Q1880.35 307.446 1881.1 304.612 Q1881.21 304.167 1881.26 304.003 Q1881.33 303.816 1881.45 303.722 Q1881.59 303.605 1881.82 303.605 Q1882.03 303.605 1882.17 303.745 Q1882.31 303.862 1882.36 304.003 L1882.41 304.144 Q1882.41 304.378 1882.27 304.916 L1879.62 315.316 Q1879.43 316.019 1879.32 316.183 Q1879.22 316.323 1878.89 316.323 Q1878.66 316.323 1878.5 316.159 Q1878.33 315.995 1878.33 315.738 Q1878.38 315.457 1878.47 315.222 Q1878.8 313.794 1878.8 312.88 Q1878.8 312.295 1878.68 311.943 Q1878.57 311.592 1878.17 311.287 Q1877.77 310.983 1876.95 310.842 Q1876.13 310.702 1874.82 310.702 L1870.18 310.702 L1867.21 322.647 L1867 323.748 Q1867 324.24 1867.25 324.427 Q1867.53 324.615 1868.54 324.708 Q1870.04 324.826 1871.02 324.826 Q1872.24 324.826 1872.38 324.872 Q1872.66 325.013 1872.66 325.388 Q1872.66 325.809 1872.48 326.043 Q1872.29 326.254 1872.12 326.278 Q1871.96 326.301 1871.66 326.301 L1864.51 326.161 L1858.19 326.301 Q1857.46 326.301 1857.46 325.716 Q1857.46 325.271 1857.65 325.083 Q1857.84 324.872 1858.05 324.849 Q1858.26 324.826 1858.8 324.826 Q1859.97 324.826 1860.67 324.755 Q1861.37 324.685 1861.82 324.591 Q1862.29 324.474 1862.52 324.146 Q1862.78 323.818 1862.9 323.537 Q1863.01 323.233 1863.18 322.554 L1869.5 297.187 Q1869.74 296.32 1869.74 296.039 Q1869.74 295.735 1869.52 295.547 Q1869.34 295.36 1868.82 295.29 Q1868.31 295.196 1867.89 295.196 Q1867.49 295.173 1866.62 295.173 Q1866.06 295.173 1865.82 295.149 Q1865.61 295.126 1865.45 295.009 Q1865.29 294.892 1865.29 294.634 Q1865.29 293.978 1865.57 293.838 Q1865.87 293.674 1866.71 293.674 L1890.23 293.674 Q1891.17 293.674 1891.38 293.884 Q1891.61 294.072 1891.52 294.985 Z\" fill=\"#000000\" fill-rule=\"evenodd\" fill-opacity=\"1\" /><path clip-path=\"url(#clip870)\" d=\"M1887.98 337.825 Q1887.98 337.591 1888.59 337.005 Q1896.32 329.135 1896.32 314.309 Q1896.32 299.436 1888.9 291.917 Q1887.98 291.05 1887.98 290.793 Q1887.98 290.324 1888.45 290.324 Q1888.78 290.324 1889.93 291.285 Q1891.1 292.245 1892.86 294.447 Q1894.64 296.648 1895.95 299.342 Q1899.11 305.877 1899.11 314.309 Q1899.11 322.413 1896.09 328.948 Q1894.8 331.688 1893 333.984 Q1891.19 336.279 1890 337.286 Q1888.8 338.293 1888.45 338.293 Q1887.98 338.293 1887.98 337.825 Z\" fill=\"#000000\" fill-rule=\"evenodd\" fill-opacity=\"1\" /><path clip-path=\"url(#clip870)\" d=\"M1906.4 314.309 Q1906.4 306.205 1909.42 299.67 Q1910.71 296.929 1912.51 294.634 Q1914.32 292.339 1915.51 291.331 Q1916.71 290.324 1917.03 290.324 Q1917.5 290.324 1917.53 290.793 Q1917.53 291.027 1916.89 291.612 Q1909.16 299.482 1909.19 314.309 Q1909.19 329.182 1916.71 336.748 Q1917.53 337.567 1917.53 337.825 Q1917.53 338.293 1917.03 338.293 Q1916.71 338.293 1915.56 337.333 Q1914.41 336.373 1912.63 334.171 Q1910.85 331.969 1909.56 329.276 Q1906.4 322.741 1906.4 314.309 Z\" fill=\"#000000\" fill-rule=\"evenodd\" fill-opacity=\"1\" /><path clip-path=\"url(#clip870)\" d=\"M1948.71 308.266 Q1948.71 309.578 1947.89 310.327 Q1947.07 311.053 1946.13 311.053 Q1945.24 311.053 1944.77 310.538 Q1944.3 310.023 1944.3 309.367 Q1944.3 308.477 1944.96 307.704 Q1945.61 306.931 1946.6 306.767 Q1945.64 306.158 1944.21 306.158 Q1943.27 306.158 1942.45 306.65 Q1941.66 307.142 1941.16 307.774 Q1940.7 308.406 1940.27 309.32 Q1939.88 310.21 1939.71 310.749 Q1939.57 311.264 1939.45 311.826 L1937.82 318.384 Q1937.02 321.5 1937.02 322.6 Q1937.02 323.959 1937.67 324.872 Q1938.33 325.762 1939.64 325.762 Q1940.16 325.762 1940.74 325.622 Q1941.33 325.458 1942.08 325.036 Q1942.85 324.591 1943.53 323.935 Q1944.23 323.256 1944.91 322.109 Q1945.59 320.961 1946.04 319.485 Q1946.18 318.97 1946.65 318.97 Q1947.23 318.97 1947.23 319.438 Q1947.23 319.837 1946.9 320.68 Q1946.6 321.5 1945.92 322.577 Q1945.26 323.631 1944.4 324.591 Q1943.53 325.528 1942.24 326.184 Q1940.95 326.84 1939.55 326.84 Q1937.53 326.84 1936.2 325.762 Q1934.86 324.685 1934.37 323.186 Q1934.25 323.397 1934.09 323.678 Q1933.93 323.959 1933.44 324.591 Q1932.97 325.2 1932.43 325.669 Q1931.89 326.114 1931.05 326.465 Q1930.23 326.84 1929.34 326.84 Q1928.21 326.84 1927.2 326.512 Q1926.22 326.184 1925.52 325.435 Q1924.82 324.685 1924.82 323.654 Q1924.82 322.507 1925.59 321.71 Q1926.38 320.891 1927.46 320.891 Q1928.14 320.891 1928.68 321.289 Q1929.24 321.687 1929.24 322.554 Q1929.24 323.514 1928.59 324.24 Q1927.93 324.966 1926.99 325.153 Q1927.95 325.762 1929.38 325.762 Q1930.93 325.762 1932.15 324.404 Q1933.36 323.045 1933.95 320.773 Q1935.4 315.316 1935.96 312.88 Q1936.53 310.421 1936.53 309.367 Q1936.53 308.383 1936.27 307.704 Q1936.01 307.024 1935.57 306.72 Q1935.14 306.392 1934.75 306.275 Q1934.37 306.158 1933.95 306.158 Q1933.25 306.158 1932.45 306.439 Q1931.68 306.72 1930.74 307.376 Q1929.83 308.008 1928.96 309.32 Q1928.09 310.632 1927.51 312.435 Q1927.39 312.974 1926.88 312.974 Q1926.31 312.95 1926.31 312.482 Q1926.31 312.084 1926.62 311.264 Q1926.95 310.421 1927.6 309.367 Q1928.28 308.313 1929.15 307.376 Q1930.04 306.415 1931.33 305.76 Q1932.64 305.104 1934.04 305.104 Q1934.68 305.104 1935.29 305.244 Q1935.92 305.361 1936.67 305.713 Q1937.44 306.064 1938.12 306.837 Q1938.8 307.61 1939.22 308.734 Q1939.5 308.196 1939.88 307.68 Q1940.27 307.165 1940.88 306.533 Q1941.52 305.877 1942.38 305.502 Q1943.27 305.104 1944.26 305.104 Q1945.22 305.104 1946.15 305.361 Q1947.09 305.596 1947.89 306.369 Q1948.71 307.118 1948.71 308.266 Z\" fill=\"#000000\" fill-rule=\"evenodd\" fill-opacity=\"1\" /><path clip-path=\"url(#clip870)\" d=\"M1951.98 337.825 Q1951.98 337.591 1952.58 337.005 Q1960.31 329.135 1960.31 314.309 Q1960.31 299.436 1952.89 291.917 Q1951.98 291.05 1951.98 290.793 Q1951.98 290.324 1952.44 290.324 Q1952.77 290.324 1953.92 291.285 Q1955.09 292.245 1956.85 294.447 Q1958.63 296.648 1959.94 299.342 Q1963.1 305.877 1963.1 314.309 Q1963.1 322.413 1960.08 328.948 Q1958.79 331.688 1956.99 333.984 Q1955.18 336.279 1953.99 337.286 Q1952.79 338.293 1952.44 338.293 Q1951.98 338.293 1951.98 337.825 Z\" fill=\"#000000\" fill-rule=\"evenodd\" fill-opacity=\"1\" /><path clip-path=\"url(#clip870)\" d=\"M1983.7 319.017 Q1983.74 318.431 1984.66 318.431 L2014.05 318.431 Q2015.43 318.431 2015.46 318.97 Q2015.46 319.555 2014.14 319.532 L1984.98 319.532 Q1983.7 319.555 1983.7 319.017 M1983.7 309.648 Q1983.7 309.062 1984.7 309.086 L2014 309.086 Q2015.43 309.086 2015.46 309.648 Q2015.46 310.186 2014.24 310.186 L1984.66 310.186 Q1983.7 310.186 1983.7 309.648 Z\" fill=\"#000000\" fill-rule=\"evenodd\" fill-opacity=\"1\" /><path clip-path=\"url(#clip870)\" d=\"M2078.92 313.63 Q2079.2 313.911 2079.2 314.309 Q2079.2 314.707 2078.92 314.988 Q2078.64 315.269 2078.24 315.269 L2048.21 315.269 Q2047.81 315.269 2047.53 314.988 Q2047.25 314.707 2047.25 314.309 Q2047.25 313.911 2047.53 313.63 Q2047.81 313.349 2048.21 313.349 L2078.24 313.349 Q2078.64 313.349 2078.92 313.63 Z\" fill=\"#000000\" fill-rule=\"evenodd\" fill-opacity=\"1\" /><path clip-path=\"url(#clip870)\" d=\"M2121.39 308.266 Q2121.39 309.578 2120.57 310.327 Q2119.75 311.053 2118.82 311.053 Q2117.93 311.053 2117.46 310.538 Q2116.99 310.023 2116.99 309.367 Q2116.99 308.477 2117.65 307.704 Q2118.3 306.931 2119.29 306.767 Q2118.33 306.158 2116.9 306.158 Q2115.96 306.158 2115.14 306.65 Q2114.34 307.142 2113.85 307.774 Q2113.38 308.406 2112.96 309.32 Q2112.56 310.21 2112.4 310.749 Q2112.26 311.264 2112.14 311.826 L2110.5 318.384 Q2109.71 321.5 2109.71 322.6 Q2109.71 323.959 2110.36 324.872 Q2111.02 325.762 2112.33 325.762 Q2112.85 325.762 2113.43 325.622 Q2114.02 325.458 2114.77 325.036 Q2115.54 324.591 2116.22 323.935 Q2116.92 323.256 2117.6 322.109 Q2118.28 320.961 2118.72 319.485 Q2118.86 318.97 2119.33 318.97 Q2119.92 318.97 2119.92 319.438 Q2119.92 319.837 2119.59 320.68 Q2119.29 321.5 2118.61 322.577 Q2117.95 323.631 2117.08 324.591 Q2116.22 325.528 2114.93 326.184 Q2113.64 326.84 2112.24 326.84 Q2110.22 326.84 2108.89 325.762 Q2107.55 324.685 2107.06 323.186 Q2106.94 323.397 2106.78 323.678 Q2106.61 323.959 2106.12 324.591 Q2105.65 325.2 2105.12 325.669 Q2104.58 326.114 2103.73 326.465 Q2102.91 326.84 2102.02 326.84 Q2100.9 326.84 2099.89 326.512 Q2098.91 326.184 2098.21 325.435 Q2097.5 324.685 2097.5 323.654 Q2097.5 322.507 2098.28 321.71 Q2099.07 320.891 2100.15 320.891 Q2100.83 320.891 2101.37 321.289 Q2101.93 321.687 2101.93 322.554 Q2101.93 323.514 2101.27 324.24 Q2100.62 324.966 2099.68 325.153 Q2100.64 325.762 2102.07 325.762 Q2103.62 325.762 2104.83 324.404 Q2106.05 323.045 2106.64 320.773 Q2108.09 315.316 2108.65 312.88 Q2109.21 310.421 2109.21 309.367 Q2109.21 308.383 2108.96 307.704 Q2108.7 307.024 2108.25 306.72 Q2107.83 306.392 2107.43 306.275 Q2107.06 306.158 2106.64 306.158 Q2105.94 306.158 2105.14 306.439 Q2104.37 306.72 2103.43 307.376 Q2102.52 308.008 2101.65 309.32 Q2100.78 310.632 2100.2 312.435 Q2100.08 312.974 2099.56 312.974 Q2099 312.95 2099 312.482 Q2099 312.084 2099.31 311.264 Q2099.63 310.421 2100.29 309.367 Q2100.97 308.313 2101.84 307.376 Q2102.73 306.415 2104.01 305.76 Q2105.33 305.104 2106.73 305.104 Q2107.36 305.104 2107.97 305.244 Q2108.61 305.361 2109.36 305.713 Q2110.13 306.064 2110.81 306.837 Q2111.49 307.61 2111.91 308.734 Q2112.19 308.196 2112.56 307.68 Q2112.96 307.165 2113.57 306.533 Q2114.2 305.877 2115.07 305.502 Q2115.96 305.104 2116.94 305.104 Q2117.9 305.104 2118.84 305.361 Q2119.78 305.596 2120.57 306.369 Q2121.39 307.118 2121.39 308.266 Z\" fill=\"#000000\" fill-rule=\"evenodd\" fill-opacity=\"1\" /><path clip-path=\"url(#clip870)\" d=\"M2126.28 311.961 Q2126.28 311.355 2126.33 311.174 Q2126.39 310.994 2126.66 310.715 L2133.1 303.534 Q2136.63 299.566 2136.63 296.107 Q2136.63 293.86 2135.44 292.254 Q2134.28 290.647 2132.13 290.647 Q2130.66 290.647 2129.41 291.549 Q2128.17 292.45 2127.59 294.057 Q2127.69 294.024 2128.03 294.024 Q2128.87 294.024 2129.33 294.549 Q2129.8 295.074 2129.8 295.779 Q2129.8 296.68 2129.21 297.123 Q2128.64 297.549 2128.07 297.549 Q2127.84 297.549 2127.53 297.5 Q2127.23 297.451 2126.76 296.992 Q2126.28 296.517 2126.28 295.68 Q2126.28 293.336 2128.05 291.467 Q2129.84 289.598 2132.56 289.598 Q2135.64 289.598 2137.66 291.434 Q2139.69 293.254 2139.69 296.107 Q2139.69 297.107 2139.38 298.025 Q2139.08 298.927 2138.67 299.632 Q2138.28 300.337 2137.2 301.468 Q2136.12 302.599 2135.25 303.403 Q2134.38 304.206 2132.43 305.911 L2128.87 309.371 L2134.92 309.371 Q2137.87 309.371 2138.1 309.108 Q2138.43 308.633 2138.84 306.124 L2139.69 306.124 L2138.74 311.961 L2126.28 311.961 Z\" fill=\"#000000\" fill-rule=\"evenodd\" fill-opacity=\"1\" /><path clip-path=\"url(#clip870)\" d=\"M2159.08 314.894 Q2157.98 314.894 2157.98 314.309 Q2157.98 313.723 2159.13 313.723 Q2159.27 313.723 2159.51 313.747 Q2159.76 313.77 2159.81 313.77 L2173.32 313.77 L2173.32 300.209 Q2173.32 300.162 2173.3 299.951 Q2173.28 299.717 2173.28 299.576 Q2173.28 298.428 2173.84 298.428 Q2174.43 298.428 2174.43 299.576 L2174.43 313.77 L2187.96 313.77 Q2188.01 313.77 2188.24 313.747 Q2188.48 313.723 2188.62 313.723 Q2189.72 313.723 2189.72 314.309 Q2189.74 314.894 2188.57 314.894 Q2188.43 314.894 2188.22 314.871 Q2188.01 314.848 2187.96 314.848 L2174.43 314.848 L2174.43 329.088 Q2174.43 330.189 2173.84 330.189 Q2173.28 330.189 2173.28 329.042 Q2173.28 328.901 2173.3 328.667 Q2173.32 328.456 2173.32 328.409 L2173.32 314.848 L2159.81 314.848 Q2159.76 314.848 2159.48 314.871 Q2159.22 314.894 2159.08 314.894 Z\" fill=\"#000000\" fill-rule=\"evenodd\" fill-opacity=\"1\" /><path clip-path=\"url(#clip870)\" d=\"M2208.23 319.837 Q2208.23 318.408 2209.05 317.729 Q2209.87 317.049 2210.93 317.049 Q2212.03 317.049 2212.8 317.775 Q2213.6 318.478 2213.6 319.719 Q2213.6 321.055 2212.66 321.804 Q2211.75 322.554 2210.44 322.366 Q2211.58 324.287 2213.69 325.153 Q2215.82 326.02 2217.79 326.02 Q2219.85 326.02 2221.51 324.24 Q2223.2 322.46 2223.2 318.103 Q2223.2 314.403 2221.75 312.271 Q2220.32 310.14 2217.49 310.14 L2215.38 310.14 Q2214.65 310.14 2214.44 310.069 Q2214.23 309.999 2214.23 309.601 Q2214.23 309.132 2214.96 309.039 Q2215.68 309.039 2216.83 308.898 Q2219.62 308.805 2221.09 306.392 Q2222.43 304.144 2222.43 300.935 Q2222.43 298.007 2221.02 296.789 Q2219.64 295.547 2217.84 295.547 Q2216.15 295.547 2214.3 296.25 Q2212.45 296.953 2211.44 298.522 Q2214.42 298.522 2214.42 300.935 Q2214.42 301.989 2213.74 302.691 Q2213.08 303.371 2211.98 303.371 Q2210.93 303.371 2210.23 302.715 Q2209.52 302.035 2209.52 300.888 Q2209.52 298.147 2211.96 296.25 Q2214.42 294.353 2218.02 294.353 Q2221.59 294.353 2224.21 296.227 Q2226.86 298.101 2226.86 300.981 Q2226.86 303.816 2224.98 306.134 Q2223.11 308.453 2220.13 309.414 Q2223.79 310.14 2225.97 312.622 Q2228.14 315.082 2228.14 318.103 Q2228.14 321.851 2225.19 324.615 Q2222.24 327.355 2217.93 327.355 Q2213.95 327.355 2211.09 325.2 Q2208.23 323.045 2208.23 319.837 Z\" fill=\"#000000\" fill-rule=\"evenodd\" fill-opacity=\"1\" /></svg>\n"
      ]
     },
     "execution_count": 11,
     "metadata": {},
     "output_type": "execute_result"
    }
   ],
   "source": [
    "plot([Eg1_5_9_F, Eg1_5_9_G, Eg1_5_9_G ∘ Eg1_5_9_F], -5, 5,\n",
    "\ttitle = \"Example 1.5.9\",\n",
    "\tlabel = [L\"F(x) = x^2 - 2\" L\"G(x) = -x + 1\" L\"(G \\circ F)(x) = -x^2 + 3\"])"
   ]
  },
  {
   "cell_type": "markdown",
   "id": "d90e4788",
   "metadata": {},
   "source": [
    "### Example _1.5.11_"
   ]
  },
  {
   "cell_type": "code",
   "execution_count": 12,
   "id": "667d442c",
   "metadata": {},
   "outputs": [
    {
     "data": {
      "text/plain": [
       "Eg1_5_11_F (generic function with 1 method)"
      ]
     },
     "execution_count": 12,
     "metadata": {},
     "output_type": "execute_result"
    }
   ],
   "source": [
    "function Eg1_5_11_F(x)\n",
    "           if x <= 1 && x >= 0\n",
    "               return 2*x\n",
    "           else\n",
    "               return 1\n",
    "           end\n",
    "       end"
   ]
  },
  {
   "cell_type": "code",
   "execution_count": 13,
   "id": "41cd1c8b",
   "metadata": {},
   "outputs": [
    {
     "data": {
      "text/plain": [
       "Eg1_5_11_G (generic function with 1 method)"
      ]
     },
     "execution_count": 13,
     "metadata": {},
     "output_type": "execute_result"
    }
   ],
   "source": [
    "function Eg1_5_11_G(x)\n",
    "           if x <= 1 && x >= 0\n",
    "               return x^2\n",
    "           else\n",
    "               return 0\n",
    "           end\n",
    "       end"
   ]
  },
  {
   "cell_type": "code",
   "execution_count": 14,
   "id": "9ccc7c7a",
   "metadata": {},
   "outputs": [
    {
     "data": {
      "image/svg+xml": [
       "<?xml version=\"1.0\" encoding=\"utf-8\"?>\n",
       "<svg xmlns=\"http://www.w3.org/2000/svg\" xmlns:xlink=\"http://www.w3.org/1999/xlink\" width=\"600\" height=\"400\" viewBox=\"0 0 2400 1600\">\n",
       "<defs>\n",
       "  <clipPath id=\"clip910\">\n",
       "    <rect x=\"0\" y=\"0\" width=\"2400\" height=\"1600\"/>\n",
       "  </clipPath>\n",
       "</defs>\n",
       "<path clip-path=\"url(#clip910)\" d=\"\n",
       "M0 1600 L2400 1600 L2400 0 L0 0  Z\n",
       "  \" fill=\"#ffffff\" fill-rule=\"evenodd\" fill-opacity=\"1\"/>\n",
       "<defs>\n",
       "  <clipPath id=\"clip911\">\n",
       "    <rect x=\"480\" y=\"0\" width=\"1681\" height=\"1600\"/>\n",
       "  </clipPath>\n",
       "</defs>\n",
       "<defs>\n",
       "  <clipPath id=\"clip912\">\n",
       "    <rect x=\"178\" y=\"123\" width=\"2175\" height=\"1364\"/>\n",
       "  </clipPath>\n",
       "</defs>\n",
       "<path clip-path=\"url(#clip910)\" d=\"\n",
       "M156.112 1486.45 L2352.76 1486.45 L2352.76 123.472 L156.112 123.472  Z\n",
       "  \" fill=\"#ffffff\" fill-rule=\"evenodd\" fill-opacity=\"1\"/>\n",
       "<defs>\n",
       "  <clipPath id=\"clip913\">\n",
       "    <rect x=\"156\" y=\"123\" width=\"2198\" height=\"1364\"/>\n",
       "  </clipPath>\n",
       "</defs>\n",
       "<polyline clip-path=\"url(#clip913)\" style=\"stroke:#000000; stroke-linecap:butt; stroke-linejoin:round; stroke-width:2; stroke-opacity:0.1; fill:none\" points=\"\n",
       "  425.512,1486.45 425.512,123.472 \n",
       "  \"/>\n",
       "<polyline clip-path=\"url(#clip913)\" style=\"stroke:#000000; stroke-linecap:butt; stroke-linejoin:round; stroke-width:2; stroke-opacity:0.1; fill:none\" points=\"\n",
       "  839.973,1486.45 839.973,123.472 \n",
       "  \"/>\n",
       "<polyline clip-path=\"url(#clip913)\" style=\"stroke:#000000; stroke-linecap:butt; stroke-linejoin:round; stroke-width:2; stroke-opacity:0.1; fill:none\" points=\"\n",
       "  1254.43,1486.45 1254.43,123.472 \n",
       "  \"/>\n",
       "<polyline clip-path=\"url(#clip913)\" style=\"stroke:#000000; stroke-linecap:butt; stroke-linejoin:round; stroke-width:2; stroke-opacity:0.1; fill:none\" points=\"\n",
       "  1668.9,1486.45 1668.9,123.472 \n",
       "  \"/>\n",
       "<polyline clip-path=\"url(#clip913)\" style=\"stroke:#000000; stroke-linecap:butt; stroke-linejoin:round; stroke-width:2; stroke-opacity:0.1; fill:none\" points=\"\n",
       "  2083.36,1486.45 2083.36,123.472 \n",
       "  \"/>\n",
       "<polyline clip-path=\"url(#clip910)\" style=\"stroke:#000000; stroke-linecap:butt; stroke-linejoin:round; stroke-width:4; stroke-opacity:1; fill:none\" points=\"\n",
       "  156.112,1486.45 2352.76,1486.45 \n",
       "  \"/>\n",
       "<polyline clip-path=\"url(#clip910)\" style=\"stroke:#000000; stroke-linecap:butt; stroke-linejoin:round; stroke-width:4; stroke-opacity:1; fill:none\" points=\"\n",
       "  425.512,1486.45 425.512,1470.09 \n",
       "  \"/>\n",
       "<polyline clip-path=\"url(#clip910)\" style=\"stroke:#000000; stroke-linecap:butt; stroke-linejoin:round; stroke-width:4; stroke-opacity:1; fill:none\" points=\"\n",
       "  839.973,1486.45 839.973,1470.09 \n",
       "  \"/>\n",
       "<polyline clip-path=\"url(#clip910)\" style=\"stroke:#000000; stroke-linecap:butt; stroke-linejoin:round; stroke-width:4; stroke-opacity:1; fill:none\" points=\"\n",
       "  1254.43,1486.45 1254.43,1470.09 \n",
       "  \"/>\n",
       "<polyline clip-path=\"url(#clip910)\" style=\"stroke:#000000; stroke-linecap:butt; stroke-linejoin:round; stroke-width:4; stroke-opacity:1; fill:none\" points=\"\n",
       "  1668.9,1486.45 1668.9,1470.09 \n",
       "  \"/>\n",
       "<polyline clip-path=\"url(#clip910)\" style=\"stroke:#000000; stroke-linecap:butt; stroke-linejoin:round; stroke-width:4; stroke-opacity:1; fill:none\" points=\"\n",
       "  2083.36,1486.45 2083.36,1470.09 \n",
       "  \"/>\n",
       "<path clip-path=\"url(#clip910)\" d=\"M394.412 1530.29 L424.088 1530.29 L424.088 1534.23 L394.412 1534.23 L394.412 1530.29 Z\" fill=\"#000000\" fill-rule=\"evenodd\" fill-opacity=\"1\" /><path clip-path=\"url(#clip910)\" d=\"M447.028 1516.63 L435.222 1535.08 L447.028 1535.08 L447.028 1516.63 M445.801 1512.56 L451.681 1512.56 L451.681 1535.08 L456.611 1535.08 L456.611 1538.97 L451.681 1538.97 L451.681 1547.12 L447.028 1547.12 L447.028 1538.97 L431.426 1538.97 L431.426 1534.46 L445.801 1512.56 Z\" fill=\"#000000\" fill-rule=\"evenodd\" fill-opacity=\"1\" /><path clip-path=\"url(#clip910)\" d=\"M809.915 1530.29 L839.591 1530.29 L839.591 1534.23 L809.915 1534.23 L809.915 1530.29 Z\" fill=\"#000000\" fill-rule=\"evenodd\" fill-opacity=\"1\" /><path clip-path=\"url(#clip910)\" d=\"M853.711 1543.18 L870.031 1543.18 L870.031 1547.12 L848.086 1547.12 L848.086 1543.18 Q850.748 1540.43 855.332 1535.8 Q859.938 1531.15 861.119 1529.81 Q863.364 1527.28 864.244 1525.55 Q865.146 1523.79 865.146 1522.1 Q865.146 1519.34 863.202 1517.61 Q861.281 1515.87 858.179 1515.87 Q855.98 1515.87 853.526 1516.63 Q851.096 1517.4 848.318 1518.95 L848.318 1514.23 Q851.142 1513.09 853.596 1512.51 Q856.049 1511.93 858.086 1511.93 Q863.457 1511.93 866.651 1514.62 Q869.845 1517.31 869.845 1521.8 Q869.845 1523.93 869.035 1525.85 Q868.248 1527.74 866.142 1530.34 Q865.563 1531.01 862.461 1534.23 Q859.359 1537.42 853.711 1543.18 Z\" fill=\"#000000\" fill-rule=\"evenodd\" fill-opacity=\"1\" /><path clip-path=\"url(#clip910)\" d=\"M1254.43 1515.64 Q1250.82 1515.64 1248.99 1519.2 Q1247.19 1522.75 1247.19 1529.87 Q1247.19 1536.98 1248.99 1540.55 Q1250.82 1544.09 1254.43 1544.09 Q1258.07 1544.09 1259.87 1540.55 Q1261.7 1536.98 1261.7 1529.87 Q1261.7 1522.75 1259.87 1519.2 Q1258.07 1515.64 1254.43 1515.64 M1254.43 1511.93 Q1260.24 1511.93 1263.3 1516.54 Q1266.38 1521.12 1266.38 1529.87 Q1266.38 1538.6 1263.3 1543.21 Q1260.24 1547.79 1254.43 1547.79 Q1248.62 1547.79 1245.55 1543.21 Q1242.49 1538.6 1242.49 1529.87 Q1242.49 1521.12 1245.55 1516.54 Q1248.62 1511.93 1254.43 1511.93 Z\" fill=\"#000000\" fill-rule=\"evenodd\" fill-opacity=\"1\" /><path clip-path=\"url(#clip910)\" d=\"M1663.55 1543.18 L1679.87 1543.18 L1679.87 1547.12 L1657.92 1547.12 L1657.92 1543.18 Q1660.58 1540.43 1665.17 1535.8 Q1669.77 1531.15 1670.96 1529.81 Q1673.2 1527.28 1674.08 1525.55 Q1674.98 1523.79 1674.98 1522.1 Q1674.98 1519.34 1673.04 1517.61 Q1671.12 1515.87 1668.02 1515.87 Q1665.82 1515.87 1663.36 1516.63 Q1660.93 1517.4 1658.15 1518.95 L1658.15 1514.23 Q1660.98 1513.09 1663.43 1512.51 Q1665.89 1511.93 1667.92 1511.93 Q1673.29 1511.93 1676.49 1514.62 Q1679.68 1517.31 1679.68 1521.8 Q1679.68 1523.93 1678.87 1525.85 Q1678.08 1527.74 1675.98 1530.34 Q1675.4 1531.01 1672.3 1534.23 Q1669.2 1537.42 1663.55 1543.18 Z\" fill=\"#000000\" fill-rule=\"evenodd\" fill-opacity=\"1\" /><path clip-path=\"url(#clip910)\" d=\"M2086.37 1516.63 L2074.56 1535.08 L2086.37 1535.08 L2086.37 1516.63 M2085.14 1512.56 L2091.02 1512.56 L2091.02 1535.08 L2095.95 1535.08 L2095.95 1538.97 L2091.02 1538.97 L2091.02 1547.12 L2086.37 1547.12 L2086.37 1538.97 L2070.76 1538.97 L2070.76 1534.46 L2085.14 1512.56 Z\" fill=\"#000000\" fill-rule=\"evenodd\" fill-opacity=\"1\" /><polyline clip-path=\"url(#clip913)\" style=\"stroke:#000000; stroke-linecap:butt; stroke-linejoin:round; stroke-width:2; stroke-opacity:0.1; fill:none\" points=\"\n",
       "  156.112,1447.87 2352.76,1447.87 \n",
       "  \"/>\n",
       "<polyline clip-path=\"url(#clip913)\" style=\"stroke:#000000; stroke-linecap:butt; stroke-linejoin:round; stroke-width:2; stroke-opacity:0.1; fill:none\" points=\"\n",
       "  156.112,1125.97 2352.76,1125.97 \n",
       "  \"/>\n",
       "<polyline clip-path=\"url(#clip913)\" style=\"stroke:#000000; stroke-linecap:butt; stroke-linejoin:round; stroke-width:2; stroke-opacity:0.1; fill:none\" points=\"\n",
       "  156.112,804.065 2352.76,804.065 \n",
       "  \"/>\n",
       "<polyline clip-path=\"url(#clip913)\" style=\"stroke:#000000; stroke-linecap:butt; stroke-linejoin:round; stroke-width:2; stroke-opacity:0.1; fill:none\" points=\"\n",
       "  156.112,482.161 2352.76,482.161 \n",
       "  \"/>\n",
       "<polyline clip-path=\"url(#clip913)\" style=\"stroke:#000000; stroke-linecap:butt; stroke-linejoin:round; stroke-width:2; stroke-opacity:0.1; fill:none\" points=\"\n",
       "  156.112,160.257 2352.76,160.257 \n",
       "  \"/>\n",
       "<polyline clip-path=\"url(#clip910)\" style=\"stroke:#000000; stroke-linecap:butt; stroke-linejoin:round; stroke-width:4; stroke-opacity:1; fill:none\" points=\"\n",
       "  156.112,1486.45 156.112,123.472 \n",
       "  \"/>\n",
       "<polyline clip-path=\"url(#clip910)\" style=\"stroke:#000000; stroke-linecap:butt; stroke-linejoin:round; stroke-width:4; stroke-opacity:1; fill:none\" points=\"\n",
       "  156.112,1447.87 182.472,1447.87 \n",
       "  \"/>\n",
       "<polyline clip-path=\"url(#clip910)\" style=\"stroke:#000000; stroke-linecap:butt; stroke-linejoin:round; stroke-width:4; stroke-opacity:1; fill:none\" points=\"\n",
       "  156.112,1125.97 182.472,1125.97 \n",
       "  \"/>\n",
       "<polyline clip-path=\"url(#clip910)\" style=\"stroke:#000000; stroke-linecap:butt; stroke-linejoin:round; stroke-width:4; stroke-opacity:1; fill:none\" points=\"\n",
       "  156.112,804.065 182.472,804.065 \n",
       "  \"/>\n",
       "<polyline clip-path=\"url(#clip910)\" style=\"stroke:#000000; stroke-linecap:butt; stroke-linejoin:round; stroke-width:4; stroke-opacity:1; fill:none\" points=\"\n",
       "  156.112,482.161 182.472,482.161 \n",
       "  \"/>\n",
       "<polyline clip-path=\"url(#clip910)\" style=\"stroke:#000000; stroke-linecap:butt; stroke-linejoin:round; stroke-width:4; stroke-opacity:1; fill:none\" points=\"\n",
       "  156.112,160.257 182.472,160.257 \n",
       "  \"/>\n",
       "<path clip-path=\"url(#clip910)\" d=\"M62.9365 1433.67 Q59.3254 1433.67 57.4967 1437.24 Q55.6912 1440.78 55.6912 1447.91 Q55.6912 1455.01 57.4967 1458.58 Q59.3254 1462.12 62.9365 1462.12 Q66.5707 1462.12 68.3763 1458.58 Q70.205 1455.01 70.205 1447.91 Q70.205 1440.78 68.3763 1437.24 Q66.5707 1433.67 62.9365 1433.67 M62.9365 1429.97 Q68.7467 1429.97 71.8022 1434.57 Q74.8809 1439.16 74.8809 1447.91 Q74.8809 1456.63 71.8022 1461.24 Q68.7467 1465.82 62.9365 1465.82 Q57.1264 1465.82 54.0477 1461.24 Q50.9921 1456.63 50.9921 1447.91 Q50.9921 1439.16 54.0477 1434.57 Q57.1264 1429.97 62.9365 1429.97 Z\" fill=\"#000000\" fill-rule=\"evenodd\" fill-opacity=\"1\" /><path clip-path=\"url(#clip910)\" d=\"M83.0984 1459.27 L87.9827 1459.27 L87.9827 1465.15 L83.0984 1465.15 L83.0984 1459.27 Z\" fill=\"#000000\" fill-rule=\"evenodd\" fill-opacity=\"1\" /><path clip-path=\"url(#clip910)\" d=\"M108.168 1433.67 Q104.557 1433.67 102.728 1437.24 Q100.922 1440.78 100.922 1447.91 Q100.922 1455.01 102.728 1458.58 Q104.557 1462.12 108.168 1462.12 Q111.802 1462.12 113.608 1458.58 Q115.436 1455.01 115.436 1447.91 Q115.436 1440.78 113.608 1437.24 Q111.802 1433.67 108.168 1433.67 M108.168 1429.97 Q113.978 1429.97 117.033 1434.57 Q120.112 1439.16 120.112 1447.91 Q120.112 1456.63 117.033 1461.24 Q113.978 1465.82 108.168 1465.82 Q102.358 1465.82 99.2789 1461.24 Q96.2234 1456.63 96.2234 1447.91 Q96.2234 1439.16 99.2789 1434.57 Q102.358 1429.97 108.168 1429.97 Z\" fill=\"#000000\" fill-rule=\"evenodd\" fill-opacity=\"1\" /><path clip-path=\"url(#clip910)\" d=\"M63.9319 1111.77 Q60.3208 1111.77 58.4921 1115.33 Q56.6865 1118.87 56.6865 1126 Q56.6865 1133.11 58.4921 1136.68 Q60.3208 1140.22 63.9319 1140.22 Q67.5661 1140.22 69.3717 1136.68 Q71.2004 1133.11 71.2004 1126 Q71.2004 1118.87 69.3717 1115.33 Q67.5661 1111.77 63.9319 1111.77 M63.9319 1108.06 Q69.742 1108.06 72.7976 1112.67 Q75.8763 1117.25 75.8763 1126 Q75.8763 1134.73 72.7976 1139.34 Q69.742 1143.92 63.9319 1143.92 Q58.1217 1143.92 55.043 1139.34 Q51.9875 1134.73 51.9875 1126 Q51.9875 1117.25 55.043 1112.67 Q58.1217 1108.06 63.9319 1108.06 Z\" fill=\"#000000\" fill-rule=\"evenodd\" fill-opacity=\"1\" /><path clip-path=\"url(#clip910)\" d=\"M84.0938 1137.37 L88.978 1137.37 L88.978 1143.25 L84.0938 1143.25 L84.0938 1137.37 Z\" fill=\"#000000\" fill-rule=\"evenodd\" fill-opacity=\"1\" /><path clip-path=\"url(#clip910)\" d=\"M99.2095 1108.69 L117.566 1108.69 L117.566 1112.62 L103.492 1112.62 L103.492 1121.1 Q104.51 1120.75 105.529 1120.59 Q106.547 1120.4 107.566 1120.4 Q113.353 1120.4 116.733 1123.57 Q120.112 1126.74 120.112 1132.16 Q120.112 1137.74 116.64 1140.84 Q113.168 1143.92 106.848 1143.92 Q104.672 1143.92 102.404 1143.55 Q100.159 1143.18 97.7511 1142.44 L97.7511 1137.74 Q99.8345 1138.87 102.057 1139.43 Q104.279 1139.99 106.756 1139.99 Q110.76 1139.99 113.098 1137.88 Q115.436 1135.77 115.436 1132.16 Q115.436 1128.55 113.098 1126.44 Q110.76 1124.34 106.756 1124.34 Q104.881 1124.34 103.006 1124.75 Q101.154 1125.17 99.2095 1126.05 L99.2095 1108.69 Z\" fill=\"#000000\" fill-rule=\"evenodd\" fill-opacity=\"1\" /><path clip-path=\"url(#clip910)\" d=\"M53.7467 817.41 L61.3856 817.41 L61.3856 791.044 L53.0754 792.711 L53.0754 788.452 L61.3393 786.785 L66.0152 786.785 L66.0152 817.41 L73.654 817.41 L73.654 821.345 L53.7467 821.345 L53.7467 817.41 Z\" fill=\"#000000\" fill-rule=\"evenodd\" fill-opacity=\"1\" /><path clip-path=\"url(#clip910)\" d=\"M83.0984 815.465 L87.9827 815.465 L87.9827 821.345 L83.0984 821.345 L83.0984 815.465 Z\" fill=\"#000000\" fill-rule=\"evenodd\" fill-opacity=\"1\" /><path clip-path=\"url(#clip910)\" d=\"M108.168 789.864 Q104.557 789.864 102.728 793.429 Q100.922 796.97 100.922 804.1 Q100.922 811.206 102.728 814.771 Q104.557 818.313 108.168 818.313 Q111.802 818.313 113.608 814.771 Q115.436 811.206 115.436 804.1 Q115.436 796.97 113.608 793.429 Q111.802 789.864 108.168 789.864 M108.168 786.16 Q113.978 786.16 117.033 790.766 Q120.112 795.35 120.112 804.1 Q120.112 812.827 117.033 817.433 Q113.978 822.016 108.168 822.016 Q102.358 822.016 99.2789 817.433 Q96.2234 812.827 96.2234 804.1 Q96.2234 795.35 99.2789 790.766 Q102.358 786.16 108.168 786.16 Z\" fill=\"#000000\" fill-rule=\"evenodd\" fill-opacity=\"1\" /><path clip-path=\"url(#clip910)\" d=\"M54.7421 495.506 L62.381 495.506 L62.381 469.14 L54.0708 470.807 L54.0708 466.548 L62.3347 464.881 L67.0106 464.881 L67.0106 495.506 L74.6494 495.506 L74.6494 499.441 L54.7421 499.441 L54.7421 495.506 Z\" fill=\"#000000\" fill-rule=\"evenodd\" fill-opacity=\"1\" /><path clip-path=\"url(#clip910)\" d=\"M84.0938 493.561 L88.978 493.561 L88.978 499.441 L84.0938 499.441 L84.0938 493.561 Z\" fill=\"#000000\" fill-rule=\"evenodd\" fill-opacity=\"1\" /><path clip-path=\"url(#clip910)\" d=\"M99.2095 464.881 L117.566 464.881 L117.566 468.816 L103.492 468.816 L103.492 477.288 Q104.51 476.941 105.529 476.779 Q106.547 476.594 107.566 476.594 Q113.353 476.594 116.733 479.765 Q120.112 482.936 120.112 488.353 Q120.112 493.932 116.64 497.034 Q113.168 500.112 106.848 500.112 Q104.672 500.112 102.404 499.742 Q100.159 499.372 97.7511 498.631 L97.7511 493.932 Q99.8345 495.066 102.057 495.622 Q104.279 496.177 106.756 496.177 Q110.76 496.177 113.098 494.071 Q115.436 491.964 115.436 488.353 Q115.436 484.742 113.098 482.636 Q110.76 480.529 106.756 480.529 Q104.881 480.529 103.006 480.946 Q101.154 481.362 99.2095 482.242 L99.2095 464.881 Z\" fill=\"#000000\" fill-rule=\"evenodd\" fill-opacity=\"1\" /><path clip-path=\"url(#clip910)\" d=\"M56.9643 173.602 L73.2837 173.602 L73.2837 177.537 L51.3393 177.537 L51.3393 173.602 Q54.0014 170.847 58.5847 166.218 Q63.1911 161.565 64.3717 160.222 Q66.617 157.699 67.4967 155.963 Q68.3994 154.204 68.3994 152.514 Q68.3994 149.759 66.455 148.023 Q64.5337 146.287 61.4319 146.287 Q59.2328 146.287 56.7791 147.051 Q54.3486 147.815 51.5708 149.366 L51.5708 144.644 Q54.3949 143.509 56.8486 142.931 Q59.3023 142.352 61.3393 142.352 Q66.7096 142.352 69.9041 145.037 Q73.0985 147.722 73.0985 152.213 Q73.0985 154.343 72.2883 156.264 Q71.5013 158.162 69.3948 160.755 Q68.8161 161.426 65.7143 164.644 Q62.6124 167.838 56.9643 173.602 Z\" fill=\"#000000\" fill-rule=\"evenodd\" fill-opacity=\"1\" /><path clip-path=\"url(#clip910)\" d=\"M83.0984 171.657 L87.9827 171.657 L87.9827 177.537 L83.0984 177.537 L83.0984 171.657 Z\" fill=\"#000000\" fill-rule=\"evenodd\" fill-opacity=\"1\" /><path clip-path=\"url(#clip910)\" d=\"M108.168 146.056 Q104.557 146.056 102.728 149.62 Q100.922 153.162 100.922 160.292 Q100.922 167.398 102.728 170.963 Q104.557 174.505 108.168 174.505 Q111.802 174.505 113.608 170.963 Q115.436 167.398 115.436 160.292 Q115.436 153.162 113.608 149.62 Q111.802 146.056 108.168 146.056 M108.168 142.352 Q113.978 142.352 117.033 146.958 Q120.112 151.542 120.112 160.292 Q120.112 169.018 117.033 173.625 Q113.978 178.208 108.168 178.208 Q102.358 178.208 99.2789 173.625 Q96.2234 169.018 96.2234 160.292 Q96.2234 151.542 99.2789 146.958 Q102.358 142.352 108.168 142.352 Z\" fill=\"#000000\" fill-rule=\"evenodd\" fill-opacity=\"1\" /><path clip-path=\"url(#clip910)\" d=\"M937.248 12.096 L975.489 12.096 L975.489 18.9825 L945.431 18.9825 L945.431 36.8875 L974.233 36.8875 L974.233 43.7741 L945.431 43.7741 L945.431 65.6895 L976.218 65.6895 L976.218 72.576 L937.248 72.576 L937.248 12.096 Z\" fill=\"#000000\" fill-rule=\"evenodd\" fill-opacity=\"1\" /><path clip-path=\"url(#clip910)\" d=\"M1027.06 27.2059 L1010.65 49.2833 L1027.91 72.576 L1019.12 72.576 L1005.91 54.752 L992.705 72.576 L983.915 72.576 L1001.54 48.8377 L985.413 27.2059 L994.204 27.2059 L1006.24 43.369 L1018.27 27.2059 L1027.06 27.2059 Z\" fill=\"#000000\" fill-rule=\"evenodd\" fill-opacity=\"1\" /><path clip-path=\"url(#clip910)\" d=\"M1059.06 49.7694 Q1050.03 49.7694 1046.54 51.8354 Q1043.06 53.9013 1043.06 58.8839 Q1043.06 62.8538 1045.65 65.2034 Q1048.28 67.5124 1052.78 67.5124 Q1058.98 67.5124 1062.7 63.1374 Q1066.47 58.7219 1066.47 51.4303 L1066.47 49.7694 L1059.06 49.7694 M1073.93 46.6907 L1073.93 72.576 L1066.47 72.576 L1066.47 65.6895 Q1063.92 69.8214 1060.11 71.8063 Q1056.3 73.7508 1050.8 73.7508 Q1043.83 73.7508 1039.7 69.8619 Q1035.6 65.9325 1035.6 59.3701 Q1035.6 51.7138 1040.71 47.825 Q1045.85 43.9361 1056.02 43.9361 L1066.47 43.9361 L1066.47 43.2069 Q1066.47 38.0623 1063.07 35.2672 Q1059.71 32.4315 1053.59 32.4315 Q1049.7 32.4315 1046.01 33.3632 Q1042.33 34.295 1038.93 36.1584 L1038.93 29.2718 Q1043.02 27.692 1046.87 26.9223 Q1050.71 26.1121 1054.36 26.1121 Q1064.2 26.1121 1069.06 31.2163 Q1073.93 36.3204 1073.93 46.6907 Z\" fill=\"#000000\" fill-rule=\"evenodd\" fill-opacity=\"1\" /><path clip-path=\"url(#clip910)\" d=\"M1124.6 35.9153 Q1127.4 30.8922 1131.29 28.5022 Q1135.18 26.1121 1140.44 26.1121 Q1147.53 26.1121 1151.38 31.0947 Q1155.23 36.0368 1155.23 45.1919 L1155.23 72.576 L1147.73 72.576 L1147.73 45.4349 Q1147.73 38.913 1145.42 35.7533 Q1143.12 32.5936 1138.38 32.5936 Q1132.58 32.5936 1129.22 36.4419 Q1125.86 40.2903 1125.86 46.9338 L1125.86 72.576 L1118.36 72.576 L1118.36 45.4349 Q1118.36 38.8725 1116.06 35.7533 Q1113.75 32.5936 1108.93 32.5936 Q1103.21 32.5936 1099.85 36.4824 Q1096.49 40.3308 1096.49 46.9338 L1096.49 72.576 L1089 72.576 L1089 27.2059 L1096.49 27.2059 L1096.49 34.2544 Q1099.04 30.082 1102.61 28.0971 Q1106.17 26.1121 1111.07 26.1121 Q1116.01 26.1121 1119.46 28.6237 Q1122.94 31.1352 1124.6 35.9153 Z\" fill=\"#000000\" fill-rule=\"evenodd\" fill-opacity=\"1\" /><path clip-path=\"url(#clip910)\" d=\"M1177.3 65.7705 L1177.3 89.8329 L1169.81 89.8329 L1169.81 27.2059 L1177.3 27.2059 L1177.3 34.0924 Q1179.65 30.0415 1183.22 28.0971 Q1186.82 26.1121 1191.81 26.1121 Q1200.07 26.1121 1205.22 32.6746 Q1210.4 39.2371 1210.4 49.9314 Q1210.4 60.6258 1205.22 67.1883 Q1200.07 73.7508 1191.81 73.7508 Q1186.82 73.7508 1183.22 71.8063 Q1179.65 69.8214 1177.3 65.7705 M1202.66 49.9314 Q1202.66 41.7081 1199.26 37.0496 Q1195.9 32.3505 1189.98 32.3505 Q1184.07 32.3505 1180.67 37.0496 Q1177.3 41.7081 1177.3 49.9314 Q1177.3 58.1548 1180.67 62.8538 Q1184.07 67.5124 1189.98 67.5124 Q1195.9 67.5124 1199.26 62.8538 Q1202.66 58.1548 1202.66 49.9314 Z\" fill=\"#000000\" fill-rule=\"evenodd\" fill-opacity=\"1\" /><path clip-path=\"url(#clip910)\" d=\"M1222.76 9.54393 L1230.21 9.54393 L1230.21 72.576 L1222.76 72.576 L1222.76 9.54393 Z\" fill=\"#000000\" fill-rule=\"evenodd\" fill-opacity=\"1\" /><path clip-path=\"url(#clip910)\" d=\"M1284.61 48.0275 L1284.61 51.6733 L1250.34 51.6733 Q1250.83 59.3701 1254.96 63.421 Q1259.13 67.4314 1266.55 67.4314 Q1270.84 67.4314 1274.85 66.3781 Q1278.9 65.3249 1282.87 63.2184 L1282.87 70.267 Q1278.86 71.9684 1274.65 72.8596 Q1270.44 73.7508 1266.1 73.7508 Q1255.24 73.7508 1248.88 67.4314 Q1242.56 61.1119 1242.56 50.3365 Q1242.56 39.1965 1248.56 32.6746 Q1254.6 26.1121 1264.8 26.1121 Q1273.96 26.1121 1279.27 32.0264 Q1284.61 37.9003 1284.61 48.0275 M1277.16 45.84 Q1277.08 39.7232 1273.72 36.0774 Q1270.39 32.4315 1264.89 32.4315 Q1258.65 32.4315 1254.88 35.9558 Q1251.15 39.4801 1250.59 45.8805 L1277.16 45.84 Z\" fill=\"#000000\" fill-rule=\"evenodd\" fill-opacity=\"1\" /><path clip-path=\"url(#clip910)\" d=\"M1325.69 65.6895 L1339.06 65.6895 L1339.06 19.5497 L1324.51 22.4663 L1324.51 15.0127 L1338.98 12.096 L1347.16 12.096 L1347.16 65.6895 L1360.53 65.6895 L1360.53 72.576 L1325.69 72.576 L1325.69 65.6895 Z\" fill=\"#000000\" fill-rule=\"evenodd\" fill-opacity=\"1\" /><path clip-path=\"url(#clip910)\" d=\"M1377.05 62.2867 L1385.6 62.2867 L1385.6 72.576 L1377.05 72.576 L1377.05 62.2867 Z\" fill=\"#000000\" fill-rule=\"evenodd\" fill-opacity=\"1\" /><path clip-path=\"url(#clip910)\" d=\"M1403.51 12.096 L1435.63 12.096 L1435.63 18.9825 L1411 18.9825 L1411 33.8088 Q1412.78 33.2012 1414.57 32.9176 Q1416.35 32.5936 1418.13 32.5936 Q1428.26 32.5936 1434.17 38.1433 Q1440.09 43.6931 1440.09 53.1722 Q1440.09 62.9348 1434.01 68.3631 Q1427.93 73.7508 1416.88 73.7508 Q1413.07 73.7508 1409.1 73.1026 Q1405.17 72.4545 1400.96 71.1582 L1400.96 62.9348 Q1404.6 64.9198 1408.49 65.892 Q1412.38 66.8642 1416.71 66.8642 Q1423.72 66.8642 1427.81 63.1779 Q1431.9 59.4916 1431.9 53.1722 Q1431.9 46.8528 1427.81 43.1664 Q1423.72 39.4801 1416.71 39.4801 Q1413.43 39.4801 1410.15 40.2093 Q1406.91 40.9384 1403.51 42.4778 L1403.51 12.096 Z\" fill=\"#000000\" fill-rule=\"evenodd\" fill-opacity=\"1\" /><path clip-path=\"url(#clip910)\" d=\"M1456.21 62.2867 L1464.76 62.2867 L1464.76 72.576 L1456.21 72.576 L1456.21 62.2867 Z\" fill=\"#000000\" fill-rule=\"evenodd\" fill-opacity=\"1\" /><path clip-path=\"url(#clip910)\" d=\"M1484 65.6895 L1497.37 65.6895 L1497.37 19.5497 L1482.82 22.4663 L1482.82 15.0127 L1497.29 12.096 L1505.47 12.096 L1505.47 65.6895 L1518.84 65.6895 L1518.84 72.576 L1484 72.576 L1484 65.6895 Z\" fill=\"#000000\" fill-rule=\"evenodd\" fill-opacity=\"1\" /><path clip-path=\"url(#clip910)\" d=\"M1536.78 65.6895 L1550.15 65.6895 L1550.15 19.5497 L1535.61 22.4663 L1535.61 15.0127 L1550.07 12.096 L1558.25 12.096 L1558.25 65.6895 L1571.62 65.6895 L1571.62 72.576 L1536.78 72.576 L1536.78 65.6895 Z\" fill=\"#000000\" fill-rule=\"evenodd\" fill-opacity=\"1\" /><polyline clip-path=\"url(#clip913)\" style=\"stroke:#009af9; stroke-linecap:butt; stroke-linejoin:round; stroke-width:4; stroke-opacity:1; fill:none\" points=\"\n",
       "  218.281,804.065 238.519,804.065 425.646,804.065 538.102,804.065 633.182,804.065 736.465,804.065 831.684,804.065 933.767,804.065 1052.04,804.065 1104.6,804.065 \n",
       "  1157.15,804.065 1180.19,804.065 1203.24,804.065 1214.76,804.065 1226.28,804.065 1232.04,804.065 1237.8,804.065 1240.68,804.065 1243.56,804.065 1246.44,804.065 \n",
       "  1249.32,804.065 1250.89,804.065 1252.46,804.065 1253.25,804.065 1254.03,804.065 1254.82,1445.5 1255.6,1440.62 1256.39,1435.74 1257.17,1430.87 1257.96,1425.99 \n",
       "  1258.74,1421.11 1260.31,1411.35 1261.88,1401.6 1268.16,1362.57 1274.44,1323.55 1287,1245.5 1299.57,1167.45 1324.69,1011.35 1349.81,855.255 1375.08,698.229 \n",
       "  1400.35,541.203 1412.99,462.69 1425.63,384.177 1431.94,344.921 1438.26,305.664 1444.58,266.408 1450.9,227.151 1454.39,205.45 1457.88,183.748 1458.76,178.323 \n",
       "  1459.63,172.898 1460.5,167.472 1461.38,162.047 1462.25,804.065 1463.12,804.065 1464,804.065 1464.87,804.065 1466.62,804.065 1468.36,804.065 1470.11,804.065 \n",
       "  1471.85,804.065 1475.35,804.065 1478.84,804.065 1492.81,804.065 1506.78,804.065 1534.72,804.065 1562.66,804.065 1615.83,804.065 1669.01,804.065 1779.58,804.065 \n",
       "  1872.65,804.065 1986.29,804.065 2093.11,804.065 2264.25,804.065 2290.59,804.065 \n",
       "  \"/>\n",
       "<polyline clip-path=\"url(#clip913)\" style=\"stroke:#e26f46; stroke-linecap:butt; stroke-linejoin:round; stroke-width:4; stroke-opacity:1; fill:none\" points=\"\n",
       "  218.281,1447.87 238.519,1447.87 425.646,1447.87 538.102,1447.87 633.182,1447.87 736.465,1447.87 831.684,1447.87 933.767,1447.87 1052.04,1447.87 1104.6,1447.87 \n",
       "  1157.15,1447.87 1180.19,1447.87 1203.24,1447.87 1226.28,1447.87 1249.32,1447.87 1261.88,1447.04 1274.44,1441.87 1287,1431.97 1299.57,1417.34 1312.13,1397.97 \n",
       "  1324.69,1373.88 1337.25,1345.05 1349.81,1311.5 1362.45,1272.97 1375.08,1229.65 1387.72,1181.55 1400.35,1128.66 1412.99,1070.98 1425.63,1008.52 1431.94,975.487 \n",
       "  1438.26,941.262 1444.58,905.84 1450.9,869.222 1454.39,848.465 1457.88,827.342 1458.76,822.004 1459.63,816.644 1460.5,811.26 1461.38,805.854 1462.25,1447.87 \n",
       "  1463.12,1447.87 1464,1447.87 1464.87,1447.87 1466.62,1447.87 1468.36,1447.87 1470.11,1447.87 1471.85,1447.87 1475.35,1447.87 1478.84,1447.87 1492.81,1447.87 \n",
       "  1506.78,1447.87 1534.72,1447.87 1562.66,1447.87 1615.83,1447.87 1669.01,1447.87 1779.58,1447.87 1872.65,1447.87 1986.29,1447.87 2093.11,1447.87 2264.25,1447.87 \n",
       "  2290.59,1447.87 \n",
       "  \"/>\n",
       "<polyline clip-path=\"url(#clip913)\" style=\"stroke:#3da44d; stroke-linecap:butt; stroke-linejoin:round; stroke-width:4; stroke-opacity:1; fill:none\" points=\"\n",
       "  218.281,804.065 238.519,804.065 425.646,804.065 538.102,804.065 633.182,804.065 736.465,804.065 831.684,804.065 933.767,804.065 1052.04,804.065 1104.6,804.065 \n",
       "  1157.15,804.065 1180.19,804.065 1203.24,804.065 1214.76,804.065 1226.28,804.065 1232.04,804.065 1237.8,804.065 1240.68,804.065 1243.56,804.065 1246.44,804.065 \n",
       "  1249.32,804.065 1250.89,804.065 1252.46,804.065 1253.25,804.065 1254.03,804.065 1254.82,1447.86 1255.6,1447.79 1256.39,1447.64 1257.17,1447.42 1257.96,1447.13 \n",
       "  1258.74,1446.76 1260.31,1445.8 1261.88,1444.55 1268.16,1436.57 1274.44,1423.87 1280.72,1406.43 1287,1384.26 1293.28,1357.36 1299.57,1325.73 1305.85,1289.37 \n",
       "  1312.13,1248.28 1318.41,1202.45 1324.69,1151.9 1330.97,1096.61 1337.25,1036.6 1343.53,971.852 1349.81,902.374 1351.39,884.157 1352.97,865.641 1354.55,846.825 \n",
       "  1356.13,827.71 1356.92,818.041 1357.71,808.296 1358.5,1447.87 1359.29,1447.87 1360.08,1447.87 1360.87,1447.87 1361.66,1447.87 1362.45,1447.87 1365.61,1447.87 \n",
       "  1368.76,1447.87 1371.92,1447.87 1375.08,1447.87 1387.72,1447.87 1400.35,1447.87 1412.99,1447.87 1425.63,1447.87 1431.94,1447.87 1438.26,1447.87 1444.58,1447.87 \n",
       "  1450.9,1447.87 1454.39,1447.87 1457.88,1447.87 1458.76,1447.87 1459.63,1447.87 1460.5,1447.87 1461.38,1447.87 1462.25,804.065 1463.12,804.065 1464,804.065 \n",
       "  1464.87,804.065 1466.62,804.065 1468.36,804.065 1470.11,804.065 1471.85,804.065 1475.35,804.065 1478.84,804.065 1492.81,804.065 1506.78,804.065 1534.72,804.065 \n",
       "  1562.66,804.065 1615.83,804.065 1669.01,804.065 1779.58,804.065 1872.65,804.065 1986.29,804.065 2093.11,804.065 2264.25,804.065 2290.59,804.065 \n",
       "  \"/>\n",
       "<path clip-path=\"url(#clip910)\" d=\"\n",
       "M1820.64 358.905 L2279.53 358.905 L2279.53 168.905 L1820.64 168.905  Z\n",
       "  \" fill=\"#ffffff\" fill-rule=\"evenodd\" fill-opacity=\"1\"/>\n",
       "<polyline clip-path=\"url(#clip910)\" style=\"stroke:#000000; stroke-linecap:butt; stroke-linejoin:round; stroke-width:4; stroke-opacity:1; fill:none\" points=\"\n",
       "  1820.64,358.905 2279.53,358.905 2279.53,168.905 1820.64,168.905 1820.64,358.905 \n",
       "  \"/>\n",
       "<polyline clip-path=\"url(#clip910)\" style=\"stroke:#009af9; stroke-linecap:butt; stroke-linejoin:round; stroke-width:4; stroke-opacity:1; fill:none\" points=\"\n",
       "  1845.05,216.405 1991.49,216.405 \n",
       "  \"/>\n",
       "<path clip-path=\"url(#clip910)\" d=\"M2049.95 196.964 L2048.99 205.255 Q2048.92 206.005 2048.81 206.239 Q2048.69 206.45 2048.31 206.45 Q2047.75 206.45 2047.75 205.888 Q2047.75 205.654 2047.84 205.021 Q2047.99 203.733 2047.99 202.421 Q2047.99 200.946 2047.7 200.032 Q2047.45 199.095 2046.7 198.416 Q2045.95 197.737 2044.57 197.456 Q2043.18 197.151 2040.98 197.151 L2034.66 197.151 Q2033.11 197.151 2032.74 197.432 Q2032.39 197.713 2032.06 199.025 L2028.99 211.205 L2033.35 211.205 Q2036.39 211.205 2037.59 210.315 Q2038.78 209.425 2039.53 206.59 Q2039.65 206.145 2039.69 205.981 Q2039.76 205.794 2039.88 205.7 Q2040.02 205.583 2040.26 205.583 Q2040.47 205.583 2040.61 205.724 Q2040.75 205.841 2040.79 205.981 L2040.84 206.122 Q2040.84 206.356 2040.7 206.895 L2038.05 217.295 Q2037.87 217.997 2037.75 218.161 Q2037.66 218.302 2037.33 218.302 Q2037.09 218.302 2036.93 218.138 Q2036.77 217.974 2036.77 217.716 Q2036.81 217.435 2036.91 217.201 Q2037.23 215.772 2037.23 214.859 Q2037.23 214.273 2037.12 213.922 Q2037 213.57 2036.6 213.266 Q2036.2 212.961 2035.38 212.821 Q2034.56 212.68 2033.25 212.68 L2028.62 212.68 L2025.64 224.626 L2025.43 225.727 Q2025.43 226.218 2025.69 226.406 Q2025.97 226.593 2026.98 226.687 Q2028.47 226.804 2029.46 226.804 Q2030.68 226.804 2030.82 226.851 Q2031.1 226.991 2031.1 227.366 Q2031.1 227.788 2030.91 228.022 Q2030.72 228.233 2030.56 228.256 Q2030.4 228.28 2030.09 228.28 L2022.95 228.139 L2016.62 228.28 Q2015.9 228.28 2015.9 227.694 Q2015.9 227.249 2016.08 227.062 Q2016.27 226.851 2016.48 226.827 Q2016.69 226.804 2017.23 226.804 Q2018.4 226.804 2019.11 226.734 Q2019.81 226.664 2020.25 226.57 Q2020.72 226.453 2020.96 226.125 Q2021.21 225.797 2021.33 225.516 Q2021.45 225.211 2021.61 224.532 L2027.94 199.166 Q2028.17 198.299 2028.17 198.018 Q2028.17 197.713 2027.96 197.526 Q2027.77 197.339 2027.26 197.268 Q2026.74 197.175 2026.32 197.175 Q2025.92 197.151 2025.05 197.151 Q2024.49 197.151 2024.26 197.128 Q2024.05 197.104 2023.88 196.987 Q2023.72 196.87 2023.72 196.613 Q2023.72 195.957 2024 195.816 Q2024.31 195.652 2025.15 195.652 L2048.66 195.652 Q2049.6 195.652 2049.81 195.863 Q2050.05 196.05 2049.95 196.964 Z\" fill=\"#000000\" fill-rule=\"evenodd\" fill-opacity=\"1\" /><path clip-path=\"url(#clip910)\" d=\"M2046.42 216.287 Q2046.42 208.183 2049.44 201.648 Q2050.73 198.908 2052.53 196.613 Q2054.34 194.317 2055.53 193.31 Q2056.72 192.303 2057.05 192.303 Q2057.52 192.303 2057.54 192.771 Q2057.54 193.005 2056.91 193.591 Q2049.18 201.461 2049.21 216.287 Q2049.21 231.161 2056.72 238.726 Q2057.54 239.546 2057.54 239.803 Q2057.54 240.272 2057.05 240.272 Q2056.72 240.272 2055.58 239.312 Q2054.43 238.351 2052.65 236.15 Q2050.87 233.948 2049.58 231.254 Q2046.42 224.719 2046.42 216.287 Z\" fill=\"#000000\" fill-rule=\"evenodd\" fill-opacity=\"1\" /><path clip-path=\"url(#clip910)\" d=\"M2088.73 210.244 Q2088.73 211.556 2087.91 212.306 Q2087.09 213.032 2086.15 213.032 Q2085.26 213.032 2084.79 212.516 Q2084.32 212.001 2084.32 211.345 Q2084.32 210.455 2084.98 209.682 Q2085.63 208.909 2086.62 208.745 Q2085.66 208.136 2084.23 208.136 Q2083.29 208.136 2082.47 208.628 Q2081.68 209.12 2081.18 209.752 Q2080.72 210.385 2080.29 211.298 Q2079.9 212.188 2079.73 212.727 Q2079.59 213.242 2079.47 213.805 L2077.83 220.363 Q2077.04 223.478 2077.04 224.579 Q2077.04 225.937 2077.69 226.851 Q2078.35 227.741 2079.66 227.741 Q2080.18 227.741 2080.76 227.6 Q2081.35 227.436 2082.1 227.015 Q2082.87 226.57 2083.55 225.914 Q2084.25 225.235 2084.93 224.087 Q2085.61 222.939 2086.06 221.464 Q2086.2 220.948 2086.66 220.948 Q2087.25 220.948 2087.25 221.417 Q2087.25 221.815 2086.92 222.658 Q2086.62 223.478 2085.94 224.555 Q2085.28 225.609 2084.42 226.57 Q2083.55 227.507 2082.26 228.163 Q2080.97 228.818 2079.57 228.818 Q2077.55 228.818 2076.22 227.741 Q2074.88 226.664 2074.39 225.164 Q2074.27 225.375 2074.11 225.656 Q2073.95 225.937 2073.45 226.57 Q2072.99 227.179 2072.45 227.647 Q2071.91 228.092 2071.06 228.444 Q2070.25 228.818 2069.36 228.818 Q2068.23 228.818 2067.22 228.49 Q2066.24 228.163 2065.54 227.413 Q2064.83 226.664 2064.83 225.633 Q2064.83 224.485 2065.61 223.689 Q2066.4 222.869 2067.48 222.869 Q2068.16 222.869 2068.7 223.267 Q2069.26 223.665 2069.26 224.532 Q2069.26 225.492 2068.61 226.218 Q2067.95 226.945 2067.01 227.132 Q2067.97 227.741 2069.4 227.741 Q2070.95 227.741 2072.17 226.382 Q2073.38 225.024 2073.97 222.752 Q2075.42 217.295 2075.98 214.859 Q2076.55 212.399 2076.55 211.345 Q2076.55 210.361 2076.29 209.682 Q2076.03 209.003 2075.59 208.698 Q2075.16 208.371 2074.77 208.253 Q2074.39 208.136 2073.97 208.136 Q2073.27 208.136 2072.47 208.417 Q2071.7 208.698 2070.76 209.354 Q2069.85 209.987 2068.98 211.298 Q2068.11 212.61 2067.53 214.414 Q2067.41 214.952 2066.9 214.952 Q2066.33 214.929 2066.33 214.46 Q2066.33 214.062 2066.64 213.242 Q2066.97 212.399 2067.62 211.345 Q2068.3 210.291 2069.17 209.354 Q2070.06 208.394 2071.35 207.738 Q2072.66 207.082 2074.06 207.082 Q2074.7 207.082 2075.3 207.223 Q2075.94 207.34 2076.69 207.691 Q2077.46 208.043 2078.14 208.816 Q2078.82 209.589 2079.24 210.713 Q2079.52 210.174 2079.9 209.659 Q2080.29 209.144 2080.9 208.511 Q2081.53 207.855 2082.4 207.481 Q2083.29 207.082 2084.28 207.082 Q2085.24 207.082 2086.17 207.34 Q2087.11 207.574 2087.91 208.347 Q2088.73 209.097 2088.73 210.244 Z\" fill=\"#000000\" fill-rule=\"evenodd\" fill-opacity=\"1\" /><path clip-path=\"url(#clip910)\" d=\"M2091.99 239.803 Q2091.99 239.569 2092.6 238.984 Q2100.33 231.114 2100.33 216.287 Q2100.33 201.414 2092.91 193.896 Q2091.99 193.029 2091.99 192.771 Q2091.99 192.303 2092.46 192.303 Q2092.79 192.303 2093.94 193.263 Q2095.11 194.223 2096.87 196.425 Q2098.65 198.627 2099.96 201.32 Q2103.12 207.855 2103.12 216.287 Q2103.12 224.392 2100.1 230.926 Q2098.81 233.667 2097.01 235.962 Q2095.2 238.258 2094.01 239.265 Q2092.81 240.272 2092.46 240.272 Q2091.99 240.272 2091.99 239.803 Z\" fill=\"#000000\" fill-rule=\"evenodd\" fill-opacity=\"1\" /><polyline clip-path=\"url(#clip910)\" style=\"stroke:#e26f46; stroke-linecap:butt; stroke-linejoin:round; stroke-width:4; stroke-opacity:1; fill:none\" points=\"\n",
       "  1845.05,263.905 1991.49,263.905 \n",
       "  \"/>\n",
       "<path clip-path=\"url(#clip910)\" d=\"M2049.95 242.45 L2046.93 254.676 Q2046.72 255.449 2046.58 255.543 Q2046.46 255.636 2046.09 255.636 Q2045.36 255.636 2045.36 255.144 Q2045.36 255.098 2045.43 254.489 Q2045.5 253.856 2045.5 252.709 Q2045.5 248.469 2043.44 245.963 Q2041.4 243.457 2037.77 243.457 Q2034.38 243.457 2031.12 245.237 Q2027.87 247.017 2025.78 249.64 Q2024.02 251.795 2022.81 254.418 Q2021.61 257.042 2021.12 259.337 Q2020.63 261.609 2020.44 262.991 Q2020.28 264.373 2020.28 265.263 Q2020.28 267.886 2021.12 269.924 Q2021.96 271.938 2023.37 273.086 Q2024.8 274.234 2026.44 274.796 Q2028.1 275.358 2029.9 275.358 Q2030.58 275.358 2031.4 275.264 Q2032.22 275.171 2033.49 274.819 Q2034.78 274.468 2035.83 273.882 Q2036.91 273.297 2037.84 272.173 Q2038.8 271.048 2039.18 269.549 Q2040.19 265.731 2040.19 265.169 Q2040.19 264.701 2039.9 264.537 Q2039.62 264.373 2038.69 264.256 L2036.16 264.162 Q2036.11 264.162 2036.04 264.162 Q2035.59 264.162 2035.41 264.162 Q2035.22 264.139 2035.01 264.092 Q2034.82 264.045 2034.75 263.951 Q2034.7 263.834 2034.7 263.647 Q2034.7 263.202 2034.89 262.991 Q2035.08 262.757 2035.24 262.733 Q2035.41 262.687 2035.71 262.687 L2042.43 262.827 Q2042.97 262.827 2044.94 262.757 Q2046.91 262.687 2047.47 262.687 Q2048.1 262.687 2048.1 263.202 Q2048.1 264.162 2047.33 264.162 Q2046.56 264.186 2046.16 264.209 Q2045.76 264.209 2045.36 264.326 Q2044.99 264.443 2044.85 264.537 Q2044.71 264.607 2044.52 264.958 Q2044.33 265.286 2044.26 265.567 Q2044.19 265.825 2044.03 266.481 Q2043.93 266.903 2043.7 267.699 Q2043.49 268.495 2043.39 268.917 L2042.48 272.618 Q2041.85 275.358 2041.66 275.545 Q2041.57 275.733 2041.33 275.733 Q2040.98 275.733 2040.23 274.702 Q2039.51 273.672 2039.18 272.758 Q2038.59 273.391 2038.22 273.765 Q2037.84 274.117 2036.98 274.679 Q2036.13 275.241 2035.01 275.686 Q2032.27 276.834 2029.01 276.834 Q2023.2 276.834 2019.55 273.156 Q2015.9 269.456 2015.9 263.694 Q2015.9 259.618 2017.77 255.613 Q2019.64 251.608 2022.62 248.633 Q2025.59 245.658 2029.53 243.808 Q2033.46 241.958 2037.4 241.958 Q2038.9 241.958 2040.23 242.356 Q2041.57 242.754 2042.36 243.246 Q2043.18 243.738 2043.91 244.464 Q2044.64 245.167 2044.87 245.494 Q2045.13 245.822 2045.36 246.221 L2048.71 242.543 Q2049.3 241.958 2049.44 241.958 Q2049.72 241.958 2049.84 242.122 Q2049.95 242.286 2049.95 242.45 Z\" fill=\"#000000\" fill-rule=\"evenodd\" fill-opacity=\"1\" /><path clip-path=\"url(#clip910)\" d=\"M2053.21 263.787 Q2053.21 255.683 2056.24 249.148 Q2057.52 246.408 2059.33 244.113 Q2061.13 241.817 2062.33 240.81 Q2063.52 239.803 2063.85 239.803 Q2064.32 239.803 2064.34 240.271 Q2064.34 240.505 2063.71 241.091 Q2055.98 248.961 2056 263.787 Q2056 278.661 2063.52 286.226 Q2064.34 287.046 2064.34 287.303 Q2064.34 287.772 2063.85 287.772 Q2063.52 287.772 2062.37 286.812 Q2061.23 285.851 2059.45 283.65 Q2057.67 281.448 2056.38 278.754 Q2053.21 272.219 2053.21 263.787 Z\" fill=\"#000000\" fill-rule=\"evenodd\" fill-opacity=\"1\" /><path clip-path=\"url(#clip910)\" d=\"M2095.52 257.744 Q2095.52 259.056 2094.7 259.806 Q2093.88 260.532 2092.94 260.532 Q2092.05 260.532 2091.59 260.016 Q2091.12 259.501 2091.12 258.845 Q2091.12 257.955 2091.77 257.182 Q2092.43 256.409 2093.41 256.245 Q2092.45 255.636 2091.02 255.636 Q2090.09 255.636 2089.27 256.128 Q2088.47 256.62 2087.98 257.252 Q2087.51 257.885 2087.09 258.798 Q2086.69 259.688 2086.53 260.227 Q2086.39 260.742 2086.27 261.305 L2084.63 267.863 Q2083.83 270.978 2083.83 272.079 Q2083.83 273.437 2084.49 274.351 Q2085.15 275.241 2086.46 275.241 Q2086.97 275.241 2087.56 275.1 Q2088.14 274.936 2088.89 274.515 Q2089.67 274.07 2090.34 273.414 Q2091.05 272.735 2091.73 271.587 Q2092.41 270.439 2092.85 268.964 Q2092.99 268.448 2093.46 268.448 Q2094.05 268.448 2094.05 268.917 Q2094.05 269.315 2093.72 270.158 Q2093.41 270.978 2092.73 272.055 Q2092.08 273.109 2091.21 274.07 Q2090.34 275.007 2089.06 275.663 Q2087.77 276.318 2086.36 276.318 Q2084.35 276.318 2083.01 275.241 Q2081.68 274.164 2081.19 272.664 Q2081.07 272.875 2080.91 273.156 Q2080.74 273.437 2080.25 274.07 Q2079.78 274.679 2079.24 275.147 Q2078.7 275.592 2077.86 275.944 Q2077.04 276.318 2076.15 276.318 Q2075.03 276.318 2074.02 275.99 Q2073.04 275.663 2072.33 274.913 Q2071.63 274.164 2071.63 273.133 Q2071.63 271.985 2072.4 271.189 Q2073.2 270.369 2074.28 270.369 Q2074.96 270.369 2075.49 270.767 Q2076.06 271.165 2076.06 272.032 Q2076.06 272.992 2075.4 273.718 Q2074.75 274.445 2073.81 274.632 Q2074.77 275.241 2076.2 275.241 Q2077.74 275.241 2078.96 273.882 Q2080.18 272.524 2080.77 270.252 Q2082.22 264.795 2082.78 262.359 Q2083.34 259.899 2083.34 258.845 Q2083.34 257.861 2083.08 257.182 Q2082.83 256.503 2082.38 256.198 Q2081.96 255.871 2081.56 255.753 Q2081.19 255.636 2080.77 255.636 Q2080.06 255.636 2079.27 255.917 Q2078.49 256.198 2077.56 256.854 Q2076.64 257.487 2075.78 258.798 Q2074.91 260.11 2074.32 261.914 Q2074.21 262.452 2073.69 262.452 Q2073.13 262.429 2073.13 261.96 Q2073.13 261.562 2073.43 260.742 Q2073.76 259.899 2074.42 258.845 Q2075.1 257.791 2075.96 256.854 Q2076.85 255.894 2078.14 255.238 Q2079.45 254.582 2080.86 254.582 Q2081.49 254.582 2082.1 254.723 Q2082.73 254.84 2083.48 255.191 Q2084.25 255.543 2084.93 256.316 Q2085.61 257.089 2086.04 258.213 Q2086.32 257.674 2086.69 257.159 Q2087.09 256.644 2087.7 256.011 Q2088.33 255.355 2089.2 254.981 Q2090.09 254.582 2091.07 254.582 Q2092.03 254.582 2092.97 254.84 Q2093.91 255.074 2094.7 255.847 Q2095.52 256.597 2095.52 257.744 Z\" fill=\"#000000\" fill-rule=\"evenodd\" fill-opacity=\"1\" /><path clip-path=\"url(#clip910)\" d=\"M2098.79 287.303 Q2098.79 287.069 2099.4 286.484 Q2107.13 278.614 2107.13 263.787 Q2107.13 248.914 2099.7 241.396 Q2098.79 240.529 2098.79 240.271 Q2098.79 239.803 2099.26 239.803 Q2099.59 239.803 2100.73 240.763 Q2101.9 241.723 2103.66 243.925 Q2105.44 246.127 2106.75 248.82 Q2109.92 255.355 2109.92 263.787 Q2109.92 271.892 2106.89 278.426 Q2105.61 281.167 2103.8 283.462 Q2102 285.758 2100.8 286.765 Q2099.61 287.772 2099.26 287.772 Q2098.79 287.772 2098.79 287.303 Z\" fill=\"#000000\" fill-rule=\"evenodd\" fill-opacity=\"1\" /><polyline clip-path=\"url(#clip910)\" style=\"stroke:#3da44d; stroke-linecap:butt; stroke-linejoin:round; stroke-width:4; stroke-opacity:1; fill:none\" points=\"\n",
       "  1845.05,311.405 1991.49,311.405 \n",
       "  \"/>\n",
       "<path clip-path=\"url(#clip910)\" d=\"M2015.9 311.287 Q2015.9 303.183 2018.92 296.648 Q2020.21 293.908 2022.01 291.613 Q2023.81 289.317 2025.01 288.31 Q2026.2 287.303 2026.53 287.303 Q2027 287.303 2027.02 287.771 Q2027.02 288.005 2026.39 288.591 Q2018.66 296.461 2018.68 311.287 Q2018.68 326.161 2026.2 333.726 Q2027.02 334.546 2027.02 334.803 Q2027.02 335.272 2026.53 335.272 Q2026.2 335.272 2025.05 334.312 Q2023.91 333.351 2022.13 331.15 Q2020.35 328.948 2019.06 326.254 Q2015.9 319.719 2015.9 311.287 Z\" fill=\"#000000\" fill-rule=\"evenodd\" fill-opacity=\"1\" /><path clip-path=\"url(#clip910)\" d=\"M2068.37 289.95 L2065.35 302.176 Q2065.14 302.949 2065 303.043 Q2064.88 303.136 2064.5 303.136 Q2063.78 303.136 2063.78 302.644 Q2063.78 302.598 2063.85 301.989 Q2063.92 301.356 2063.92 300.209 Q2063.92 295.969 2061.86 293.463 Q2059.82 290.957 2056.19 290.957 Q2052.79 290.957 2049.54 292.737 Q2046.28 294.517 2044.2 297.14 Q2042.44 299.295 2041.22 301.918 Q2040.03 304.542 2039.54 306.837 Q2039.04 309.109 2038.86 310.491 Q2038.69 311.873 2038.69 312.763 Q2038.69 315.386 2039.54 317.424 Q2040.38 319.438 2041.78 320.586 Q2043.21 321.734 2044.85 322.296 Q2046.52 322.858 2048.32 322.858 Q2049 322.858 2049.82 322.764 Q2050.64 322.671 2051.9 322.319 Q2053.19 321.968 2054.24 321.382 Q2055.32 320.797 2056.26 319.673 Q2057.22 318.548 2057.59 317.049 Q2058.6 313.231 2058.6 312.669 Q2058.6 312.201 2058.32 312.037 Q2058.04 311.873 2057.1 311.756 L2054.57 311.662 Q2054.53 311.662 2054.46 311.662 Q2054.01 311.662 2053.82 311.662 Q2053.64 311.639 2053.42 311.592 Q2053.24 311.545 2053.17 311.451 Q2053.12 311.334 2053.12 311.147 Q2053.12 310.702 2053.31 310.491 Q2053.5 310.257 2053.66 310.233 Q2053.82 310.187 2054.13 310.187 L2060.85 310.327 Q2061.39 310.327 2063.36 310.257 Q2065.32 310.187 2065.89 310.187 Q2066.52 310.187 2066.52 310.702 Q2066.52 311.662 2065.75 311.662 Q2064.97 311.686 2064.57 311.709 Q2064.18 311.709 2063.78 311.826 Q2063.4 311.943 2063.26 312.037 Q2063.12 312.107 2062.93 312.458 Q2062.75 312.786 2062.68 313.067 Q2062.61 313.325 2062.44 313.981 Q2062.35 314.403 2062.11 315.199 Q2061.9 315.995 2061.81 316.417 L2060.9 320.118 Q2060.26 322.858 2060.08 323.045 Q2059.98 323.233 2059.75 323.233 Q2059.4 323.233 2058.65 322.202 Q2057.92 321.172 2057.59 320.258 Q2057.01 320.891 2056.63 321.265 Q2056.26 321.617 2055.39 322.179 Q2054.55 322.741 2053.42 323.186 Q2050.68 324.334 2047.43 324.334 Q2041.62 324.334 2037.97 320.656 Q2034.31 316.956 2034.31 311.194 Q2034.31 307.118 2036.19 303.113 Q2038.06 299.108 2041.03 296.133 Q2044.01 293.158 2047.94 291.308 Q2051.88 289.458 2055.81 289.458 Q2057.31 289.458 2058.65 289.856 Q2059.98 290.254 2060.78 290.746 Q2061.6 291.238 2062.33 291.964 Q2063.05 292.667 2063.29 292.994 Q2063.54 293.322 2063.78 293.721 L2067.13 290.043 Q2067.71 289.458 2067.85 289.458 Q2068.13 289.458 2068.25 289.622 Q2068.37 289.786 2068.37 289.95 Z\" fill=\"#000000\" fill-rule=\"evenodd\" fill-opacity=\"1\" /><path clip-path=\"url(#clip910)\" d=\"M2097.21 306.205 Q2099.32 308.289 2099.32 311.287 Q2099.32 314.285 2097.21 316.393 Q2095.12 318.478 2092.13 318.478 Q2089.13 318.478 2087.02 316.393 Q2084.93 314.285 2084.93 311.287 Q2084.93 308.289 2087.02 306.205 Q2089.13 304.097 2092.13 304.097 Q2095.12 304.097 2097.21 306.205 M2095.85 315.035 Q2097.4 313.489 2097.4 311.287 Q2097.4 309.086 2095.85 307.563 Q2094.33 306.017 2092.13 306.017 Q2089.92 306.017 2088.38 307.563 Q2086.86 309.086 2086.86 311.287 Q2086.86 313.489 2088.38 315.035 Q2089.92 316.557 2092.13 316.557 Q2094.33 316.557 2095.85 315.035 Z\" fill=\"#000000\" fill-rule=\"evenodd\" fill-opacity=\"1\" /><path clip-path=\"url(#clip910)\" d=\"M2151.85 291.964 L2150.89 300.255 Q2150.82 301.005 2150.7 301.239 Q2150.58 301.45 2150.21 301.45 Q2149.65 301.45 2149.65 300.888 Q2149.65 300.654 2149.74 300.021 Q2149.88 298.733 2149.88 297.421 Q2149.88 295.946 2149.6 295.032 Q2149.34 294.095 2148.59 293.416 Q2147.84 292.737 2146.46 292.456 Q2145.08 292.151 2142.88 292.151 L2136.55 292.151 Q2135.01 292.151 2134.63 292.432 Q2134.28 292.713 2133.95 294.025 L2130.88 306.205 L2135.24 306.205 Q2138.29 306.205 2139.48 305.315 Q2140.68 304.425 2141.42 301.59 Q2141.54 301.145 2141.59 300.981 Q2141.66 300.794 2141.78 300.7 Q2141.92 300.583 2142.15 300.583 Q2142.36 300.583 2142.5 300.724 Q2142.64 300.841 2142.69 300.981 L2142.74 301.122 Q2142.74 301.356 2142.6 301.895 L2139.95 312.295 Q2139.76 312.997 2139.64 313.161 Q2139.55 313.302 2139.22 313.302 Q2138.99 313.302 2138.83 313.138 Q2138.66 312.974 2138.66 312.716 Q2138.71 312.435 2138.8 312.201 Q2139.13 310.772 2139.13 309.859 Q2139.13 309.273 2139.01 308.922 Q2138.9 308.57 2138.5 308.266 Q2138.1 307.961 2137.28 307.821 Q2136.46 307.68 2135.15 307.68 L2130.51 307.68 L2127.54 319.626 L2127.32 320.727 Q2127.32 321.218 2127.58 321.406 Q2127.86 321.593 2128.87 321.687 Q2130.37 321.804 2131.35 321.804 Q2132.57 321.804 2132.71 321.851 Q2132.99 321.991 2132.99 322.366 Q2132.99 322.788 2132.81 323.022 Q2132.62 323.233 2132.45 323.256 Q2132.29 323.28 2131.99 323.28 L2124.84 323.139 L2118.52 323.28 Q2117.79 323.28 2117.79 322.694 Q2117.79 322.249 2117.98 322.062 Q2118.17 321.851 2118.38 321.827 Q2118.59 321.804 2119.13 321.804 Q2120.3 321.804 2121 321.734 Q2121.7 321.664 2122.15 321.57 Q2122.62 321.453 2122.85 321.125 Q2123.11 320.797 2123.23 320.516 Q2123.34 320.211 2123.51 319.532 L2129.83 294.166 Q2130.07 293.299 2130.07 293.018 Q2130.07 292.713 2129.85 292.526 Q2129.67 292.339 2129.15 292.268 Q2128.64 292.175 2128.21 292.175 Q2127.82 292.151 2126.95 292.151 Q2126.39 292.151 2126.15 292.128 Q2125.94 292.104 2125.78 291.987 Q2125.61 291.87 2125.61 291.613 Q2125.61 290.957 2125.9 290.816 Q2126.2 290.652 2127.04 290.652 L2150.56 290.652 Q2151.5 290.652 2151.71 290.863 Q2151.94 291.05 2151.85 291.964 Z\" fill=\"#000000\" fill-rule=\"evenodd\" fill-opacity=\"1\" /><path clip-path=\"url(#clip910)\" d=\"M2148.31 334.803 Q2148.31 334.569 2148.92 333.984 Q2156.65 326.114 2156.65 311.287 Q2156.65 296.414 2149.23 288.896 Q2148.31 288.029 2148.31 287.771 Q2148.31 287.303 2148.78 287.303 Q2149.11 287.303 2150.26 288.263 Q2151.43 289.223 2153.19 291.425 Q2154.97 293.627 2156.28 296.32 Q2159.44 302.855 2159.44 311.287 Q2159.44 319.392 2156.42 325.926 Q2155.13 328.667 2153.33 330.962 Q2151.52 333.258 2150.33 334.265 Q2149.13 335.272 2148.78 335.272 Q2148.31 335.272 2148.31 334.803 Z\" fill=\"#000000\" fill-rule=\"evenodd\" fill-opacity=\"1\" /><path clip-path=\"url(#clip910)\" d=\"M2166.73 311.287 Q2166.73 303.183 2169.75 296.648 Q2171.04 293.908 2172.84 291.613 Q2174.65 289.317 2175.84 288.31 Q2177.04 287.303 2177.36 287.303 Q2177.83 287.303 2177.86 287.771 Q2177.86 288.005 2177.22 288.591 Q2169.49 296.461 2169.52 311.287 Q2169.52 326.161 2177.04 333.726 Q2177.86 334.546 2177.86 334.803 Q2177.86 335.272 2177.36 335.272 Q2177.04 335.272 2175.89 334.312 Q2174.74 333.351 2172.96 331.15 Q2171.18 328.948 2169.89 326.254 Q2166.73 319.719 2166.73 311.287 Z\" fill=\"#000000\" fill-rule=\"evenodd\" fill-opacity=\"1\" /><path clip-path=\"url(#clip910)\" d=\"M2209.04 305.244 Q2209.04 306.556 2208.22 307.306 Q2207.4 308.032 2206.46 308.032 Q2205.57 308.032 2205.1 307.516 Q2204.63 307.001 2204.63 306.345 Q2204.63 305.455 2205.29 304.682 Q2205.94 303.909 2206.93 303.745 Q2205.97 303.136 2204.54 303.136 Q2203.6 303.136 2202.78 303.628 Q2201.99 304.12 2201.49 304.752 Q2201.03 305.385 2200.6 306.298 Q2200.21 307.188 2200.04 307.727 Q2199.9 308.242 2199.78 308.805 L2198.14 315.363 Q2197.35 318.478 2197.35 319.579 Q2197.35 320.937 2198 321.851 Q2198.66 322.741 2199.97 322.741 Q2200.49 322.741 2201.07 322.6 Q2201.66 322.436 2202.41 322.015 Q2203.18 321.57 2203.86 320.914 Q2204.56 320.235 2205.24 319.087 Q2205.92 317.939 2206.37 316.464 Q2206.51 315.948 2206.97 315.948 Q2207.56 315.948 2207.56 316.417 Q2207.56 316.815 2207.23 317.658 Q2206.93 318.478 2206.25 319.555 Q2205.59 320.609 2204.73 321.57 Q2203.86 322.507 2202.57 323.163 Q2201.28 323.818 2199.88 323.818 Q2197.86 323.818 2196.53 322.741 Q2195.19 321.664 2194.7 320.164 Q2194.58 320.375 2194.42 320.656 Q2194.26 320.937 2193.76 321.57 Q2193.3 322.179 2192.76 322.647 Q2192.22 323.092 2191.38 323.444 Q2190.56 323.818 2189.67 323.818 Q2188.54 323.818 2187.53 323.49 Q2186.55 323.163 2185.85 322.413 Q2185.15 321.664 2185.15 320.633 Q2185.15 319.485 2185.92 318.689 Q2186.71 317.869 2187.79 317.869 Q2188.47 317.869 2189.01 318.267 Q2189.57 318.665 2189.57 319.532 Q2189.57 320.492 2188.92 321.218 Q2188.26 321.945 2187.32 322.132 Q2188.28 322.741 2189.71 322.741 Q2191.26 322.741 2192.48 321.382 Q2193.69 320.024 2194.28 317.752 Q2195.73 312.295 2196.29 309.859 Q2196.86 307.399 2196.86 306.345 Q2196.86 305.361 2196.6 304.682 Q2196.34 304.003 2195.9 303.698 Q2195.47 303.371 2195.08 303.253 Q2194.7 303.136 2194.28 303.136 Q2193.58 303.136 2192.78 303.417 Q2192.01 303.698 2191.07 304.354 Q2190.16 304.987 2189.29 306.298 Q2188.42 307.61 2187.84 309.414 Q2187.72 309.952 2187.21 309.952 Q2186.64 309.929 2186.64 309.46 Q2186.64 309.062 2186.95 308.242 Q2187.28 307.399 2187.93 306.345 Q2188.61 305.291 2189.48 304.354 Q2190.37 303.394 2191.66 302.738 Q2192.97 302.082 2194.37 302.082 Q2195.01 302.082 2195.62 302.223 Q2196.25 302.34 2197 302.691 Q2197.77 303.043 2198.45 303.816 Q2199.13 304.589 2199.55 305.713 Q2199.83 305.174 2200.21 304.659 Q2200.6 304.144 2201.21 303.511 Q2201.85 302.855 2202.71 302.481 Q2203.6 302.082 2204.59 302.082 Q2205.55 302.082 2206.48 302.34 Q2207.42 302.574 2208.22 303.347 Q2209.04 304.097 2209.04 305.244 Z\" fill=\"#000000\" fill-rule=\"evenodd\" fill-opacity=\"1\" /><path clip-path=\"url(#clip910)\" d=\"M2212.3 334.803 Q2212.3 334.569 2212.91 333.984 Q2220.64 326.114 2220.64 311.287 Q2220.64 296.414 2213.22 288.896 Q2212.3 288.029 2212.3 287.771 Q2212.3 287.303 2212.77 287.303 Q2213.1 287.303 2214.25 288.263 Q2215.42 289.223 2217.18 291.425 Q2218.96 293.627 2220.27 296.32 Q2223.43 302.855 2223.43 311.287 Q2223.43 319.392 2220.41 325.926 Q2219.12 328.667 2217.32 330.962 Q2215.51 333.258 2214.32 334.265 Q2213.12 335.272 2212.77 335.272 Q2212.3 335.272 2212.3 334.803 Z\" fill=\"#000000\" fill-rule=\"evenodd\" fill-opacity=\"1\" /></svg>\n"
      ]
     },
     "execution_count": 14,
     "metadata": {},
     "output_type": "execute_result"
    }
   ],
   "source": [
    "plot([Eg1_5_11_F, Eg1_5_11_G, Eg1_5_11_G ∘ Eg1_5_11_F], -5, 5,\n",
    "\ttitle = \"Example 1.5.11\", \n",
    "\tlabel = [L\"F(x)\" L\"G(x)\" L\"(G \\circ F)(x)\"])"
   ]
  }
 ],
 "metadata": {
  "kernelspec": {
   "display_name": "Julia 1.6.1",
   "language": "julia",
   "name": "julia-1.6"
  },
  "language_info": {
   "file_extension": ".jl",
   "mimetype": "application/julia",
   "name": "julia",
   "version": "1.6.2"
  },
  "varInspector": {
   "cols": {
    "lenName": 16,
    "lenType": 16,
    "lenVar": 40
   },
   "kernels_config": {
    "python": {
     "delete_cmd_postfix": "",
     "delete_cmd_prefix": "del ",
     "library": "var_list.py",
     "varRefreshCmd": "print(var_dic_list())"
    },
    "r": {
     "delete_cmd_postfix": ") ",
     "delete_cmd_prefix": "rm(",
     "library": "var_list.r",
     "varRefreshCmd": "cat(var_dic_list()) "
    }
   },
   "types_to_exclude": [
    "module",
    "function",
    "builtin_function_or_method",
    "instance",
    "_Feature"
   ],
   "window_display": false
  }
 },
 "nbformat": 4,
 "nbformat_minor": 5
}
