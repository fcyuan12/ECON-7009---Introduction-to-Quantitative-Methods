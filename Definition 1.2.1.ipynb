{
 "cells": [
  {
   "cell_type": "markdown",
   "id": "6a609a8c",
   "metadata": {},
   "source": [
    "### Example: Refer to Definition 1.2.1\n",
    "\n",
    "Let $A = \\{0,1,2,3,4,5,6,7,8,9,10\\}$ and $B = \\{0,2,4,6,8,10\\}$. \n",
    "\n",
    "Find $A \\cup B, A \\cap B$, and $A\\setminus B$."
   ]
  },
  {
   "cell_type": "code",
   "execution_count": 2,
   "id": "c766fb2c",
   "metadata": {},
   "outputs": [
    {
     "data": {
      "text/plain": [
       "Set{Int64} with 11 elements:\n",
       "  5\n",
       "  7\n",
       "  8\n",
       "  1\n",
       "  0\n",
       "  4\n",
       "  6\n",
       "  2\n",
       "  10\n",
       "  9\n",
       "  3"
      ]
     },
     "execution_count": 2,
     "metadata": {},
     "output_type": "execute_result"
    }
   ],
   "source": [
    "A = Set(range(0, 10, step = 1))"
   ]
  },
  {
   "cell_type": "code",
   "execution_count": 3,
   "id": "c2ea8de6",
   "metadata": {},
   "outputs": [
    {
     "data": {
      "text/plain": [
       "Set{Int64} with 6 elements:\n",
       "  0\n",
       "  4\n",
       "  6\n",
       "  2\n",
       "  10\n",
       "  8"
      ]
     },
     "execution_count": 3,
     "metadata": {},
     "output_type": "execute_result"
    }
   ],
   "source": [
    "B = Set(range(0, 10, step = 2))"
   ]
  },
  {
   "cell_type": "code",
   "execution_count": 4,
   "id": "d41fe4f9",
   "metadata": {},
   "outputs": [
    {
     "data": {
      "text/plain": [
       "false"
      ]
     },
     "execution_count": 4,
     "metadata": {},
     "output_type": "execute_result"
    }
   ],
   "source": [
    "A == B"
   ]
  },
  {
   "cell_type": "code",
   "execution_count": 5,
   "id": "cc41eedf",
   "metadata": {},
   "outputs": [
    {
     "data": {
      "text/plain": [
       "Set{Int64} with 11 elements:\n",
       "  5\n",
       "  7\n",
       "  8\n",
       "  1\n",
       "  0\n",
       "  4\n",
       "  6\n",
       "  2\n",
       "  10\n",
       "  9\n",
       "  3"
      ]
     },
     "execution_count": 5,
     "metadata": {},
     "output_type": "execute_result"
    }
   ],
   "source": [
    "∪(A, B) # union(A,B) "
   ]
  },
  {
   "cell_type": "code",
   "execution_count": 6,
   "id": "95d6f283",
   "metadata": {},
   "outputs": [
    {
     "data": {
      "text/plain": [
       "Set{Int64} with 6 elements:\n",
       "  0\n",
       "  4\n",
       "  6\n",
       "  2\n",
       "  10\n",
       "  8"
      ]
     },
     "execution_count": 6,
     "metadata": {},
     "output_type": "execute_result"
    }
   ],
   "source": [
    "∩(A, B) # intersect(A, B)"
   ]
  },
  {
   "cell_type": "code",
   "execution_count": 7,
   "id": "b033b520",
   "metadata": {},
   "outputs": [
    {
     "data": {
      "text/plain": [
       "Set{Int64} with 5 elements:\n",
       "  5\n",
       "  7\n",
       "  1\n",
       "  9\n",
       "  3"
      ]
     },
     "execution_count": 7,
     "metadata": {},
     "output_type": "execute_result"
    }
   ],
   "source": [
    "setdiff(A, B)"
   ]
  }
 ],
 "metadata": {
  "kernelspec": {
   "display_name": "Julia 1.6.1",
   "language": "julia",
   "name": "julia-1.6"
  },
  "language_info": {
   "file_extension": ".jl",
   "mimetype": "application/julia",
   "name": "julia",
   "version": "1.6.2"
  },
  "varInspector": {
   "cols": {
    "lenName": 16,
    "lenType": 16,
    "lenVar": 40
   },
   "kernels_config": {
    "python": {
     "delete_cmd_postfix": "",
     "delete_cmd_prefix": "del ",
     "library": "var_list.py",
     "varRefreshCmd": "print(var_dic_list())"
    },
    "r": {
     "delete_cmd_postfix": ") ",
     "delete_cmd_prefix": "rm(",
     "library": "var_list.r",
     "varRefreshCmd": "cat(var_dic_list()) "
    }
   },
   "types_to_exclude": [
    "module",
    "function",
    "builtin_function_or_method",
    "instance",
    "_Feature"
   ],
   "window_display": false
  }
 },
 "nbformat": 4,
 "nbformat_minor": 5
}
